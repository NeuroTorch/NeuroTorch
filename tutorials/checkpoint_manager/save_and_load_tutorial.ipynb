{
 "cells": [
  {
   "cell_type": "code",
   "execution_count": 1,
   "metadata": {
    "collapsed": true
   },
   "outputs": [],
   "source": [
    "import neurotorch as nt"
   ]
  },
  {
   "cell_type": "code",
   "execution_count": 2,
   "outputs": [
    {
     "name": "stdout",
     "output_type": "stream",
     "text": [
      "CheckpointManager<0>: (priority=100, save_state=False, load_state=False, )\n"
     ]
    }
   ],
   "source": [
    "checkpoint_folder = f\"./checkpoints/network\"\n",
    "checkpoint_manager = nt.CheckpointManager(checkpoint_folder)\n",
    "print(checkpoint_manager)"
   ],
   "metadata": {
    "collapsed": false
   }
  },
  {
   "cell_type": "code",
   "execution_count": 3,
   "outputs": [
    {
     "name": "stdout",
     "output_type": "stream",
     "text": [
      "Sequential(\n",
      "  (_to_device_transform): ToDevice(cuda, async=True)\n",
      "  (input_layers): ModuleDict()\n",
      "  (hidden_layers): ModuleList()\n",
      "  (output_layers): ModuleDict(\n",
      "    (output_0): Linear<output_0>(10->10)@cuda\n",
      "  )\n",
      "  (input_transform): ModuleDict(\n",
      "    (output_0): Sequential(\n",
      "      (0): CallableToModuleWrapper(Compose(\n",
      "          ToTensor()\n",
      "      ))\n",
      "      (1): ToDevice(cuda, async=True)\n",
      "    )\n",
      "  )\n",
      "  (output_transform): ModuleDict(\n",
      "    (output_0): IdentityTransform()\n",
      "  )\n",
      ")\n"
     ]
    }
   ],
   "source": [
    "network = nt.Sequential(layers=[nt.Linear(10, 10)], checkpoint_folder=checkpoint_folder).build()\n",
    "print(network)"
   ],
   "metadata": {
    "collapsed": false
   }
  },
  {
   "cell_type": "code",
   "execution_count": 4,
   "outputs": [
    {
     "data": {
      "text/plain": "'./checkpoints/network/network-checkpoints.json'"
     },
     "execution_count": 4,
     "metadata": {},
     "output_type": "execute_result"
    }
   ],
   "source": [
    "checkpoint_manager.checkpoints_meta_path"
   ],
   "metadata": {
    "collapsed": false
   }
  },
  {
   "cell_type": "code",
   "execution_count": 5,
   "outputs": [
    {
     "data": {
      "text/plain": "'./checkpoints/network\\\\network-itr0.pth'"
     },
     "execution_count": 5,
     "metadata": {},
     "output_type": "execute_result"
    }
   ],
   "source": [
    "checkpoint_manager.save_checkpoint(itr=0, itr_metrics={}, state_dict=network.state_dict())"
   ],
   "metadata": {
    "collapsed": false
   }
  },
  {
   "cell_type": "code",
   "execution_count": 6,
   "outputs": [
    {
     "data": {
      "text/plain": "tensor([[0., 0., 0., 0., 0., 0., 0., 0., 0., 0.],\n        [0., 0., 0., 0., 0., 0., 0., 0., 0., 0.],\n        [0., 0., 0., 0., 0., 0., 0., 0., 0., 0.],\n        [0., 0., 0., 0., 0., 0., 0., 0., 0., 0.],\n        [0., 0., 0., 0., 0., 0., 0., 0., 0., 0.],\n        [0., 0., 0., 0., 0., 0., 0., 0., 0., 0.],\n        [0., 0., 0., 0., 0., 0., 0., 0., 0., 0.],\n        [0., 0., 0., 0., 0., 0., 0., 0., 0., 0.],\n        [0., 0., 0., 0., 0., 0., 0., 0., 0., 0.],\n        [0., 0., 0., 0., 0., 0., 0., 0., 0., 0.]], device='cuda:0')"
     },
     "execution_count": 6,
     "metadata": {},
     "output_type": "execute_result"
    }
   ],
   "source": [
    "network.get_layer().forward_weights.data.zero_()"
   ],
   "metadata": {
    "collapsed": false
   }
  },
  {
   "cell_type": "code",
   "execution_count": 7,
   "outputs": [
    {
     "data": {
      "text/plain": "{'itr': 0,\n 'model_state_dict': OrderedDict([('output_layers.output_0.bias_weights',\n               tensor([0., 0., 0., 0., 0., 0., 0., 0., 0., 0.], device='cuda:0')),\n              ('output_layers.output_0._forward_weights',\n               tensor([[-7.3540e-01,  4.3947e-01,  4.3454e-04, -1.5365e-01,  2.7009e-01,\n                         1.1282e-01,  4.2071e-02, -2.2711e-01,  3.6099e-01,  1.5909e-01],\n                       [-4.6935e-02, -1.7355e-01,  2.8171e-01,  3.0744e-01, -3.5100e-01,\n                         1.7603e-02,  6.6100e-02,  1.3925e-01, -7.1727e-02, -9.7251e-03],\n                       [-7.4916e-02, -3.1412e-02,  1.8288e-01,  4.4510e-01,  9.3525e-02,\n                         2.9784e-02,  1.2521e-01, -7.2491e-02, -4.5314e-01,  3.9042e-01],\n                       [-1.9225e-01,  1.7739e-01,  2.8031e-01,  2.1685e-01,  1.9586e-01,\n                        -1.3653e-01,  7.9019e-02,  1.3299e-01,  3.2456e-01, -4.5222e-01],\n                       [-8.3174e-02, -3.9672e-01,  2.9031e-01, -1.6875e-01,  4.6306e-02,\n                         4.1986e-01, -1.4235e-01,  2.3946e-02,  2.3502e-01, -4.7609e-01],\n                       [ 1.9356e-02, -2.1739e-02,  1.7779e-01, -3.4789e-02,  4.4785e-02,\n                         8.8605e-02,  2.9104e-01,  1.5570e-01, -7.0589e-01,  2.3611e-01],\n                       [-3.1387e-01, -4.6288e-01,  3.2183e-02,  5.0033e-02,  1.3759e-02,\n                        -3.2131e-01, -4.4193e-01,  2.6762e-01, -2.3519e-01,  4.1373e-01],\n                       [ 3.5554e-01, -2.5519e-01,  1.3032e-01,  1.3117e-01, -1.0465e-01,\n                         1.3751e-01,  8.2889e-02,  2.9038e-02, -3.0066e-01, -2.5166e-02],\n                       [-1.0801e-02, -2.3561e-01,  8.0063e-02,  2.4825e-01,  3.6940e-01,\n                        -5.7543e-01, -2.2124e-02,  2.3179e-01,  4.3978e-02, -1.3337e-01],\n                       [-2.6167e-02,  3.4522e-01, -6.3368e-02,  6.5590e-02, -1.7582e-01,\n                        -7.7795e-02, -1.5273e-01,  1.7656e-01,  1.3137e-01, -2.3871e-01]],\n                      device='cuda:0'))]),\n 'optimizer_state_dict': None,\n 'metrics': {},\n 'training_history': None}"
     },
     "execution_count": 7,
     "metadata": {},
     "output_type": "execute_result"
    }
   ],
   "source": [
    "network.load_checkpoint(checkpoints_meta_path=checkpoint_manager.checkpoints_meta_path, load_checkpoint_mode=nt.LoadCheckpointMode.LAST_ITR)"
   ],
   "metadata": {
    "collapsed": false
   }
  },
  {
   "cell_type": "code",
   "execution_count": 8,
   "outputs": [
    {
     "data": {
      "text/plain": "Parameter containing:\ntensor([[-7.3540e-01,  4.3947e-01,  4.3454e-04, -1.5365e-01,  2.7009e-01,\n          1.1282e-01,  4.2071e-02, -2.2711e-01,  3.6099e-01,  1.5909e-01],\n        [-4.6935e-02, -1.7355e-01,  2.8171e-01,  3.0744e-01, -3.5100e-01,\n          1.7603e-02,  6.6100e-02,  1.3925e-01, -7.1727e-02, -9.7251e-03],\n        [-7.4916e-02, -3.1412e-02,  1.8288e-01,  4.4510e-01,  9.3525e-02,\n          2.9784e-02,  1.2521e-01, -7.2491e-02, -4.5314e-01,  3.9042e-01],\n        [-1.9225e-01,  1.7739e-01,  2.8031e-01,  2.1685e-01,  1.9586e-01,\n         -1.3653e-01,  7.9019e-02,  1.3299e-01,  3.2456e-01, -4.5222e-01],\n        [-8.3174e-02, -3.9672e-01,  2.9031e-01, -1.6875e-01,  4.6306e-02,\n          4.1986e-01, -1.4235e-01,  2.3946e-02,  2.3502e-01, -4.7609e-01],\n        [ 1.9356e-02, -2.1739e-02,  1.7779e-01, -3.4789e-02,  4.4785e-02,\n          8.8605e-02,  2.9104e-01,  1.5570e-01, -7.0589e-01,  2.3611e-01],\n        [-3.1387e-01, -4.6288e-01,  3.2183e-02,  5.0033e-02,  1.3759e-02,\n         -3.2131e-01, -4.4193e-01,  2.6762e-01, -2.3519e-01,  4.1373e-01],\n        [ 3.5554e-01, -2.5519e-01,  1.3032e-01,  1.3117e-01, -1.0465e-01,\n          1.3751e-01,  8.2889e-02,  2.9038e-02, -3.0066e-01, -2.5166e-02],\n        [-1.0801e-02, -2.3561e-01,  8.0063e-02,  2.4825e-01,  3.6940e-01,\n         -5.7543e-01, -2.2124e-02,  2.3179e-01,  4.3978e-02, -1.3337e-01],\n        [-2.6167e-02,  3.4522e-01, -6.3368e-02,  6.5590e-02, -1.7582e-01,\n         -7.7795e-02, -1.5273e-01,  1.7656e-01,  1.3137e-01, -2.3871e-01]],\n       device='cuda:0', requires_grad=True)"
     },
     "execution_count": 8,
     "metadata": {},
     "output_type": "execute_result"
    }
   ],
   "source": [
    "network.get_layer().forward_weights"
   ],
   "metadata": {
    "collapsed": false
   }
  },
  {
   "cell_type": "code",
   "execution_count": null,
   "outputs": [],
   "source": [],
   "metadata": {
    "collapsed": false
   }
  }
 ],
 "metadata": {
  "kernelspec": {
   "display_name": "Python 3",
   "language": "python",
   "name": "python3"
  },
  "language_info": {
   "codemirror_mode": {
    "name": "ipython",
    "version": 2
   },
   "file_extension": ".py",
   "mimetype": "text/x-python",
   "name": "python",
   "nbconvert_exporter": "python",
   "pygments_lexer": "ipython2",
   "version": "2.7.6"
  }
 },
 "nbformat": 4,
 "nbformat_minor": 0
}
