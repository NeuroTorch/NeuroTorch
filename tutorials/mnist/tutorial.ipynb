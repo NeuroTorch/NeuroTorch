{
 "cells": [
  {
   "cell_type": "markdown",
   "source": [
    "# MNIST Tutorial"
   ],
   "metadata": {
    "collapsed": false,
    "pycharm": {
     "name": "#%% md\n"
    }
   }
  },
  {
   "cell_type": "markdown",
   "source": [
    "In this tutorial we will be learning how to use NeuroTorch to train a neural network to recognize handwritten digits."
   ],
   "metadata": {
    "collapsed": false,
    "pycharm": {
     "name": "#%% md\n"
    }
   }
  },
  {
   "cell_type": "markdown",
   "source": [
    "## Setup"
   ],
   "metadata": {
    "collapsed": false,
    "pycharm": {
     "name": "#%% md\n"
    }
   }
  },
  {
   "cell_type": "markdown",
   "source": [
    "You can now install the dependencies by running the following commands:"
   ],
   "metadata": {
    "collapsed": false,
    "pycharm": {
     "name": "#%% md\n"
    }
   }
  },
  {
   "cell_type": "code",
   "execution_count": 1,
   "outputs": [
    {
     "name": "stdout",
     "output_type": "stream",
     "text": [
      "Collecting git+https://github.com/JeremieGince/PythonBasicTools (from -r mnist_requirements.txt (line 12))\n",
      "  Cloning https://github.com/JeremieGince/PythonBasicTools to c:\\users\\gince\\appdata\\local\\temp\\pip-req-build-7n5da0wn\n",
      "  Resolved https://github.com/JeremieGince/PythonBasicTools to commit 63b55f13565762b20503a55c3abf4105e0f28064\n",
      "  Installing build dependencies: started\n",
      "  Installing build dependencies: finished with status 'done'\n",
      "  Getting requirements to build wheel: started\n",
      "  Getting requirements to build wheel: finished with status 'done'\n",
      "  Preparing metadata (pyproject.toml): started\n",
      "  Preparing metadata (pyproject.toml): finished with status 'done'\n",
      "Collecting matplotlib>=3.5.2\n",
      "  Using cached matplotlib-3.6.0-cp39-cp39-win_amd64.whl (7.2 MB)\n",
      "Requirement already satisfied: numpy>=1.23.0 in e:\\github\\neurotorch\\tutorials\\mnist\\mnist_venv\\lib\\site-packages (from -r mnist_requirements.txt (line 2)) (1.23.3)\n",
      "Requirement already satisfied: setuptools>=60.2.0 in e:\\github\\neurotorch\\tutorials\\mnist\\mnist_venv\\lib\\site-packages (from -r mnist_requirements.txt (line 3)) (60.2.0)\n",
      "Requirement already satisfied: torch>=1.11.0 in e:\\github\\neurotorch\\tutorials\\mnist\\mnist_venv\\lib\\site-packages (from -r mnist_requirements.txt (line 4)) (1.12.1+cu116)\n",
      "Requirement already satisfied: torchvision>=0.12.0 in e:\\github\\neurotorch\\tutorials\\mnist\\mnist_venv\\lib\\site-packages (from -r mnist_requirements.txt (line 5)) (0.13.1+cu116)\n",
      "Collecting tqdm>=4.64.0\n",
      "  Using cached tqdm-4.64.1-py2.py3-none-any.whl (78 kB)\n",
      "Requirement already satisfied: psutil>=5.9.1 in e:\\github\\neurotorch\\tutorials\\mnist\\mnist_venv\\lib\\site-packages (from -r mnist_requirements.txt (line 8)) (5.9.2)\n",
      "Collecting pandas>=1.4.3\n",
      "  Using cached pandas-1.5.0-cp39-cp39-win_amd64.whl (10.9 MB)\n",
      "Collecting scikit-learn>=1.1.1\n",
      "  Using cached scikit_learn-1.1.2-cp39-cp39-win_amd64.whl (7.4 MB)\n",
      "Requirement already satisfied: jupyter in e:\\github\\neurotorch\\tutorials\\mnist\\mnist_venv\\lib\\site-packages (from -r mnist_requirements.txt (line 11)) (1.0.0)\n",
      "Collecting contourpy>=1.0.1\n",
      "  Using cached contourpy-1.0.5-cp39-cp39-win_amd64.whl (161 kB)\n",
      "Requirement already satisfied: python-dateutil>=2.7 in e:\\github\\neurotorch\\tutorials\\mnist\\mnist_venv\\lib\\site-packages (from matplotlib>=3.5.2->-r mnist_requirements.txt (line 1)) (2.8.2)\n",
      "Requirement already satisfied: pyparsing>=2.2.1 in e:\\github\\neurotorch\\tutorials\\mnist\\mnist_venv\\lib\\site-packages (from matplotlib>=3.5.2->-r mnist_requirements.txt (line 1)) (3.0.9)\n",
      "Requirement already satisfied: packaging>=20.0 in e:\\github\\neurotorch\\tutorials\\mnist\\mnist_venv\\lib\\site-packages (from matplotlib>=3.5.2->-r mnist_requirements.txt (line 1)) (21.3)\n",
      "Collecting kiwisolver>=1.0.1\n",
      "  Using cached kiwisolver-1.4.4-cp39-cp39-win_amd64.whl (55 kB)\n",
      "Requirement already satisfied: pillow>=6.2.0 in e:\\github\\neurotorch\\tutorials\\mnist\\mnist_venv\\lib\\site-packages (from matplotlib>=3.5.2->-r mnist_requirements.txt (line 1)) (9.2.0)\n",
      "Collecting fonttools>=4.22.0\n",
      "  Using cached fonttools-4.37.3-py3-none-any.whl (959 kB)\n",
      "Collecting cycler>=0.10\n",
      "  Using cached cycler-0.11.0-py3-none-any.whl (6.4 kB)\n",
      "Requirement already satisfied: typing-extensions in e:\\github\\neurotorch\\tutorials\\mnist\\mnist_venv\\lib\\site-packages (from torch>=1.11.0->-r mnist_requirements.txt (line 4)) (4.3.0)\n",
      "Requirement already satisfied: requests in e:\\github\\neurotorch\\tutorials\\mnist\\mnist_venv\\lib\\site-packages (from torchvision>=0.12.0->-r mnist_requirements.txt (line 5)) (2.28.1)\n",
      "Requirement already satisfied: colorama in e:\\github\\neurotorch\\tutorials\\mnist\\mnist_venv\\lib\\site-packages (from tqdm>=4.64.0->-r mnist_requirements.txt (line 6)) (0.4.5)\n",
      "Collecting pytz>=2020.1\n",
      "  Using cached pytz-2022.2.1-py2.py3-none-any.whl (500 kB)\n",
      "Collecting joblib>=1.0.0\n",
      "  Using cached joblib-1.2.0-py3-none-any.whl (297 kB)\n",
      "Collecting scipy>=1.3.2\n",
      "  Using cached scipy-1.9.1-cp39-cp39-win_amd64.whl (38.6 MB)\n",
      "Collecting threadpoolctl>=2.0.0\n",
      "  Using cached threadpoolctl-3.1.0-py3-none-any.whl (14 kB)\n",
      "Requirement already satisfied: jupyter-console in e:\\github\\neurotorch\\tutorials\\mnist\\mnist_venv\\lib\\site-packages (from jupyter->-r mnist_requirements.txt (line 11)) (6.4.4)\n",
      "Requirement already satisfied: ipykernel in e:\\github\\neurotorch\\tutorials\\mnist\\mnist_venv\\lib\\site-packages (from jupyter->-r mnist_requirements.txt (line 11)) (6.15.3)\n",
      "Requirement already satisfied: qtconsole in e:\\github\\neurotorch\\tutorials\\mnist\\mnist_venv\\lib\\site-packages (from jupyter->-r mnist_requirements.txt (line 11)) (5.3.2)\n",
      "Requirement already satisfied: nbconvert in e:\\github\\neurotorch\\tutorials\\mnist\\mnist_venv\\lib\\site-packages (from jupyter->-r mnist_requirements.txt (line 11)) (7.0.0)\n",
      "Requirement already satisfied: ipywidgets in e:\\github\\neurotorch\\tutorials\\mnist\\mnist_venv\\lib\\site-packages (from jupyter->-r mnist_requirements.txt (line 11)) (8.0.2)\n",
      "Requirement already satisfied: notebook in e:\\github\\neurotorch\\tutorials\\mnist\\mnist_venv\\lib\\site-packages (from jupyter->-r mnist_requirements.txt (line 11)) (6.4.12)\n",
      "Collecting docutils>=0.17.1\n",
      "  Using cached docutils-0.19-py3-none-any.whl (570 kB)\n",
      "Collecting pytest>=7.1.2\n",
      "  Using cached pytest-7.1.3-py3-none-any.whl (298 kB)\n",
      "Requirement already satisfied: attrs>=19.2.0 in e:\\github\\neurotorch\\tutorials\\mnist\\mnist_venv\\lib\\site-packages (from pytest>=7.1.2->PythonBasicTools==0.0.0.1->-r mnist_requirements.txt (line 12)) (22.1.0)\n",
      "Collecting tomli>=1.0.0\n",
      "  Using cached tomli-2.0.1-py3-none-any.whl (12 kB)\n",
      "Collecting iniconfig\n",
      "  Using cached iniconfig-1.1.1-py2.py3-none-any.whl (5.0 kB)\n",
      "Collecting pluggy<2.0,>=0.12\n",
      "  Using cached pluggy-1.0.0-py2.py3-none-any.whl (13 kB)\n",
      "Collecting py>=1.8.2\n",
      "  Using cached py-1.11.0-py2.py3-none-any.whl (98 kB)\n",
      "Requirement already satisfied: six>=1.5 in e:\\github\\neurotorch\\tutorials\\mnist\\mnist_venv\\lib\\site-packages (from python-dateutil>=2.7->matplotlib>=3.5.2->-r mnist_requirements.txt (line 1)) (1.16.0)\n",
      "Requirement already satisfied: nest-asyncio in e:\\github\\neurotorch\\tutorials\\mnist\\mnist_venv\\lib\\site-packages (from ipykernel->jupyter->-r mnist_requirements.txt (line 11)) (1.5.5)\n",
      "Requirement already satisfied: matplotlib-inline>=0.1 in e:\\github\\neurotorch\\tutorials\\mnist\\mnist_venv\\lib\\site-packages (from ipykernel->jupyter->-r mnist_requirements.txt (line 11)) (0.1.6)\n",
      "Requirement already satisfied: debugpy>=1.0 in e:\\github\\neurotorch\\tutorials\\mnist\\mnist_venv\\lib\\site-packages (from ipykernel->jupyter->-r mnist_requirements.txt (line 11)) (1.6.3)\n",
      "Requirement already satisfied: pyzmq>=17 in e:\\github\\neurotorch\\tutorials\\mnist\\mnist_venv\\lib\\site-packages (from ipykernel->jupyter->-r mnist_requirements.txt (line 11)) (24.0.0)\n",
      "Requirement already satisfied: tornado>=6.1 in e:\\github\\neurotorch\\tutorials\\mnist\\mnist_venv\\lib\\site-packages (from ipykernel->jupyter->-r mnist_requirements.txt (line 11)) (6.2)\n",
      "Requirement already satisfied: jupyter-client>=6.1.12 in e:\\github\\neurotorch\\tutorials\\mnist\\mnist_venv\\lib\\site-packages (from ipykernel->jupyter->-r mnist_requirements.txt (line 11)) (7.3.5)\n",
      "Requirement already satisfied: traitlets>=5.1.0 in e:\\github\\neurotorch\\tutorials\\mnist\\mnist_venv\\lib\\site-packages (from ipykernel->jupyter->-r mnist_requirements.txt (line 11)) (5.4.0)\n",
      "Requirement already satisfied: ipython>=7.23.1 in e:\\github\\neurotorch\\tutorials\\mnist\\mnist_venv\\lib\\site-packages (from ipykernel->jupyter->-r mnist_requirements.txt (line 11)) (8.5.0)\n",
      "Requirement already satisfied: widgetsnbextension~=4.0 in e:\\github\\neurotorch\\tutorials\\mnist\\mnist_venv\\lib\\site-packages (from ipywidgets->jupyter->-r mnist_requirements.txt (line 11)) (4.0.3)\n",
      "Requirement already satisfied: jupyterlab-widgets~=3.0 in e:\\github\\neurotorch\\tutorials\\mnist\\mnist_venv\\lib\\site-packages (from ipywidgets->jupyter->-r mnist_requirements.txt (line 11)) (3.0.3)\n",
      "Requirement already satisfied: pygments in e:\\github\\neurotorch\\tutorials\\mnist\\mnist_venv\\lib\\site-packages (from jupyter-console->jupyter->-r mnist_requirements.txt (line 11)) (2.13.0)\n",
      "Requirement already satisfied: prompt-toolkit!=3.0.0,!=3.0.1,<3.1.0,>=2.0.0 in e:\\github\\neurotorch\\tutorials\\mnist\\mnist_venv\\lib\\site-packages (from jupyter-console->jupyter->-r mnist_requirements.txt (line 11)) (3.0.31)\n",
      "Requirement already satisfied: jupyterlab-pygments in e:\\github\\neurotorch\\tutorials\\mnist\\mnist_venv\\lib\\site-packages (from nbconvert->jupyter->-r mnist_requirements.txt (line 11)) (0.2.2)\n",
      "Requirement already satisfied: bleach in e:\\github\\neurotorch\\tutorials\\mnist\\mnist_venv\\lib\\site-packages (from nbconvert->jupyter->-r mnist_requirements.txt (line 11)) (5.0.1)\n",
      "Requirement already satisfied: lxml in e:\\github\\neurotorch\\tutorials\\mnist\\mnist_venv\\lib\\site-packages (from nbconvert->jupyter->-r mnist_requirements.txt (line 11)) (4.9.1)\n",
      "Requirement already satisfied: pandocfilters>=1.4.1 in e:\\github\\neurotorch\\tutorials\\mnist\\mnist_venv\\lib\\site-packages (from nbconvert->jupyter->-r mnist_requirements.txt (line 11)) (1.5.0)\n",
      "Requirement already satisfied: importlib-metadata>=3.6 in e:\\github\\neurotorch\\tutorials\\mnist\\mnist_venv\\lib\\site-packages (from nbconvert->jupyter->-r mnist_requirements.txt (line 11)) (4.12.0)\n",
      "Requirement already satisfied: nbformat>=5.1 in e:\\github\\neurotorch\\tutorials\\mnist\\mnist_venv\\lib\\site-packages (from nbconvert->jupyter->-r mnist_requirements.txt (line 11)) (5.5.0)\n",
      "Requirement already satisfied: jupyter-core>=4.7 in e:\\github\\neurotorch\\tutorials\\mnist\\mnist_venv\\lib\\site-packages (from nbconvert->jupyter->-r mnist_requirements.txt (line 11)) (4.11.1)\n",
      "Requirement already satisfied: nbclient>=0.5.0 in e:\\github\\neurotorch\\tutorials\\mnist\\mnist_venv\\lib\\site-packages (from nbconvert->jupyter->-r mnist_requirements.txt (line 11)) (0.6.8)\n",
      "Requirement already satisfied: jinja2>=3.0 in e:\\github\\neurotorch\\tutorials\\mnist\\mnist_venv\\lib\\site-packages (from nbconvert->jupyter->-r mnist_requirements.txt (line 11)) (3.1.2)\n",
      "Requirement already satisfied: defusedxml in e:\\github\\neurotorch\\tutorials\\mnist\\mnist_venv\\lib\\site-packages (from nbconvert->jupyter->-r mnist_requirements.txt (line 11)) (0.7.1)\n",
      "Requirement already satisfied: markupsafe>=2.0 in e:\\github\\neurotorch\\tutorials\\mnist\\mnist_venv\\lib\\site-packages (from nbconvert->jupyter->-r mnist_requirements.txt (line 11)) (2.1.1)\n",
      "Requirement already satisfied: mistune<3,>=2.0.3 in e:\\github\\neurotorch\\tutorials\\mnist\\mnist_venv\\lib\\site-packages (from nbconvert->jupyter->-r mnist_requirements.txt (line 11)) (2.0.4)\n",
      "Requirement already satisfied: beautifulsoup4 in e:\\github\\neurotorch\\tutorials\\mnist\\mnist_venv\\lib\\site-packages (from nbconvert->jupyter->-r mnist_requirements.txt (line 11)) (4.11.1)\n",
      "Requirement already satisfied: tinycss2 in e:\\github\\neurotorch\\tutorials\\mnist\\mnist_venv\\lib\\site-packages (from nbconvert->jupyter->-r mnist_requirements.txt (line 11)) (1.1.1)\n",
      "Requirement already satisfied: prometheus-client in e:\\github\\neurotorch\\tutorials\\mnist\\mnist_venv\\lib\\site-packages (from notebook->jupyter->-r mnist_requirements.txt (line 11)) (0.14.1)\n",
      "Requirement already satisfied: ipython-genutils in e:\\github\\neurotorch\\tutorials\\mnist\\mnist_venv\\lib\\site-packages (from notebook->jupyter->-r mnist_requirements.txt (line 11)) (0.2.0)\n",
      "Requirement already satisfied: Send2Trash>=1.8.0 in e:\\github\\neurotorch\\tutorials\\mnist\\mnist_venv\\lib\\site-packages (from notebook->jupyter->-r mnist_requirements.txt (line 11)) (1.8.0)\n",
      "Requirement already satisfied: terminado>=0.8.3 in e:\\github\\neurotorch\\tutorials\\mnist\\mnist_venv\\lib\\site-packages (from notebook->jupyter->-r mnist_requirements.txt (line 11)) (0.15.0)\n",
      "Requirement already satisfied: argon2-cffi in e:\\github\\neurotorch\\tutorials\\mnist\\mnist_venv\\lib\\site-packages (from notebook->jupyter->-r mnist_requirements.txt (line 11)) (21.3.0)\n",
      "Requirement already satisfied: qtpy>=2.0.1 in e:\\github\\neurotorch\\tutorials\\mnist\\mnist_venv\\lib\\site-packages (from qtconsole->jupyter->-r mnist_requirements.txt (line 11)) (2.2.0)\n",
      "Requirement already satisfied: certifi>=2017.4.17 in e:\\github\\neurotorch\\tutorials\\mnist\\mnist_venv\\lib\\site-packages (from requests->torchvision>=0.12.0->-r mnist_requirements.txt (line 5)) (2022.9.14)\n",
      "Requirement already satisfied: urllib3<1.27,>=1.21.1 in e:\\github\\neurotorch\\tutorials\\mnist\\mnist_venv\\lib\\site-packages (from requests->torchvision>=0.12.0->-r mnist_requirements.txt (line 5)) (1.26.12)\n",
      "Requirement already satisfied: idna<4,>=2.5 in e:\\github\\neurotorch\\tutorials\\mnist\\mnist_venv\\lib\\site-packages (from requests->torchvision>=0.12.0->-r mnist_requirements.txt (line 5)) (3.4)\n",
      "Requirement already satisfied: charset-normalizer<3,>=2 in e:\\github\\neurotorch\\tutorials\\mnist\\mnist_venv\\lib\\site-packages (from requests->torchvision>=0.12.0->-r mnist_requirements.txt (line 5)) (2.1.1)\n",
      "Requirement already satisfied: zipp>=0.5 in e:\\github\\neurotorch\\tutorials\\mnist\\mnist_venv\\lib\\site-packages (from importlib-metadata>=3.6->nbconvert->jupyter->-r mnist_requirements.txt (line 11)) (3.8.1)\n",
      "Requirement already satisfied: backcall in e:\\github\\neurotorch\\tutorials\\mnist\\mnist_venv\\lib\\site-packages (from ipython>=7.23.1->ipykernel->jupyter->-r mnist_requirements.txt (line 11)) (0.2.0)\n",
      "Requirement already satisfied: jedi>=0.16 in e:\\github\\neurotorch\\tutorials\\mnist\\mnist_venv\\lib\\site-packages (from ipython>=7.23.1->ipykernel->jupyter->-r mnist_requirements.txt (line 11)) (0.18.1)\n",
      "Requirement already satisfied: stack-data in e:\\github\\neurotorch\\tutorials\\mnist\\mnist_venv\\lib\\site-packages (from ipython>=7.23.1->ipykernel->jupyter->-r mnist_requirements.txt (line 11)) (0.5.0)\n",
      "Requirement already satisfied: decorator in e:\\github\\neurotorch\\tutorials\\mnist\\mnist_venv\\lib\\site-packages (from ipython>=7.23.1->ipykernel->jupyter->-r mnist_requirements.txt (line 11)) (5.1.1)\n",
      "Requirement already satisfied: pickleshare in e:\\github\\neurotorch\\tutorials\\mnist\\mnist_venv\\lib\\site-packages (from ipython>=7.23.1->ipykernel->jupyter->-r mnist_requirements.txt (line 11)) (0.7.5)\n",
      "Requirement already satisfied: entrypoints in e:\\github\\neurotorch\\tutorials\\mnist\\mnist_venv\\lib\\site-packages (from jupyter-client>=6.1.12->ipykernel->jupyter->-r mnist_requirements.txt (line 11)) (0.4)\n",
      "Requirement already satisfied: pywin32>=1.0 in e:\\github\\neurotorch\\tutorials\\mnist\\mnist_venv\\lib\\site-packages (from jupyter-core>=4.7->nbconvert->jupyter->-r mnist_requirements.txt (line 11)) (304)\n",
      "Requirement already satisfied: fastjsonschema in e:\\github\\neurotorch\\tutorials\\mnist\\mnist_venv\\lib\\site-packages (from nbformat>=5.1->nbconvert->jupyter->-r mnist_requirements.txt (line 11)) (2.16.2)\n",
      "Requirement already satisfied: jsonschema>=2.6 in e:\\github\\neurotorch\\tutorials\\mnist\\mnist_venv\\lib\\site-packages (from nbformat>=5.1->nbconvert->jupyter->-r mnist_requirements.txt (line 11)) (4.16.0)\n",
      "Requirement already satisfied: wcwidth in e:\\github\\neurotorch\\tutorials\\mnist\\mnist_venv\\lib\\site-packages (from prompt-toolkit!=3.0.0,!=3.0.1,<3.1.0,>=2.0.0->jupyter-console->jupyter->-r mnist_requirements.txt (line 11)) (0.2.5)\n",
      "Requirement already satisfied: pywinpty>=1.1.0 in e:\\github\\neurotorch\\tutorials\\mnist\\mnist_venv\\lib\\site-packages (from terminado>=0.8.3->notebook->jupyter->-r mnist_requirements.txt (line 11)) (2.0.8)\n",
      "Requirement already satisfied: argon2-cffi-bindings in e:\\github\\neurotorch\\tutorials\\mnist\\mnist_venv\\lib\\site-packages (from argon2-cffi->notebook->jupyter->-r mnist_requirements.txt (line 11)) (21.2.0)\n",
      "Requirement already satisfied: soupsieve>1.2 in e:\\github\\neurotorch\\tutorials\\mnist\\mnist_venv\\lib\\site-packages (from beautifulsoup4->nbconvert->jupyter->-r mnist_requirements.txt (line 11)) (2.3.2.post1)\n",
      "Requirement already satisfied: webencodings in e:\\github\\neurotorch\\tutorials\\mnist\\mnist_venv\\lib\\site-packages (from bleach->nbconvert->jupyter->-r mnist_requirements.txt (line 11)) (0.5.1)\n",
      "Requirement already satisfied: parso<0.9.0,>=0.8.0 in e:\\github\\neurotorch\\tutorials\\mnist\\mnist_venv\\lib\\site-packages (from jedi>=0.16->ipython>=7.23.1->ipykernel->jupyter->-r mnist_requirements.txt (line 11)) (0.8.3)\n",
      "Requirement already satisfied: pyrsistent!=0.17.0,!=0.17.1,!=0.17.2,>=0.14.0 in e:\\github\\neurotorch\\tutorials\\mnist\\mnist_venv\\lib\\site-packages (from jsonschema>=2.6->nbformat>=5.1->nbconvert->jupyter->-r mnist_requirements.txt (line 11)) (0.18.1)\n",
      "Requirement already satisfied: cffi>=1.0.1 in e:\\github\\neurotorch\\tutorials\\mnist\\mnist_venv\\lib\\site-packages (from argon2-cffi-bindings->argon2-cffi->notebook->jupyter->-r mnist_requirements.txt (line 11)) (1.15.1)\n",
      "Requirement already satisfied: executing in e:\\github\\neurotorch\\tutorials\\mnist\\mnist_venv\\lib\\site-packages (from stack-data->ipython>=7.23.1->ipykernel->jupyter->-r mnist_requirements.txt (line 11)) (1.0.0)\n",
      "Requirement already satisfied: asttokens in e:\\github\\neurotorch\\tutorials\\mnist\\mnist_venv\\lib\\site-packages (from stack-data->ipython>=7.23.1->ipykernel->jupyter->-r mnist_requirements.txt (line 11)) (2.0.8)\n",
      "Requirement already satisfied: pure-eval in e:\\github\\neurotorch\\tutorials\\mnist\\mnist_venv\\lib\\site-packages (from stack-data->ipython>=7.23.1->ipykernel->jupyter->-r mnist_requirements.txt (line 11)) (0.2.2)\n",
      "Requirement already satisfied: pycparser in e:\\github\\neurotorch\\tutorials\\mnist\\mnist_venv\\lib\\site-packages (from cffi>=1.0.1->argon2-cffi-bindings->argon2-cffi->notebook->jupyter->-r mnist_requirements.txt (line 11)) (2.21)\n",
      "Building wheels for collected packages: PythonBasicTools\n",
      "  Building wheel for PythonBasicTools (pyproject.toml): started\n",
      "  Building wheel for PythonBasicTools (pyproject.toml): finished with status 'done'\n",
      "  Created wheel for PythonBasicTools: filename=PythonBasicTools-0.0.0.1-py3-none-any.whl size=13965 sha256=362be125f4d3a041362f3855e8502a7c8a92e8b10234cd133c02e9d7c03c1fd7\n",
      "  Stored in directory: C:\\Users\\gince\\AppData\\Local\\Temp\\pip-ephem-wheel-cache-ylg4kbpv\\wheels\\e5\\cd\\82\\5d8c31debdb5574fb8577eb18e319eee57663239403207f0e7\n",
      "Successfully built PythonBasicTools\n",
      "Installing collected packages: tomli, py, pluggy, iniconfig, tqdm, threadpoolctl, scipy, pytz, pytest, kiwisolver, joblib, fonttools, docutils, cycler, contourpy, scikit-learn, PythonBasicTools, pandas, matplotlib\n",
      "Successfully installed PythonBasicTools-0.0.0.1 contourpy-1.0.5 cycler-0.11.0 docutils-0.19 fonttools-4.37.3 iniconfig-1.1.1 joblib-1.2.0 kiwisolver-1.4.4 matplotlib-3.6.0 pandas-1.5.0 pluggy-1.0.0 py-1.11.0 pytest-7.1.3 pytz-2022.2.1 scikit-learn-1.1.2 scipy-1.9.1 threadpoolctl-3.1.0 tomli-2.0.1 tqdm-4.64.1\n"
     ]
    },
    {
     "name": "stderr",
     "output_type": "stream",
     "text": [
      "  Running command git clone --filter=blob:none -q https://github.com/JeremieGince/PythonBasicTools 'C:\\Users\\gince\\AppData\\Local\\Temp\\pip-req-build-7n5da0wn'\n",
      "WARNING: You are using pip version 21.3.1; however, version 22.2.2 is available.\n",
      "You should consider upgrading via the 'E:\\Github\\NeuroTorch\\tutorials\\mnist\\mnist_venv\\Scripts\\python.exe -m pip install --upgrade pip' command.\n"
     ]
    },
    {
     "name": "stdout",
     "output_type": "stream",
     "text": [
      "Collecting git+https://github.com/JeremieGince/PythonBasicTools\n",
      "  Cloning https://github.com/JeremieGince/PythonBasicTools to c:\\users\\gince\\appdata\\local\\temp\\pip-req-build-au3eeiic\n",
      "  Resolved https://github.com/JeremieGince/PythonBasicTools to commit 63b55f13565762b20503a55c3abf4105e0f28064\n",
      "  Installing build dependencies: started\n",
      "  Installing build dependencies: finished with status 'done'\n",
      "  Getting requirements to build wheel: started\n",
      "  Getting requirements to build wheel: finished with status 'done'\n",
      "  Preparing metadata (pyproject.toml): started\n",
      "  Preparing metadata (pyproject.toml): finished with status 'done'\n",
      "Requirement already satisfied: setuptools>=57.0.0 in e:\\github\\neurotorch\\tutorials\\mnist\\mnist_venv\\lib\\site-packages (from PythonBasicTools==0.0.0.1) (60.2.0)\n",
      "Requirement already satisfied: psutil>=5.9.0 in e:\\github\\neurotorch\\tutorials\\mnist\\mnist_venv\\lib\\site-packages (from PythonBasicTools==0.0.0.1) (5.9.2)\n",
      "Requirement already satisfied: pytest>=7.1.2 in e:\\github\\neurotorch\\tutorials\\mnist\\mnist_venv\\lib\\site-packages (from PythonBasicTools==0.0.0.1) (7.1.3)\n",
      "Requirement already satisfied: tqdm>=4.62.3 in e:\\github\\neurotorch\\tutorials\\mnist\\mnist_venv\\lib\\site-packages (from PythonBasicTools==0.0.0.1) (4.64.1)\n",
      "Requirement already satisfied: docutils>=0.17.1 in e:\\github\\neurotorch\\tutorials\\mnist\\mnist_venv\\lib\\site-packages (from PythonBasicTools==0.0.0.1) (0.19)\n",
      "Requirement already satisfied: tomli>=1.0.0 in e:\\github\\neurotorch\\tutorials\\mnist\\mnist_venv\\lib\\site-packages (from pytest>=7.1.2->PythonBasicTools==0.0.0.1) (2.0.1)\n",
      "Requirement already satisfied: packaging in e:\\github\\neurotorch\\tutorials\\mnist\\mnist_venv\\lib\\site-packages (from pytest>=7.1.2->PythonBasicTools==0.0.0.1) (21.3)\n",
      "Requirement already satisfied: colorama in e:\\github\\neurotorch\\tutorials\\mnist\\mnist_venv\\lib\\site-packages (from pytest>=7.1.2->PythonBasicTools==0.0.0.1) (0.4.5)\n",
      "Requirement already satisfied: attrs>=19.2.0 in e:\\github\\neurotorch\\tutorials\\mnist\\mnist_venv\\lib\\site-packages (from pytest>=7.1.2->PythonBasicTools==0.0.0.1) (22.1.0)\n",
      "Requirement already satisfied: iniconfig in e:\\github\\neurotorch\\tutorials\\mnist\\mnist_venv\\lib\\site-packages (from pytest>=7.1.2->PythonBasicTools==0.0.0.1) (1.1.1)\n",
      "Requirement already satisfied: py>=1.8.2 in e:\\github\\neurotorch\\tutorials\\mnist\\mnist_venv\\lib\\site-packages (from pytest>=7.1.2->PythonBasicTools==0.0.0.1) (1.11.0)\n",
      "Requirement already satisfied: pluggy<2.0,>=0.12 in e:\\github\\neurotorch\\tutorials\\mnist\\mnist_venv\\lib\\site-packages (from pytest>=7.1.2->PythonBasicTools==0.0.0.1) (1.0.0)\n",
      "Requirement already satisfied: pyparsing!=3.0.5,>=2.0.2 in e:\\github\\neurotorch\\tutorials\\mnist\\mnist_venv\\lib\\site-packages (from packaging->pytest>=7.1.2->PythonBasicTools==0.0.0.1) (3.0.9)\n"
     ]
    },
    {
     "name": "stderr",
     "output_type": "stream",
     "text": [
      "  Running command git clone --filter=blob:none -q https://github.com/JeremieGince/PythonBasicTools 'C:\\Users\\gince\\AppData\\Local\\Temp\\pip-req-build-au3eeiic'\n",
      "WARNING: You are using pip version 21.3.1; however, version 22.2.2 is available.\n",
      "You should consider upgrading via the 'E:\\Github\\NeuroTorch\\tutorials\\mnist\\mnist_venv\\Scripts\\python.exe -m pip install --upgrade pip' command.\n"
     ]
    },
    {
     "name": "stdout",
     "output_type": "stream",
     "text": [
      "Collecting git+https://github.com/NeuroTorch/NeuroTorch\n",
      "  Cloning https://github.com/NeuroTorch/NeuroTorch to c:\\users\\gince\\appdata\\local\\temp\\pip-req-build-ghqu9hmy\n",
      "  Resolved https://github.com/NeuroTorch/NeuroTorch to commit 607c693cc33866313eda79f1ce52ad22514228f1\n",
      "  Installing build dependencies: started\n",
      "  Installing build dependencies: finished with status 'done'\n",
      "  Getting requirements to build wheel: started\n",
      "  Getting requirements to build wheel: finished with status 'error'\n"
     ]
    },
    {
     "name": "stderr",
     "output_type": "stream",
     "text": [
      "  Running command git clone --filter=blob:none -q https://github.com/NeuroTorch/NeuroTorch 'C:\\Users\\gince\\AppData\\Local\\Temp\\pip-req-build-ghqu9hmy'\n",
      "  ERROR: Command errored out with exit status 1:\n",
      "   command: 'E:\\Github\\NeuroTorch\\tutorials\\mnist\\mnist_venv\\Scripts\\python.exe' 'E:\\Github\\NeuroTorch\\tutorials\\mnist\\mnist_venv\\lib\\site-packages\\pip\\_vendor\\pep517\\in_process\\_in_process.py' get_requires_for_build_wheel 'C:\\Users\\gince\\AppData\\Local\\Temp\\tmpdc4f7giz'\n",
      "       cwd: C:\\Users\\gince\\AppData\\Local\\Temp\\pip-req-build-ghqu9hmy\n",
      "  Complete output (23 lines):\n",
      "  Traceback (most recent call last):\n",
      "    File \"E:\\Github\\NeuroTorch\\tutorials\\mnist\\mnist_venv\\lib\\site-packages\\pip\\_vendor\\pep517\\in_process\\_in_process.py\", line 363, in <module>\n",
      "      main()\n",
      "    File \"E:\\Github\\NeuroTorch\\tutorials\\mnist\\mnist_venv\\lib\\site-packages\\pip\\_vendor\\pep517\\in_process\\_in_process.py\", line 345, in main\n",
      "      json_out['return_val'] = hook(**hook_input['kwargs'])\n",
      "    File \"E:\\Github\\NeuroTorch\\tutorials\\mnist\\mnist_venv\\lib\\site-packages\\pip\\_vendor\\pep517\\in_process\\_in_process.py\", line 130, in get_requires_for_build_wheel\n",
      "      return hook(config_settings)\n",
      "    File \"C:\\Users\\gince\\AppData\\Local\\Temp\\pip-build-env-j48e824s\\overlay\\Lib\\site-packages\\setuptools\\build_meta.py\", line 338, in get_requires_for_build_wheel\n",
      "      return self._get_build_requires(config_settings, requirements=['wheel'])\n",
      "    File \"C:\\Users\\gince\\AppData\\Local\\Temp\\pip-build-env-j48e824s\\overlay\\Lib\\site-packages\\setuptools\\build_meta.py\", line 320, in _get_build_requires\n",
      "      self.run_setup()\n",
      "    File \"C:\\Users\\gince\\AppData\\Local\\Temp\\pip-build-env-j48e824s\\overlay\\Lib\\site-packages\\setuptools\\build_meta.py\", line 482, in run_setup\n",
      "      super(_BuildMetaLegacyBackend,\n",
      "    File \"C:\\Users\\gince\\AppData\\Local\\Temp\\pip-build-env-j48e824s\\overlay\\Lib\\site-packages\\setuptools\\build_meta.py\", line 335, in run_setup\n",
      "      exec(code, locals())\n",
      "    File \"<string>\", line 2, in <module>\n",
      "    File \"C:\\Users\\gince\\AppData\\Local\\Temp\\pip-req-build-ghqu9hmy\\src\\neurotorch\\__init__.py\", line 21, in <module>\n",
      "      from .modules.sequential import (\n",
      "    File \"C:\\Users\\gince\\AppData\\Local\\Temp\\pip-req-build-ghqu9hmy\\src\\neurotorch\\modules\\__init__.py\", line 2, in <module>\n",
      "      from .spike_funcs import (\n",
      "    File \"C:\\Users\\gince\\AppData\\Local\\Temp\\pip-req-build-ghqu9hmy\\src\\neurotorch\\modules\\spike_funcs.py\", line 3, in <module>\n",
      "      import torch\n",
      "  ModuleNotFoundError: No module named 'torch'\n",
      "  ----------------------------------------\n",
      "WARNING: Discarding git+https://github.com/NeuroTorch/NeuroTorch. Command errored out with exit status 1: 'E:\\Github\\NeuroTorch\\tutorials\\mnist\\mnist_venv\\Scripts\\python.exe' 'E:\\Github\\NeuroTorch\\tutorials\\mnist\\mnist_venv\\lib\\site-packages\\pip\\_vendor\\pep517\\in_process\\_in_process.py' get_requires_for_build_wheel 'C:\\Users\\gince\\AppData\\Local\\Temp\\tmpdc4f7giz' Check the logs for full command output.\n",
      "ERROR: Command errored out with exit status 1: 'E:\\Github\\NeuroTorch\\tutorials\\mnist\\mnist_venv\\Scripts\\python.exe' 'E:\\Github\\NeuroTorch\\tutorials\\mnist\\mnist_venv\\lib\\site-packages\\pip\\_vendor\\pep517\\in_process\\_in_process.py' get_requires_for_build_wheel 'C:\\Users\\gince\\AppData\\Local\\Temp\\tmpdc4f7giz' Check the logs for full command output.\n",
      "WARNING: You are using pip version 21.3.1; however, version 22.2.2 is available.\n",
      "You should consider upgrading via the 'E:\\Github\\NeuroTorch\\tutorials\\mnist\\mnist_venv\\Scripts\\python.exe -m pip install --upgrade pip' command.\n"
     ]
    },
    {
     "name": "stdout",
     "output_type": "stream",
     "text": [
      "Collecting norse\n",
      "  Using cached norse-0.0.7.post1-cp39-cp39-win_amd64.whl\n",
      "Requirement already satisfied: torchvision>=0.10.0 in e:\\github\\neurotorch\\tutorials\\mnist\\mnist_venv\\lib\\site-packages (from norse) (0.13.1+cu116)\n",
      "Requirement already satisfied: numpy in e:\\github\\neurotorch\\tutorials\\mnist\\mnist_venv\\lib\\site-packages (from norse) (1.23.3)\n",
      "Requirement already satisfied: torch>=1.9.0 in e:\\github\\neurotorch\\tutorials\\mnist\\mnist_venv\\lib\\site-packages (from norse) (1.12.1+cu116)\n",
      "Requirement already satisfied: typing-extensions in e:\\github\\neurotorch\\tutorials\\mnist\\mnist_venv\\lib\\site-packages (from torch>=1.9.0->norse) (4.3.0)\n",
      "Requirement already satisfied: requests in e:\\github\\neurotorch\\tutorials\\mnist\\mnist_venv\\lib\\site-packages (from torchvision>=0.10.0->norse) (2.28.1)\n",
      "Requirement already satisfied: pillow!=8.3.*,>=5.3.0 in e:\\github\\neurotorch\\tutorials\\mnist\\mnist_venv\\lib\\site-packages (from torchvision>=0.10.0->norse) (9.2.0)\n",
      "Requirement already satisfied: urllib3<1.27,>=1.21.1 in e:\\github\\neurotorch\\tutorials\\mnist\\mnist_venv\\lib\\site-packages (from requests->torchvision>=0.10.0->norse) (1.26.12)\n",
      "Requirement already satisfied: certifi>=2017.4.17 in e:\\github\\neurotorch\\tutorials\\mnist\\mnist_venv\\lib\\site-packages (from requests->torchvision>=0.10.0->norse) (2022.9.14)\n",
      "Requirement already satisfied: idna<4,>=2.5 in e:\\github\\neurotorch\\tutorials\\mnist\\mnist_venv\\lib\\site-packages (from requests->torchvision>=0.10.0->norse) (3.4)\n",
      "Requirement already satisfied: charset-normalizer<3,>=2 in e:\\github\\neurotorch\\tutorials\\mnist\\mnist_venv\\lib\\site-packages (from requests->torchvision>=0.10.0->norse) (2.1.1)\n",
      "Installing collected packages: norse\n",
      "Successfully installed norse-0.0.7.post1\n"
     ]
    },
    {
     "name": "stderr",
     "output_type": "stream",
     "text": [
      "WARNING: You are using pip version 21.3.1; however, version 22.2.2 is available.\n",
      "You should consider upgrading via the 'E:\\Github\\NeuroTorch\\tutorials\\mnist\\mnist_venv\\Scripts\\python.exe -m pip install --upgrade pip' command.\n"
     ]
    }
   ],
   "source": [
    "!pip install -r mnist_requirements.txt\n",
    "!pip install git+https://github.com/JeremieGince/PythonBasicTools\n",
    "!pip install norse"
   ],
   "metadata": {
    "collapsed": false,
    "pycharm": {
     "name": "#%%\n"
    }
   }
  },
  {
   "cell_type": "code",
   "execution_count": null,
   "outputs": [],
   "source": [
    "!pip install git+https://github.com/NeuroTorch/NeuroTorch"
   ],
   "metadata": {
    "collapsed": false,
    "pycharm": {
     "name": "#%%\n"
    }
   }
  },
  {
   "cell_type": "markdown",
   "source": [
    "If you have a cuda device and want to use it for this tutorial (it is recommended to do so), you can uninstall pytorch with `pip uninstall torch` and re-install it with the right cuda version by generating a command with [PyTorch GetStarted](https://pytorch.org/get-started/locally/) web page."
   ],
   "metadata": {
    "collapsed": false,
    "pycharm": {
     "name": "#%% md\n"
    }
   }
  },
  {
   "cell_type": "markdown",
   "source": [
    "After setting up the virtual environment, we will need to import the necessary packages."
   ],
   "metadata": {
    "collapsed": false,
    "pycharm": {
     "name": "#%% md\n"
    }
   }
  },
  {
   "cell_type": "code",
   "execution_count": 1,
   "outputs": [],
   "source": [
    "import os\n",
    "import pprint\n",
    "from collections import OrderedDict\n",
    "\n",
    "import psutil\n",
    "import torch\n",
    "from torchvision.transforms import Compose\n",
    "import norse\n",
    "from pythonbasictools.device import log_device_setup, DeepLib\n",
    "from pythonbasictools.logging import logs_file_setup\n",
    "\n",
    "from tutorials.mnist.dataset import get_dataloaders, DatasetId\n",
    "from neurotorch import Dimension, DimensionProperty\n",
    "from neurotorch.modules import HeavisideSigmoidApprox, LIFLayer\n",
    "from neurotorch.callbacks import CheckpointManager, LoadCheckpointMode\n",
    "from neurotorch.metrics import ClassificationMetrics\n",
    "from neurotorch.modules import SequentialModel, ALIFLayer, LILayer\n",
    "from neurotorch.modules.layers import SpyLIFLayer, SpyLILayer\n",
    "from neurotorch.trainers import ClassificationTrainer\n",
    "from neurotorch.transforms.spikes_encoders import SpyLIFEncoder"
   ],
   "metadata": {
    "collapsed": false,
    "pycharm": {
     "name": "#%%\n"
    }
   }
  },
  {
   "cell_type": "markdown",
   "source": [],
   "metadata": {
    "collapsed": false,
    "pycharm": {
     "name": "#%% md\n"
    }
   }
  },
  {
   "cell_type": "code",
   "execution_count": 2,
   "outputs": [
    {
     "name": "stderr",
     "output_type": "stream",
     "text": [
      "INFO:root:Logs file at: .//logs/logs-20-09-2022/mnist_tutorial-16636977744025793.log\n",
      "\n",
      "INFO:root:__Python VERSION: 3.9.12 (tags/v3.9.12:b28265d, Mar 23 2022, 23:52:46) [MSC v.1929 64 bit (AMD64)]\n",
      "INFO:root:Number of available cores: 12.\n",
      "INFO:root:Number of available logical processors: 24.\n",
      "INFO:root:__pyTorch VERSION:1.12.1+cu116\n",
      "INFO:root:__CUDA VERSION:\n",
      "nvcc: NVIDIA (R) Cuda compiler driver\r\n",
      "Copyright (c) 2005-2020 NVIDIA Corporation\r\n",
      "Built on Mon_Nov_30_19:15:10_Pacific_Standard_Time_2020\r\n",
      "Cuda compilation tools, release 11.2, V11.2.67\r\n",
      "Build cuda_11.2.r11.2/compiler.29373293_0\r\n",
      "\n",
      "INFO:root:__nvidia-smi: Not Found\n",
      "INFO:root:__CUDNN VERSION:8302\n",
      "INFO:root:__Number CUDA Devices:1\n",
      "INFO:root:\n",
      "-------------------------\n",
      "DEVICE: cuda\n",
      "-------------------------\n",
      "\n",
      "INFO:root:NVIDIA GeForce RTX 3070\n",
      "INFO:root:Memory Usage:\n",
      "INFO:root:Allocated: 0.0 GB\n",
      "INFO:root:Cached:   0.0 GB\n",
      "INFO:root:Memory summary: \n",
      "|===========================================================================|\n",
      "|                  PyTorch CUDA memory summary, device ID 0                 |\n",
      "|---------------------------------------------------------------------------|\n",
      "|            CUDA OOMs: 0            |        cudaMalloc retries: 0         |\n",
      "|===========================================================================|\n",
      "|        Metric         | Cur Usage  | Peak Usage | Tot Alloc  | Tot Freed  |\n",
      "|---------------------------------------------------------------------------|\n",
      "| Allocated memory      |       0 B  |       0 B  |       0 B  |       0 B  |\n",
      "|       from large pool |       0 B  |       0 B  |       0 B  |       0 B  |\n",
      "|       from small pool |       0 B  |       0 B  |       0 B  |       0 B  |\n",
      "|---------------------------------------------------------------------------|\n",
      "| Active memory         |       0 B  |       0 B  |       0 B  |       0 B  |\n",
      "|       from large pool |       0 B  |       0 B  |       0 B  |       0 B  |\n",
      "|       from small pool |       0 B  |       0 B  |       0 B  |       0 B  |\n",
      "|---------------------------------------------------------------------------|\n",
      "| GPU reserved memory   |       0 B  |       0 B  |       0 B  |       0 B  |\n",
      "|       from large pool |       0 B  |       0 B  |       0 B  |       0 B  |\n",
      "|       from small pool |       0 B  |       0 B  |       0 B  |       0 B  |\n",
      "|---------------------------------------------------------------------------|\n",
      "| Non-releasable memory |       0 B  |       0 B  |       0 B  |       0 B  |\n",
      "|       from large pool |       0 B  |       0 B  |       0 B  |       0 B  |\n",
      "|       from small pool |       0 B  |       0 B  |       0 B  |       0 B  |\n",
      "|---------------------------------------------------------------------------|\n",
      "| Allocations           |       0    |       0    |       0    |       0    |\n",
      "|       from large pool |       0    |       0    |       0    |       0    |\n",
      "|       from small pool |       0    |       0    |       0    |       0    |\n",
      "|---------------------------------------------------------------------------|\n",
      "| Active allocs         |       0    |       0    |       0    |       0    |\n",
      "|       from large pool |       0    |       0    |       0    |       0    |\n",
      "|       from small pool |       0    |       0    |       0    |       0    |\n",
      "|---------------------------------------------------------------------------|\n",
      "| GPU reserved segments |       0    |       0    |       0    |       0    |\n",
      "|       from large pool |       0    |       0    |       0    |       0    |\n",
      "|       from small pool |       0    |       0    |       0    |       0    |\n",
      "|---------------------------------------------------------------------------|\n",
      "| Non-releasable allocs |       0    |       0    |       0    |       0    |\n",
      "|       from large pool |       0    |       0    |       0    |       0    |\n",
      "|       from small pool |       0    |       0    |       0    |       0    |\n",
      "|---------------------------------------------------------------------------|\n",
      "| Oversize allocations  |       0    |       0    |       0    |       0    |\n",
      "|---------------------------------------------------------------------------|\n",
      "| Oversize GPU segments |       0    |       0    |       0    |       0    |\n",
      "|===========================================================================|\n",
      "\n"
     ]
    }
   ],
   "source": [
    "logs_file_setup(\"mnist_tutorial\", add_stdout=False)\n",
    "log_device_setup(deepLib=DeepLib.Pytorch)\n",
    "if torch.cuda.is_available():\n",
    "\ttorch.cuda.set_per_process_memory_fraction(0.8)"
   ],
   "metadata": {
    "collapsed": false,
    "pycharm": {
     "name": "#%%\n"
    }
   }
  },
  {
   "cell_type": "markdown",
   "source": [
    "## Initialization"
   ],
   "metadata": {
    "collapsed": false,
    "pycharm": {
     "name": "#%% md\n"
    }
   }
  },
  {
   "cell_type": "markdown",
   "source": [
    "It's the time to defined our training and networks parameters. In the following,\n",
    "\n",
    "- the number of iteration is the number of time the trainer will pass through the entire training dataset;\n",
    "- the batch size is the number of samples that will be loaded at the same time for each forward and backward pass;\n",
    "- the learning rate is the learning rate used by the optimizer;\n",
    "- the number of steps is the number of euler integration steps performed by the model during each forward and backward pass;\n",
    "- the number of hidden neurons is the number of neurons that will be used in the hidden layer of the model;\n",
    "- dt is the time step of the euler integration;"
   ],
   "metadata": {
    "collapsed": false,
    "pycharm": {
     "name": "#%% md\n"
    }
   }
  },
  {
   "cell_type": "code",
   "execution_count": 3,
   "outputs": [],
   "source": [
    "dataset_id = DatasetId.MNIST\n",
    "\n",
    "# Training parameters\n",
    "n_iterations = 30\n",
    "batch_size = 1024\n",
    "learning_rate = 1e-3\n",
    "\n",
    "# Network parameters\n",
    "n_steps = 8\n",
    "n_hidden_neurons = 128\n",
    "dt = 1e-3"
   ],
   "metadata": {
    "collapsed": false,
    "pycharm": {
     "name": "#%%\n"
    }
   }
  },
  {
   "cell_type": "markdown",
   "source": [
    "Here we're initializing a callback of the trainer used to save the network during the training."
   ],
   "metadata": {
    "collapsed": false,
    "pycharm": {
     "name": "#%% md\n"
    }
   }
  },
  {
   "cell_type": "code",
   "execution_count": 4,
   "outputs": [],
   "source": [
    "checkpoint_folder = f\"./checkpoints/{dataset_id.name}\"\n",
    "checkpoint_manager = CheckpointManager(checkpoint_folder, save_best_only=True, start_save_at=int(n_iterations * 0.9))"
   ],
   "metadata": {
    "collapsed": false,
    "pycharm": {
     "name": "#%%\n"
    }
   }
  },
  {
   "cell_type": "markdown",
   "source": [
    "NeuroTorch is a library that allows to build bio-like networks, that is, they are in general recurrent neural networks. In this task we are classifying images, so we must transform the input images into times series of values. In our case, we are using spiking neural network to perform the classification, so we will transform the input images into spikes trains. The used transform in this tutorial is the ConstantCurrentLIFEncoder from the [norse](https://github.com/norse/norse) library."
   ],
   "metadata": {
    "collapsed": false,
    "pycharm": {
     "name": "#%% md\n"
    }
   }
  },
  {
   "cell_type": "code",
   "execution_count": 5,
   "outputs": [],
   "source": [
    "# input_transform = Compose([torch.flatten, norse.torch.ConstantCurrentLIFEncoder(seq_length=n_steps, dt=dt)])\n",
    "input_transform = Compose([torch.nn.Flatten(start_dim=2), SpyLIFEncoder(n_steps=n_steps, n_units=28*28)])"
   ],
   "metadata": {
    "collapsed": false,
    "pycharm": {
     "name": "#%%\n"
    }
   }
  },
  {
   "cell_type": "markdown",
   "source": [
    "It is time to load the dataloaders. The dataloader is an object used to the data from a given dataset. In our case we will load the MNIST or the FASHION-MNIST dataset. To change the dataset, just change the value of the variable `dataset_id` for `DatasetId.MNIST` or `DatasetId.FASHION_MNIST` in the cell below."
   ],
   "metadata": {
    "collapsed": false,
    "pycharm": {
     "name": "#%% md\n"
    }
   }
  },
  {
   "cell_type": "markdown",
   "source": [
    "\n",
    "Here is an exemple of the MNIST dataset:\n",
    "<p align=\"center\"> <img width=\"1200\" height=\"500\" src=\"../../images/mnist/MnistExamples.png\"> </p>\n",
    "\n",
    "And an exemple of the Fashion-MNIST dataset:\n",
    "<p align=\"center\"> <img width=\"1200\" height=\"500\" src=\"../../images/mnist/fashion-mnist-sprite.png\"> </p>"
   ],
   "metadata": {
    "collapsed": false,
    "pycharm": {
     "name": "#%% md\n"
    }
   }
  },
  {
   "cell_type": "code",
   "execution_count": 6,
   "outputs": [],
   "source": [
    "dataloaders = get_dataloaders(\n",
    "\tdataset_id=dataset_id,\n",
    "\tbatch_size=batch_size,\n",
    "\t# input_transform=input_transform,\n",
    "\ttrain_val_split_ratio=0.95,\n",
    "\tnb_workers=psutil.cpu_count(logical=False),\n",
    ")"
   ],
   "metadata": {
    "collapsed": false,
    "pycharm": {
     "name": "#%%\n"
    }
   }
  },
  {
   "cell_type": "markdown",
   "source": [
    "We can finally define our model. The sequential model is a neural network that is composed of a list of layers. The list of layers is ordered and the first layer is the input layer. The last layer is the output layer. The sequential model can be found in the subpackage `neurotorch.modules`. Note that we can specify the input transform that will be applied to the input data before the forward pass through the list of layers. If the transformation is computationally expensive, it is recommended to put it in the dataloaders instead of the model for the training. Usually the input transform in the model is used when the model is used for inference."
   ],
   "metadata": {
    "collapsed": false,
    "pycharm": {
     "name": "#%% md\n"
    }
   }
  },
  {
   "cell_type": "code",
   "execution_count": 7,
   "outputs": [],
   "source": [
    "network = SequentialModel(\n",
    "\tinput_transform=input_transform,\n",
    "\tlayers=[\n",
    "\t\tLIFLayer(\n",
    "\t\t\tinput_size=[Dimension(None, DimensionProperty.TIME), Dimension(28*28, DimensionProperty.NONE)],\n",
    "\t\t\tuse_recurrent_connection=False,\n",
    "\t\t\tspike_func=HeavisideSigmoidApprox,\n",
    "\t\t\toutput_size=n_hidden_neurons,\n",
    "\t\t\tdt=dt,\n",
    "\t\t),\n",
    "\t\tSpyLILayer(dt=dt, output_size=10),\n",
    "\t],\n",
    "\tname=f\"{dataset_id.name}_network\",\n",
    "\tcheckpoint_folder=checkpoint_folder,\n",
    ")"
   ],
   "metadata": {
    "collapsed": false,
    "pycharm": {
     "name": "#%%\n"
    }
   }
  },
  {
   "cell_type": "markdown",
   "source": [
    "After the instantiation of the model, we have to build it, so it can infer the missing sizes of the layers in the model and create the tensors that will be used during the training."
   ],
   "metadata": {
    "collapsed": false,
    "pycharm": {
     "name": "#%% md\n"
    }
   }
  },
  {
   "cell_type": "code",
   "execution_count": 8,
   "outputs": [
    {
     "name": "stdout",
     "output_type": "stream",
     "text": [
      "SequentialModel(\n",
      "  (_to_device_transform): ToDevice(cuda, async=True)\n",
      "  (input_layers): ModuleDict(\n",
      "    (input_0): LIFLayer<input_0>(784->128)[LearningType.BPTT]@cuda\n",
      "  )\n",
      "  (hidden_layers): ModuleList()\n",
      "  (output_layers): ModuleDict(\n",
      "    (output_0): SpyLILayer<output_0>(128->10)[LearningType.BPTT]@cuda\n",
      "  )\n",
      "  (input_transform): ModuleDict(\n",
      "    (input_0): Sequential(\n",
      "      (0): CallableToModuleWrapper(Compose(\n",
      "          Flatten(start_dim=2, end_dim=-1)\n",
      "          SpyLIFEncoder(\n",
      "        (const_transform): ConstantValuesTransform(n_steps=8)\n",
      "        (spikes_layer): SpyLIFLayer<encoder>(784->784)[LearningType.NONE]@cuda\n",
      "      )\n",
      "      ))\n",
      "      (1): ToDevice(cuda, async=True)\n",
      "    )\n",
      "  )\n",
      "  (output_transform): ModuleDict(\n",
      "    (output_0): IdentityTransform()\n",
      "  )\n",
      ")\n"
     ]
    }
   ],
   "source": [
    "network.build()\n",
    "print(network)"
   ],
   "metadata": {
    "collapsed": false,
    "pycharm": {
     "name": "#%%\n"
    }
   }
  },
  {
   "cell_type": "markdown",
   "source": [
    "## Training"
   ],
   "metadata": {
    "collapsed": false,
    "pycharm": {
     "name": "#%% md\n"
    }
   }
  },
  {
   "cell_type": "markdown",
   "source": [
    "In the next cell, we create the trainer that will be used to trained our network. They are several types of trainers that can be found in the subpackage `neurotorch.trainers` like the `ClassificationTrainer`, the `RegressionTrainer` or the `PPOTrainer`. In this tutorial, we will use the `ClassificationTrainer` because we are trying to classify some images. Note that the callbacks are some object that will be called during the training. They are found in the subpackage `neurotorch.callbacks` like the `CheckpointManager`."
   ],
   "metadata": {
    "collapsed": false,
    "pycharm": {
     "name": "#%% md\n"
    }
   }
  },
  {
   "cell_type": "code",
   "execution_count": 9,
   "outputs": [],
   "source": [
    "trainer = ClassificationTrainer(\n",
    "\tmodel=network,\n",
    "\toptimizer=torch.optim.Adam(network.parameters(), lr=learning_rate),\n",
    "\tcallbacks=checkpoint_manager,\n",
    "\tverbose=True,\n",
    ")"
   ],
   "metadata": {
    "collapsed": false,
    "pycharm": {
     "name": "#%%\n"
    }
   }
  },
  {
   "cell_type": "markdown",
   "source": [
    "The training will start! Let's see how our simple network will perform on this task.\n",
    "\n",
    "Note: the argument `force_overwrite` is used to overwrite the existing checkpoint if it exists and the argument `load_checkpoint_mode` if the model will be loaded from the last checkpoint (`LoadCheckpointMode.LAST_ITR`) or from the best checkpoint (`LoadCheckpointMode.BEST_ITR`). The loading mode is really useful when you want to stop the training and restart it later."
   ],
   "metadata": {
    "collapsed": false,
    "pycharm": {
     "name": "#%% md\n"
    }
   }
  },
  {
   "cell_type": "code",
   "execution_count": null,
   "outputs": [
    {
     "data": {
      "text/plain": "Training:   0%|          | 0/30 [00:00<?, ?itr/s]",
      "application/vnd.jupyter.widget-view+json": {
       "version_major": 2,
       "version_minor": 0,
       "model_id": "34f087721af244c88a63a3c645310a19"
      }
     },
     "metadata": {},
     "output_type": "display_data"
    }
   ],
   "source": [
    "training_history = trainer.train(\n",
    "\tdataloaders[\"train\"],\n",
    "\tdataloaders[\"val\"],\n",
    "\tn_iterations=n_iterations,\n",
    "\tload_checkpoint_mode=LoadCheckpointMode.LAST_ITR,\n",
    "\t# force_overwrite=True,\n",
    ")"
   ],
   "metadata": {
    "collapsed": false,
    "pycharm": {
     "name": "#%%\n",
     "is_executing": true
    }
   }
  },
  {
   "cell_type": "markdown",
   "source": [
    "The training is finished! Let's see how our network learned over the iterations.\n",
    "\n",
    "Note: the next graphs are really useful to see if the model overfit or underfit the data over the iterations. It's why you can use the callback `TrainingHistoryVisualizationCallback` to see those graphs in real time."
   ],
   "metadata": {
    "collapsed": false,
    "pycharm": {
     "name": "#%% md\n"
    }
   }
  },
  {
   "cell_type": "code",
   "execution_count": null,
   "outputs": [],
   "source": [
    "training_history.plot(show=True)"
   ],
   "metadata": {
    "collapsed": false,
    "pycharm": {
     "name": "#%%\n",
     "is_executing": true
    }
   }
  },
  {
   "cell_type": "markdown",
   "source": [
    "We can load the model at the best or the last iteration for the testing phase."
   ],
   "metadata": {
    "collapsed": false,
    "pycharm": {
     "name": "#%% md\n"
    }
   }
  },
  {
   "cell_type": "code",
   "execution_count": null,
   "outputs": [],
   "source": [
    "network.load_checkpoint(checkpoint_manager.checkpoints_meta_path, LoadCheckpointMode.BEST_ITR, verbose=True)"
   ],
   "metadata": {
    "collapsed": false,
    "pycharm": {
     "name": "#%%\n",
     "is_executing": true
    }
   }
  },
  {
   "cell_type": "markdown",
   "source": [
    "We can now see how our network perform on the test dataset."
   ],
   "metadata": {
    "collapsed": false,
    "pycharm": {
     "name": "#%% md\n"
    }
   }
  },
  {
   "cell_type": "code",
   "execution_count": null,
   "outputs": [],
   "source": [
    "accuracies={\n",
    "\tk: ClassificationMetrics.accuracy(network, dataloaders[k], verbose=True, desc=f\"{k}_accuracy\")\n",
    "\tfor k in dataloaders\n",
    "}\n",
    "pprint.pprint(accuracies)"
   ],
   "metadata": {
    "collapsed": false,
    "pycharm": {
     "name": "#%%\n",
     "is_executing": true
    }
   }
  },
  {
   "cell_type": "markdown",
   "source": [
    "Let's see the results on other popular classification metrics."
   ],
   "metadata": {
    "collapsed": false,
    "pycharm": {
     "name": "#%% md\n"
    }
   }
  },
  {
   "cell_type": "code",
   "execution_count": null,
   "outputs": [],
   "source": [
    "precisions={\n",
    "\tk: ClassificationMetrics.precision(network, dataloaders[k], verbose=True, desc=f\"{k}_precision\")\n",
    "\tfor k in dataloaders\n",
    "},\n",
    "recalls={\n",
    "\tk: ClassificationMetrics.recall(network, dataloaders[k], verbose=True, desc=f\"{k}_recall\")\n",
    "\tfor k in dataloaders\n",
    "},\n",
    "f1s={\n",
    "\tk: ClassificationMetrics.f1(network, dataloaders[k], verbose=True, desc=f\"{k}_f1\")\n",
    "\tfor k in dataloaders\n",
    "}"
   ],
   "metadata": {
    "collapsed": false,
    "pycharm": {
     "name": "#%%\n",
     "is_executing": true
    }
   }
  },
  {
   "cell_type": "code",
   "execution_count": null,
   "outputs": [],
   "source": [
    "results = OrderedDict(dict(\n",
    "\tnetwork=network,\n",
    "\taccuracies=accuracies,\n",
    "\tprecisions=precisions,\n",
    "\trecalls=recalls,\n",
    "\tf1s=f1s,\n",
    "))"
   ],
   "metadata": {
    "collapsed": false,
    "pycharm": {
     "name": "#%%\n",
     "is_executing": true
    }
   }
  },
  {
   "cell_type": "code",
   "execution_count": null,
   "outputs": [],
   "source": [
    "pprint.pprint(results, indent=4)"
   ],
   "metadata": {
    "collapsed": false,
    "pycharm": {
     "name": "#%%\n",
     "is_executing": true
    }
   }
  },
  {
   "cell_type": "markdown",
   "source": [
    "This is the end of the tutorial!"
   ],
   "metadata": {
    "collapsed": false,
    "pycharm": {
     "name": "#%% md\n"
    }
   }
  },
  {
   "cell_type": "markdown",
   "source": [
    "# Conclusion\n",
    "\n",
    "NeuroTorch is a library that allows you to easily build neural networks and train them. Moreover, it allows you to do image classification using dynamics from neurosciences."
   ],
   "metadata": {
    "collapsed": false,
    "pycharm": {
     "name": "#%% md\n"
    }
   }
  },
  {
   "cell_type": "code",
   "execution_count": null,
   "outputs": [],
   "source": [],
   "metadata": {
    "collapsed": false,
    "pycharm": {
     "name": "#%%\n",
     "is_executing": true
    }
   }
  }
 ],
 "metadata": {
  "kernelspec": {
   "display_name": "Python 3",
   "language": "python",
   "name": "python3"
  },
  "language_info": {
   "codemirror_mode": {
    "name": "ipython",
    "version": 2
   },
   "file_extension": ".py",
   "mimetype": "text/x-python",
   "name": "python",
   "nbconvert_exporter": "python",
   "pygments_lexer": "ipython2",
   "version": "2.7.6"
  }
 },
 "nbformat": 4,
 "nbformat_minor": 0
}