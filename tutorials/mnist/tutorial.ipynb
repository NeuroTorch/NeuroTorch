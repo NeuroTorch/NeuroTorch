{
 "cells": [
  {
   "cell_type": "markdown",
   "metadata": {},
   "source": [
    "# MNIST Tutorial"
   ]
  },
  {
   "cell_type": "markdown",
   "metadata": {},
   "source": [
    "**This tutorial was tested with the version `0.0.1-beta1` of NeuroTorch.**"
   ]
  },
  {
   "cell_type": "markdown",
   "metadata": {},
   "source": [
    "<table class=\"nt-notebook-buttons\" align=\"center\">\n",
    "  <td>\n",
    "    <a target=\"_blank\" href=\"https://NeuroTorch.github.io/NeuroTorch/\"><img src=\"https://github.com/NeuroTorch/NeuroTorch/blob/main/images/neurotorch_logo_32px.png?raw=true\" width=32px height=32px  />Documentation</a>\n",
    "  </td>\n",
    "  <td>\n",
    "    <a target=\"_blank\" href=\"https://colab.research.google.com/github/NeuroTorch/NeuroTorch/blob/update-tutorials/tutorials/mnist/tutorial.ipynb\"><img src=\"https://github.com/NeuroTorch/NeuroTorch/blob/main/images/colab_logo_32px.png?raw=true\" width=32px height=32px  />Run in Google Colab</a>\n",
    "</td>\n",
    "  <td>\n",
    "    <a target=\"_blank\" href=\"https://github.com/NeuroTorch/NeuroTorch/blob/main/tutorials/mnist/tutorial.ipynb\"><img src=\"https://github.githubassets.com/images/modules/logos_page/GitHub-Mark.png\" width=32px height=32px />View source on GitHub</a>\n",
    "  </td>\n",
    "  <td>\n",
    "    <a href=\"https://storage.googleapis.com/NeuroTorch/NeuroTorch/blob/main/tutorials/mnist/tutorial.ipynb\"><img src=\"https://github.com/NeuroTorch/NeuroTorch/blob/main/images/download_logo_32px.png?raw=true\" width=32px height=32px />Download notebook</a>\n",
    "  </td>\n",
    "</table>"
   ]
  },
  {
   "cell_type": "markdown",
   "metadata": {},
   "source": [
    "In this tutorial we will be learning how to use NeuroTorch to train a neural network to recognize handwritten digits."
   ]
  },
  {
   "cell_type": "markdown",
   "metadata": {},
   "source": [
    "## Setup"
   ]
  },
  {
   "cell_type": "markdown",
   "metadata": {},
   "source": [
    "You can now install the dependencies by running the following commands:"
   ]
  },
  {
   "cell_type": "code",
   "execution_count": null,
   "metadata": {},
   "outputs": [
    {
     "name": "stdout",
     "output_type": "stream",
     "text": [
      "Requirement already satisfied: matplotlib>=3.5.2 in e:\\github\\neurotorch\\venv_py38\\lib\\site-packages (from -r mnist_requirements.txt (line 1)) (3.6.3)\n",
      "Requirement already satisfied: numpy>=1.23.0 in e:\\github\\neurotorch\\venv_py38\\lib\\site-packages (from -r mnist_requirements.txt (line 2)) (1.24.1)\n",
      "Requirement already satisfied: setuptools>=60.2.0 in e:\\github\\neurotorch\\venv_py38\\lib\\site-packages (from -r mnist_requirements.txt (line 3)) (65.5.1)\n",
      "Requirement already satisfied: torch>=1.11.0 in e:\\github\\neurotorch\\venv_py38\\lib\\site-packages (from -r mnist_requirements.txt (line 4)) (1.13.1+cu117)\n",
      "Requirement already satisfied: torchvision>=0.12.0 in e:\\github\\neurotorch\\venv_py38\\lib\\site-packages (from -r mnist_requirements.txt (line 5)) (0.14.1)\n",
      "Requirement already satisfied: tqdm>=4.64.0 in e:\\github\\neurotorch\\venv_py38\\lib\\site-packages (from -r mnist_requirements.txt (line 6)) (4.64.1)\n",
      "Requirement already satisfied: psutil>=5.9.1 in e:\\github\\neurotorch\\venv_py38\\lib\\site-packages (from -r mnist_requirements.txt (line 8)) (5.9.4)\n",
      "Requirement already satisfied: pandas>=1.4.3 in e:\\github\\neurotorch\\venv_py38\\lib\\site-packages (from -r mnist_requirements.txt (line 9)) (1.5.2)\n",
      "Requirement already satisfied: scikit-learn>=1.1.1 in e:\\github\\neurotorch\\venv_py38\\lib\\site-packages (from -r mnist_requirements.txt (line 10)) (1.2.0)\n",
      "Requirement already satisfied: jupyter in e:\\github\\neurotorch\\venv_py38\\lib\\site-packages (from -r mnist_requirements.txt (line 11)) (1.0.0)\n",
      "Requirement already satisfied: pythonbasictools in e:\\github\\neurotorch\\venv_py38\\lib\\site-packages (from -r mnist_requirements.txt (line 12)) (0.0.1a7)\n",
      "Requirement already satisfied: norse in e:\\github\\neurotorch\\venv_py38\\lib\\site-packages (from -r mnist_requirements.txt (line 13)) (0.0.7.post1)\n",
      "Requirement already satisfied: unstable in e:\\github\\neurotorch\\venv_py38\\lib\\site-packages (from -r mnist_requirements.txt (line 14)) (0.5.1)\n",
      "Requirement already satisfied: pillow>=6.2.0 in e:\\github\\neurotorch\\venv_py38\\lib\\site-packages (from matplotlib>=3.5.2->-r mnist_requirements.txt (line 1)) (9.4.0)\n",
      "Requirement already satisfied: kiwisolver>=1.0.1 in e:\\github\\neurotorch\\venv_py38\\lib\\site-packages (from matplotlib>=3.5.2->-r mnist_requirements.txt (line 1)) (1.4.4)\n",
      "Requirement already satisfied: python-dateutil>=2.7 in e:\\github\\neurotorch\\venv_py38\\lib\\site-packages (from matplotlib>=3.5.2->-r mnist_requirements.txt (line 1)) (2.8.2)\n",
      "Requirement already satisfied: pyparsing>=2.2.1 in e:\\github\\neurotorch\\venv_py38\\lib\\site-packages (from matplotlib>=3.5.2->-r mnist_requirements.txt (line 1)) (3.0.9)\n",
      "Requirement already satisfied: fonttools>=4.22.0 in e:\\github\\neurotorch\\venv_py38\\lib\\site-packages (from matplotlib>=3.5.2->-r mnist_requirements.txt (line 1)) (4.38.0)\n",
      "Requirement already satisfied: cycler>=0.10 in e:\\github\\neurotorch\\venv_py38\\lib\\site-packages (from matplotlib>=3.5.2->-r mnist_requirements.txt (line 1)) (0.11.0)\n",
      "Requirement already satisfied: packaging>=20.0 in e:\\github\\neurotorch\\venv_py38\\lib\\site-packages (from matplotlib>=3.5.2->-r mnist_requirements.txt (line 1)) (23.0)\n",
      "Requirement already satisfied: contourpy>=1.0.1 in e:\\github\\neurotorch\\venv_py38\\lib\\site-packages (from matplotlib>=3.5.2->-r mnist_requirements.txt (line 1)) (1.0.7)\n",
      "Requirement already satisfied: typing-extensions in e:\\github\\neurotorch\\venv_py38\\lib\\site-packages (from torch>=1.11.0->-r mnist_requirements.txt (line 4)) (4.4.0)\n",
      "Requirement already satisfied: requests in e:\\github\\neurotorch\\venv_py38\\lib\\site-packages (from torchvision>=0.12.0->-r mnist_requirements.txt (line 5)) (2.28.2)\n",
      "Requirement already satisfied: colorama in e:\\github\\neurotorch\\venv_py38\\lib\\site-packages (from tqdm>=4.64.0->-r mnist_requirements.txt (line 6)) (0.4.6)\n",
      "Requirement already satisfied: pytz>=2020.1 in e:\\github\\neurotorch\\venv_py38\\lib\\site-packages (from pandas>=1.4.3->-r mnist_requirements.txt (line 9)) (2022.7.1)\n",
      "Requirement already satisfied: scipy>=1.3.2 in e:\\github\\neurotorch\\venv_py38\\lib\\site-packages (from scikit-learn>=1.1.1->-r mnist_requirements.txt (line 10)) (1.10.0)\n",
      "Requirement already satisfied: joblib>=1.1.1 in e:\\github\\neurotorch\\venv_py38\\lib\\site-packages (from scikit-learn>=1.1.1->-r mnist_requirements.txt (line 10)) (1.2.0)\n",
      "Requirement already satisfied: threadpoolctl>=2.0.0 in e:\\github\\neurotorch\\venv_py38\\lib\\site-packages (from scikit-learn>=1.1.1->-r mnist_requirements.txt (line 10)) (3.1.0)\n",
      "Requirement already satisfied: ipykernel in e:\\github\\neurotorch\\venv_py38\\lib\\site-packages (from jupyter->-r mnist_requirements.txt (line 11)) (6.20.2)\n",
      "Requirement already satisfied: jupyter-console in e:\\github\\neurotorch\\venv_py38\\lib\\site-packages (from jupyter->-r mnist_requirements.txt (line 11)) (6.4.4)\n",
      "Requirement already satisfied: ipywidgets in e:\\github\\neurotorch\\venv_py38\\lib\\site-packages (from jupyter->-r mnist_requirements.txt (line 11)) (8.0.4)\n",
      "Requirement already satisfied: notebook in e:\\github\\neurotorch\\venv_py38\\lib\\site-packages (from jupyter->-r mnist_requirements.txt (line 11)) (6.5.2)\n",
      "Requirement already satisfied: nbconvert in e:\\github\\neurotorch\\venv_py38\\lib\\site-packages (from jupyter->-r mnist_requirements.txt (line 11)) (7.2.8)\n",
      "Requirement already satisfied: qtconsole in e:\\github\\neurotorch\\venv_py38\\lib\\site-packages (from jupyter->-r mnist_requirements.txt (line 11)) (5.4.0)\n",
      "Requirement already satisfied: pytest>=7.1.2 in e:\\github\\neurotorch\\venv_py38\\lib\\site-packages (from pythonbasictools->-r mnist_requirements.txt (line 12)) (7.2.1)\n",
      "Requirement already satisfied: docutils>=0.17.1 in e:\\github\\neurotorch\\venv_py38\\lib\\site-packages (from pythonbasictools->-r mnist_requirements.txt (line 12)) (0.19)\n",
      "Requirement already satisfied: attrs>=19.2.0 in e:\\github\\neurotorch\\venv_py38\\lib\\site-packages (from pytest>=7.1.2->pythonbasictools->-r mnist_requirements.txt (line 12)) (22.2.0)\n",
      "Requirement already satisfied: pluggy<2.0,>=0.12 in e:\\github\\neurotorch\\venv_py38\\lib\\site-packages (from pytest>=7.1.2->pythonbasictools->-r mnist_requirements.txt (line 12)) (1.0.0)\n",
      "Requirement already satisfied: iniconfig in e:\\github\\neurotorch\\venv_py38\\lib\\site-packages (from pytest>=7.1.2->pythonbasictools->-r mnist_requirements.txt (line 12)) (2.0.0)\n",
      "Requirement already satisfied: exceptiongroup>=1.0.0rc8 in e:\\github\\neurotorch\\venv_py38\\lib\\site-packages (from pytest>=7.1.2->pythonbasictools->-r mnist_requirements.txt (line 12)) (1.1.0)\n",
      "Requirement already satisfied: tomli>=1.0.0 in e:\\github\\neurotorch\\venv_py38\\lib\\site-packages (from pytest>=7.1.2->pythonbasictools->-r mnist_requirements.txt (line 12)) (2.0.1)\n",
      "Requirement already satisfied: six>=1.5 in e:\\github\\neurotorch\\venv_py38\\lib\\site-packages (from python-dateutil>=2.7->matplotlib>=3.5.2->-r mnist_requirements.txt (line 1)) (1.16.0)\n",
      "Requirement already satisfied: ipython>=7.23.1 in e:\\github\\neurotorch\\venv_py38\\lib\\site-packages (from ipykernel->jupyter->-r mnist_requirements.txt (line 11)) (8.8.0)\n",
      "Requirement already satisfied: traitlets>=5.4.0 in e:\\github\\neurotorch\\venv_py38\\lib\\site-packages (from ipykernel->jupyter->-r mnist_requirements.txt (line 11)) (5.8.1)\n",
      "Requirement already satisfied: jupyter-client>=6.1.12 in e:\\github\\neurotorch\\venv_py38\\lib\\site-packages (from ipykernel->jupyter->-r mnist_requirements.txt (line 11)) (7.4.9)\n",
      "Requirement already satisfied: debugpy>=1.0 in e:\\github\\neurotorch\\venv_py38\\lib\\site-packages (from ipykernel->jupyter->-r mnist_requirements.txt (line 11)) (1.6.5)\n",
      "Requirement already satisfied: comm>=0.1.1 in e:\\github\\neurotorch\\venv_py38\\lib\\site-packages (from ipykernel->jupyter->-r mnist_requirements.txt (line 11)) (0.1.2)\n",
      "Requirement already satisfied: nest-asyncio in e:\\github\\neurotorch\\venv_py38\\lib\\site-packages (from ipykernel->jupyter->-r mnist_requirements.txt (line 11)) (1.5.6)\n",
      "Requirement already satisfied: tornado>=6.1 in e:\\github\\neurotorch\\venv_py38\\lib\\site-packages (from ipykernel->jupyter->-r mnist_requirements.txt (line 11)) (6.2)\n",
      "Requirement already satisfied: pyzmq>=17 in e:\\github\\neurotorch\\venv_py38\\lib\\site-packages (from ipykernel->jupyter->-r mnist_requirements.txt (line 11)) (25.0.0)\n",
      "Requirement already satisfied: matplotlib-inline>=0.1 in e:\\github\\neurotorch\\venv_py38\\lib\\site-packages (from ipykernel->jupyter->-r mnist_requirements.txt (line 11)) (0.1.6)\n",
      "Requirement already satisfied: widgetsnbextension~=4.0 in e:\\github\\neurotorch\\venv_py38\\lib\\site-packages (from ipywidgets->jupyter->-r mnist_requirements.txt (line 11)) (4.0.5)\n",
      "Requirement already satisfied: jupyterlab-widgets~=3.0 in e:\\github\\neurotorch\\venv_py38\\lib\\site-packages (from ipywidgets->jupyter->-r mnist_requirements.txt (line 11)) (3.0.5)\n",
      "Requirement already satisfied: prompt-toolkit!=3.0.0,!=3.0.1,<3.1.0,>=2.0.0 in e:\\github\\neurotorch\\venv_py38\\lib\\site-packages (from jupyter-console->jupyter->-r mnist_requirements.txt (line 11)) (3.0.36)\n",
      "Requirement already satisfied: pygments in e:\\github\\neurotorch\\venv_py38\\lib\\site-packages (from jupyter-console->jupyter->-r mnist_requirements.txt (line 11)) (2.14.0)\n",
      "Requirement already satisfied: jupyterlab-pygments in e:\\github\\neurotorch\\venv_py38\\lib\\site-packages (from nbconvert->jupyter->-r mnist_requirements.txt (line 11)) (0.2.2)\n",
      "Requirement already satisfied: jupyter-core>=4.7 in e:\\github\\neurotorch\\venv_py38\\lib\\site-packages (from nbconvert->jupyter->-r mnist_requirements.txt (line 11)) (5.1.3)\n",
      "Requirement already satisfied: nbclient>=0.5.0 in e:\\github\\neurotorch\\venv_py38\\lib\\site-packages (from nbconvert->jupyter->-r mnist_requirements.txt (line 11)) (0.7.2)\n",
      "Requirement already satisfied: nbformat>=5.1 in e:\\github\\neurotorch\\venv_py38\\lib\\site-packages (from nbconvert->jupyter->-r mnist_requirements.txt (line 11)) (5.7.3)\n",
      "Requirement already satisfied: beautifulsoup4 in e:\\github\\neurotorch\\venv_py38\\lib\\site-packages (from nbconvert->jupyter->-r mnist_requirements.txt (line 11)) (4.11.1)\n",
      "Requirement already satisfied: markupsafe>=2.0 in e:\\github\\neurotorch\\venv_py38\\lib\\site-packages (from nbconvert->jupyter->-r mnist_requirements.txt (line 11)) (2.1.1)\n",
      "Requirement already satisfied: pandocfilters>=1.4.1 in e:\\github\\neurotorch\\venv_py38\\lib\\site-packages (from nbconvert->jupyter->-r mnist_requirements.txt (line 11)) (1.5.0)\n",
      "Requirement already satisfied: bleach in e:\\github\\neurotorch\\venv_py38\\lib\\site-packages (from nbconvert->jupyter->-r mnist_requirements.txt (line 11)) (5.0.1)\n",
      "Requirement already satisfied: defusedxml in e:\\github\\neurotorch\\venv_py38\\lib\\site-packages (from nbconvert->jupyter->-r mnist_requirements.txt (line 11)) (0.7.1)\n",
      "Requirement already satisfied: mistune<3,>=2.0.3 in e:\\github\\neurotorch\\venv_py38\\lib\\site-packages (from nbconvert->jupyter->-r mnist_requirements.txt (line 11)) (2.0.4)\n",
      "Requirement already satisfied: importlib-metadata>=3.6 in e:\\github\\neurotorch\\venv_py38\\lib\\site-packages (from nbconvert->jupyter->-r mnist_requirements.txt (line 11)) (6.0.0)\n",
      "Requirement already satisfied: tinycss2 in e:\\github\\neurotorch\\venv_py38\\lib\\site-packages (from nbconvert->jupyter->-r mnist_requirements.txt (line 11)) (1.2.1)\n",
      "Requirement already satisfied: jinja2>=3.0 in e:\\github\\neurotorch\\venv_py38\\lib\\site-packages (from nbconvert->jupyter->-r mnist_requirements.txt (line 11)) (3.1.2)\n",
      "Requirement already satisfied: ipython-genutils in e:\\github\\neurotorch\\venv_py38\\lib\\site-packages (from notebook->jupyter->-r mnist_requirements.txt (line 11)) (0.2.0)\n",
      "Requirement already satisfied: nbclassic>=0.4.7 in e:\\github\\neurotorch\\venv_py38\\lib\\site-packages (from notebook->jupyter->-r mnist_requirements.txt (line 11)) (0.4.8)\n",
      "Requirement already satisfied: prometheus-client in e:\\github\\neurotorch\\venv_py38\\lib\\site-packages (from notebook->jupyter->-r mnist_requirements.txt (line 11)) (0.15.0)\n",
      "Requirement already satisfied: terminado>=0.8.3 in e:\\github\\neurotorch\\venv_py38\\lib\\site-packages (from notebook->jupyter->-r mnist_requirements.txt (line 11)) (0.17.1)\n",
      "Requirement already satisfied: argon2-cffi in e:\\github\\neurotorch\\venv_py38\\lib\\site-packages (from notebook->jupyter->-r mnist_requirements.txt (line 11)) (21.3.0)\n",
      "Requirement already satisfied: Send2Trash>=1.8.0 in e:\\github\\neurotorch\\venv_py38\\lib\\site-packages (from notebook->jupyter->-r mnist_requirements.txt (line 11)) (1.8.0)\n",
      "Requirement already satisfied: qtpy>=2.0.1 in e:\\github\\neurotorch\\venv_py38\\lib\\site-packages (from qtconsole->jupyter->-r mnist_requirements.txt (line 11)) (2.3.0)\n",
      "Requirement already satisfied: charset-normalizer<4,>=2 in e:\\github\\neurotorch\\venv_py38\\lib\\site-packages (from requests->torchvision>=0.12.0->-r mnist_requirements.txt (line 5)) (3.0.1)\n",
      "Requirement already satisfied: certifi>=2017.4.17 in e:\\github\\neurotorch\\venv_py38\\lib\\site-packages (from requests->torchvision>=0.12.0->-r mnist_requirements.txt (line 5)) (2022.12.7)\n",
      "Requirement already satisfied: urllib3<1.27,>=1.21.1 in e:\\github\\neurotorch\\venv_py38\\lib\\site-packages (from requests->torchvision>=0.12.0->-r mnist_requirements.txt (line 5)) (1.26.14)\n",
      "Requirement already satisfied: idna<4,>=2.5 in e:\\github\\neurotorch\\venv_py38\\lib\\site-packages (from requests->torchvision>=0.12.0->-r mnist_requirements.txt (line 5)) (3.4)\n",
      "Requirement already satisfied: zipp>=0.5 in e:\\github\\neurotorch\\venv_py38\\lib\\site-packages (from importlib-metadata>=3.6->nbconvert->jupyter->-r mnist_requirements.txt (line 11)) (3.11.0)\n",
      "Requirement already satisfied: stack-data in e:\\github\\neurotorch\\venv_py38\\lib\\site-packages (from ipython>=7.23.1->ipykernel->jupyter->-r mnist_requirements.txt (line 11)) (0.6.2)\n",
      "Requirement already satisfied: pickleshare in e:\\github\\neurotorch\\venv_py38\\lib\\site-packages (from ipython>=7.23.1->ipykernel->jupyter->-r mnist_requirements.txt (line 11)) (0.7.5)\n",
      "Requirement already satisfied: jedi>=0.16 in e:\\github\\neurotorch\\venv_py38\\lib\\site-packages (from ipython>=7.23.1->ipykernel->jupyter->-r mnist_requirements.txt (line 11)) (0.18.2)\n",
      "Requirement already satisfied: backcall in e:\\github\\neurotorch\\venv_py38\\lib\\site-packages (from ipython>=7.23.1->ipykernel->jupyter->-r mnist_requirements.txt (line 11)) (0.2.0)\n",
      "Requirement already satisfied: decorator in e:\\github\\neurotorch\\venv_py38\\lib\\site-packages (from ipython>=7.23.1->ipykernel->jupyter->-r mnist_requirements.txt (line 11)) (5.1.1)\n",
      "Requirement already satisfied: entrypoints in e:\\github\\neurotorch\\venv_py38\\lib\\site-packages (from jupyter-client>=6.1.12->ipykernel->jupyter->-r mnist_requirements.txt (line 11)) (0.4)\n",
      "Requirement already satisfied: pywin32>=1.0 in e:\\github\\neurotorch\\venv_py38\\lib\\site-packages (from jupyter-core>=4.7->nbconvert->jupyter->-r mnist_requirements.txt (line 11)) (305)\n",
      "Requirement already satisfied: platformdirs>=2.5 in e:\\github\\neurotorch\\venv_py38\\lib\\site-packages (from jupyter-core>=4.7->nbconvert->jupyter->-r mnist_requirements.txt (line 11)) (2.6.2)\n",
      "Requirement already satisfied: jupyter-server>=1.8 in e:\\github\\neurotorch\\venv_py38\\lib\\site-packages (from nbclassic>=0.4.7->notebook->jupyter->-r mnist_requirements.txt (line 11)) (2.1.0)\n",
      "Requirement already satisfied: notebook-shim>=0.1.0 in e:\\github\\neurotorch\\venv_py38\\lib\\site-packages (from nbclassic>=0.4.7->notebook->jupyter->-r mnist_requirements.txt (line 11)) (0.2.2)\n",
      "Requirement already satisfied: fastjsonschema in e:\\github\\neurotorch\\venv_py38\\lib\\site-packages (from nbformat>=5.1->nbconvert->jupyter->-r mnist_requirements.txt (line 11)) (2.16.2)\n",
      "Requirement already satisfied: jsonschema>=2.6 in e:\\github\\neurotorch\\venv_py38\\lib\\site-packages (from nbformat>=5.1->nbconvert->jupyter->-r mnist_requirements.txt (line 11)) (4.17.3)\n",
      "Requirement already satisfied: wcwidth in e:\\github\\neurotorch\\venv_py38\\lib\\site-packages (from prompt-toolkit!=3.0.0,!=3.0.1,<3.1.0,>=2.0.0->jupyter-console->jupyter->-r mnist_requirements.txt (line 11)) (0.2.6)\n",
      "Requirement already satisfied: pywinpty>=1.1.0 in e:\\github\\neurotorch\\venv_py38\\lib\\site-packages (from terminado>=0.8.3->notebook->jupyter->-r mnist_requirements.txt (line 11)) (2.0.10)\n",
      "Requirement already satisfied: argon2-cffi-bindings in e:\\github\\neurotorch\\venv_py38\\lib\\site-packages (from argon2-cffi->notebook->jupyter->-r mnist_requirements.txt (line 11)) (21.2.0)\n",
      "Requirement already satisfied: soupsieve>1.2 in e:\\github\\neurotorch\\venv_py38\\lib\\site-packages (from beautifulsoup4->nbconvert->jupyter->-r mnist_requirements.txt (line 11)) (2.3.2.post1)\n",
      "Requirement already satisfied: webencodings in e:\\github\\neurotorch\\venv_py38\\lib\\site-packages (from bleach->nbconvert->jupyter->-r mnist_requirements.txt (line 11)) (0.5.1)\n",
      "Requirement already satisfied: parso<0.9.0,>=0.8.0 in e:\\github\\neurotorch\\venv_py38\\lib\\site-packages (from jedi>=0.16->ipython>=7.23.1->ipykernel->jupyter->-r mnist_requirements.txt (line 11)) (0.8.3)\n",
      "Requirement already satisfied: pkgutil-resolve-name>=1.3.10 in e:\\github\\neurotorch\\venv_py38\\lib\\site-packages (from jsonschema>=2.6->nbformat>=5.1->nbconvert->jupyter->-r mnist_requirements.txt (line 11)) (1.3.10)\n",
      "Requirement already satisfied: pyrsistent!=0.17.0,!=0.17.1,!=0.17.2,>=0.14.0 in e:\\github\\neurotorch\\venv_py38\\lib\\site-packages (from jsonschema>=2.6->nbformat>=5.1->nbconvert->jupyter->-r mnist_requirements.txt (line 11)) (0.19.3)\n",
      "Requirement already satisfied: importlib-resources>=1.4.0 in e:\\github\\neurotorch\\venv_py38\\lib\\site-packages (from jsonschema>=2.6->nbformat>=5.1->nbconvert->jupyter->-r mnist_requirements.txt (line 11)) (5.10.2)\n",
      "Requirement already satisfied: websocket-client in e:\\github\\neurotorch\\venv_py38\\lib\\site-packages (from jupyter-server>=1.8->nbclassic>=0.4.7->notebook->jupyter->-r mnist_requirements.txt (line 11)) (1.4.2)\n",
      "Requirement already satisfied: anyio<4,>=3.1.0 in e:\\github\\neurotorch\\venv_py38\\lib\\site-packages (from jupyter-server>=1.8->nbclassic>=0.4.7->notebook->jupyter->-r mnist_requirements.txt (line 11)) (3.6.2)\n",
      "Requirement already satisfied: jupyter-server-terminals in e:\\github\\neurotorch\\venv_py38\\lib\\site-packages (from jupyter-server>=1.8->nbclassic>=0.4.7->notebook->jupyter->-r mnist_requirements.txt (line 11)) (0.4.4)\n",
      "Requirement already satisfied: jupyter-events>=0.4.0 in e:\\github\\neurotorch\\venv_py38\\lib\\site-packages (from jupyter-server>=1.8->nbclassic>=0.4.7->notebook->jupyter->-r mnist_requirements.txt (line 11)) (0.6.3)\n",
      "Requirement already satisfied: cffi>=1.0.1 in e:\\github\\neurotorch\\venv_py38\\lib\\site-packages (from argon2-cffi-bindings->argon2-cffi->notebook->jupyter->-r mnist_requirements.txt (line 11)) (1.15.1)\n",
      "Requirement already satisfied: pure-eval in e:\\github\\neurotorch\\venv_py38\\lib\\site-packages (from stack-data->ipython>=7.23.1->ipykernel->jupyter->-r mnist_requirements.txt (line 11)) (0.2.2)\n",
      "Requirement already satisfied: asttokens>=2.1.0 in e:\\github\\neurotorch\\venv_py38\\lib\\site-packages (from stack-data->ipython>=7.23.1->ipykernel->jupyter->-r mnist_requirements.txt (line 11)) (2.2.1)\n",
      "Requirement already satisfied: executing>=1.2.0 in e:\\github\\neurotorch\\venv_py38\\lib\\site-packages (from stack-data->ipython>=7.23.1->ipykernel->jupyter->-r mnist_requirements.txt (line 11)) (1.2.0)\n",
      "Requirement already satisfied: sniffio>=1.1 in e:\\github\\neurotorch\\venv_py38\\lib\\site-packages (from anyio<4,>=3.1.0->jupyter-server>=1.8->nbclassic>=0.4.7->notebook->jupyter->-r mnist_requirements.txt (line 11)) (1.3.0)\n",
      "Requirement already satisfied: pycparser in e:\\github\\neurotorch\\venv_py38\\lib\\site-packages (from cffi>=1.0.1->argon2-cffi-bindings->argon2-cffi->notebook->jupyter->-r mnist_requirements.txt (line 11)) (2.21)\n",
      "Requirement already satisfied: pyyaml>=5.3 in e:\\github\\neurotorch\\venv_py38\\lib\\site-packages (from jupyter-events>=0.4.0->jupyter-server>=1.8->nbclassic>=0.4.7->notebook->jupyter->-r mnist_requirements.txt (line 11)) (6.0)\n",
      "Requirement already satisfied: rfc3986-validator>=0.1.1 in e:\\github\\neurotorch\\venv_py38\\lib\\site-packages (from jupyter-events>=0.4.0->jupyter-server>=1.8->nbclassic>=0.4.7->notebook->jupyter->-r mnist_requirements.txt (line 11)) (0.1.1)\n",
      "Requirement already satisfied: rfc3339-validator in e:\\github\\neurotorch\\venv_py38\\lib\\site-packages (from jupyter-events>=0.4.0->jupyter-server>=1.8->nbclassic>=0.4.7->notebook->jupyter->-r mnist_requirements.txt (line 11)) (0.1.4)\n",
      "Requirement already satisfied: python-json-logger>=2.0.4 in e:\\github\\neurotorch\\venv_py38\\lib\\site-packages (from jupyter-events>=0.4.0->jupyter-server>=1.8->nbclassic>=0.4.7->notebook->jupyter->-r mnist_requirements.txt (line 11)) (2.0.4)\n",
      "Requirement already satisfied: isoduration in e:\\github\\neurotorch\\venv_py38\\lib\\site-packages (from jsonschema>=2.6->nbformat>=5.1->nbconvert->jupyter->-r mnist_requirements.txt (line 11)) (20.11.0)\n",
      "Requirement already satisfied: webcolors>=1.11 in e:\\github\\neurotorch\\venv_py38\\lib\\site-packages (from jsonschema>=2.6->nbformat>=5.1->nbconvert->jupyter->-r mnist_requirements.txt (line 11)) (1.12)\n",
      "Requirement already satisfied: jsonpointer>1.13 in e:\\github\\neurotorch\\venv_py38\\lib\\site-packages (from jsonschema>=2.6->nbformat>=5.1->nbconvert->jupyter->-r mnist_requirements.txt (line 11)) (2.3)\n",
      "Requirement already satisfied: fqdn in e:\\github\\neurotorch\\venv_py38\\lib\\site-packages (from jsonschema>=2.6->nbformat>=5.1->nbconvert->jupyter->-r mnist_requirements.txt (line 11)) (1.5.1)\n",
      "Requirement already satisfied: uri-template in e:\\github\\neurotorch\\venv_py38\\lib\\site-packages (from jsonschema>=2.6->nbformat>=5.1->nbconvert->jupyter->-r mnist_requirements.txt (line 11)) (1.2.0)\n",
      "Requirement already satisfied: arrow>=0.15.0 in e:\\github\\neurotorch\\venv_py38\\lib\\site-packages (from isoduration->jsonschema>=2.6->nbformat>=5.1->nbconvert->jupyter->-r mnist_requirements.txt (line 11)) (1.2.3)\n"
     ]
    },
    {
     "name": "stdout",
     "output_type": "stream",
     "text": [
      "Collecting git+https://github.com/NeuroTorch/NeuroTorch.git@update-tutorials\n",
      "  Cloning https://github.com/NeuroTorch/NeuroTorch.git (to revision update-tutorials) to c:\\users\\gince\\appdata\\local\\temp\\pip-req-build-h92dlhho\n",
      "  Resolved https://github.com/NeuroTorch/NeuroTorch.git to commit ea2fc81cf63798cfe1b7f547a4b07af74da99ade\n",
      "  Installing build dependencies: started\n",
      "  Installing build dependencies: finished with status 'done'\n",
      "  Getting requirements to build wheel: started\n",
      "  Getting requirements to build wheel: finished with status 'done'\n",
      "  Preparing metadata (pyproject.toml): started\n",
      "  Preparing metadata (pyproject.toml): finished with status 'done'\n",
      "Requirement already satisfied: tqdm>=4.64.0 in e:\\github\\neurotorch\\venv_py38\\lib\\site-packages (from NeuroTorch==0.0.1b1) (4.64.1)\n",
      "Requirement already satisfied: unstable in e:\\github\\neurotorch\\venv_py38\\lib\\site-packages (from NeuroTorch==0.0.1b1) (0.5.1)\n",
      "Requirement already satisfied: torchvision>=0.12.0 in e:\\github\\neurotorch\\venv_py38\\lib\\site-packages (from NeuroTorch==0.0.1b1) (0.14.1)\n",
      "Requirement already satisfied: scikit-learn>=1.1.1 in e:\\github\\neurotorch\\venv_py38\\lib\\site-packages (from NeuroTorch==0.0.1b1) (1.2.0)\n",
      "Requirement already satisfied: setuptools>=57.0.0 in e:\\github\\neurotorch\\venv_py38\\lib\\site-packages (from NeuroTorch==0.0.1b1) (65.5.1)\n",
      "Requirement already satisfied: scipy>=1.8.0 in e:\\github\\neurotorch\\venv_py38\\lib\\site-packages (from NeuroTorch==0.0.1b1) (1.10.0)\n",
      "Requirement already satisfied: six>=1.16.0 in e:\\github\\neurotorch\\venv_py38\\lib\\site-packages (from NeuroTorch==0.0.1b1) (1.16.0)\n",
      "Requirement already satisfied: pytest>=7.1.2 in e:\\github\\neurotorch\\venv_py38\\lib\\site-packages (from NeuroTorch==0.0.1b1) (7.2.1)\n",
      "Requirement already satisfied: pythonbasictools in e:\\github\\neurotorch\\venv_py38\\lib\\site-packages (from NeuroTorch==0.0.1b1) (0.0.1a7)\n",
      "Requirement already satisfied: psutil>=5.9.1 in e:\\github\\neurotorch\\venv_py38\\lib\\site-packages (from NeuroTorch==0.0.1b1) (5.9.4)\n",
      "Requirement already satisfied: numpy>=1.22.3 in e:\\github\\neurotorch\\venv_py38\\lib\\site-packages (from NeuroTorch==0.0.1b1) (1.24.1)\n",
      "Requirement already satisfied: docutils>=0.17.1 in e:\\github\\neurotorch\\venv_py38\\lib\\site-packages (from NeuroTorch==0.0.1b1) (0.19)\n",
      "Requirement already satisfied: matplotlib>=3.5.2 in e:\\github\\neurotorch\\venv_py38\\lib\\site-packages (from NeuroTorch==0.0.1b1) (3.6.3)\n",
      "Requirement already satisfied: torch>=1.11.0 in e:\\github\\neurotorch\\venv_py38\\lib\\site-packages (from NeuroTorch==0.0.1b1) (1.13.1+cu117)\n",
      "Requirement already satisfied: pyparsing>=2.2.1 in e:\\github\\neurotorch\\venv_py38\\lib\\site-packages (from matplotlib>=3.5.2->NeuroTorch==0.0.1b1) (3.0.9)\n",
      "Requirement already satisfied: pillow>=6.2.0 in e:\\github\\neurotorch\\venv_py38\\lib\\site-packages (from matplotlib>=3.5.2->NeuroTorch==0.0.1b1) (9.4.0)\n",
      "Requirement already satisfied: python-dateutil>=2.7 in e:\\github\\neurotorch\\venv_py38\\lib\\site-packages (from matplotlib>=3.5.2->NeuroTorch==0.0.1b1) (2.8.2)\n",
      "Requirement already satisfied: cycler>=0.10 in e:\\github\\neurotorch\\venv_py38\\lib\\site-packages (from matplotlib>=3.5.2->NeuroTorch==0.0.1b1) (0.11.0)\n",
      "Requirement already satisfied: packaging>=20.0 in e:\\github\\neurotorch\\venv_py38\\lib\\site-packages (from matplotlib>=3.5.2->NeuroTorch==0.0.1b1) (23.0)\n",
      "Requirement already satisfied: contourpy>=1.0.1 in e:\\github\\neurotorch\\venv_py38\\lib\\site-packages (from matplotlib>=3.5.2->NeuroTorch==0.0.1b1) (1.0.7)\n",
      "Requirement already satisfied: kiwisolver>=1.0.1 in e:\\github\\neurotorch\\venv_py38\\lib\\site-packages (from matplotlib>=3.5.2->NeuroTorch==0.0.1b1) (1.4.4)\n",
      "Requirement already satisfied: fonttools>=4.22.0 in e:\\github\\neurotorch\\venv_py38\\lib\\site-packages (from matplotlib>=3.5.2->NeuroTorch==0.0.1b1) (4.38.0)\n",
      "Requirement already satisfied: tomli>=1.0.0 in e:\\github\\neurotorch\\venv_py38\\lib\\site-packages (from pytest>=7.1.2->NeuroTorch==0.0.1b1) (2.0.1)\n",
      "Requirement already satisfied: pluggy<2.0,>=0.12 in e:\\github\\neurotorch\\venv_py38\\lib\\site-packages (from pytest>=7.1.2->NeuroTorch==0.0.1b1) (1.0.0)\n",
      "Requirement already satisfied: exceptiongroup>=1.0.0rc8 in e:\\github\\neurotorch\\venv_py38\\lib\\site-packages (from pytest>=7.1.2->NeuroTorch==0.0.1b1) (1.1.0)\n",
      "Requirement already satisfied: attrs>=19.2.0 in e:\\github\\neurotorch\\venv_py38\\lib\\site-packages (from pytest>=7.1.2->NeuroTorch==0.0.1b1) (22.2.0)\n",
      "Requirement already satisfied: iniconfig in e:\\github\\neurotorch\\venv_py38\\lib\\site-packages (from pytest>=7.1.2->NeuroTorch==0.0.1b1) (2.0.0)\n",
      "Requirement already satisfied: colorama in e:\\github\\neurotorch\\venv_py38\\lib\\site-packages (from pytest>=7.1.2->NeuroTorch==0.0.1b1) (0.4.6)\n",
      "Requirement already satisfied: joblib>=1.1.1 in e:\\github\\neurotorch\\venv_py38\\lib\\site-packages (from scikit-learn>=1.1.1->NeuroTorch==0.0.1b1) (1.2.0)\n",
      "Requirement already satisfied: threadpoolctl>=2.0.0 in e:\\github\\neurotorch\\venv_py38\\lib\\site-packages (from scikit-learn>=1.1.1->NeuroTorch==0.0.1b1) (3.1.0)\n",
      "Requirement already satisfied: typing-extensions in e:\\github\\neurotorch\\venv_py38\\lib\\site-packages (from torch>=1.11.0->NeuroTorch==0.0.1b1) (4.4.0)\n",
      "Requirement already satisfied: requests in e:\\github\\neurotorch\\venv_py38\\lib\\site-packages (from torchvision>=0.12.0->NeuroTorch==0.0.1b1) (2.28.2)\n",
      "Requirement already satisfied: urllib3<1.27,>=1.21.1 in e:\\github\\neurotorch\\venv_py38\\lib\\site-packages (from requests->torchvision>=0.12.0->NeuroTorch==0.0.1b1) (1.26.14)\n",
      "Requirement already satisfied: charset-normalizer<4,>=2 in e:\\github\\neurotorch\\venv_py38\\lib\\site-packages (from requests->torchvision>=0.12.0->NeuroTorch==0.0.1b1) (3.0.1)\n",
      "Requirement already satisfied: idna<4,>=2.5 in e:\\github\\neurotorch\\venv_py38\\lib\\site-packages (from requests->torchvision>=0.12.0->NeuroTorch==0.0.1b1) (3.4)\n",
      "Requirement already satisfied: certifi>=2017.4.17 in e:\\github\\neurotorch\\venv_py38\\lib\\site-packages (from requests->torchvision>=0.12.0->NeuroTorch==0.0.1b1) (2022.12.7)\n"
     ]
    },
    {
     "name": "stderr",
     "output_type": "stream",
     "text": [
      "  Running command git clone --filter=blob:none --quiet https://github.com/NeuroTorch/NeuroTorch.git 'C:\\Users\\gince\\AppData\\Local\\Temp\\pip-req-build-h92dlhho'\n",
      "  Running command git checkout -b update-tutorials --track origin/update-tutorials\n",
      "  Branch 'update-tutorials' set up to track remote branch 'update-tutorials' from 'origin'.\n",
      "  Switched to a new branch 'update-tutorials'\n"
     ]
    },
    {
     "name": "stdout",
     "output_type": "stream",
     "text": [
      "Requirement already satisfied: pythonbasictools in e:\\github\\neurotorch\\venv_py38\\lib\\site-packages (0.0.1a7)\n",
      "Requirement already satisfied: docutils>=0.17.1 in e:\\github\\neurotorch\\venv_py38\\lib\\site-packages (from pythonbasictools) (0.19)\n",
      "Requirement already satisfied: setuptools>=57.0.0 in e:\\github\\neurotorch\\venv_py38\\lib\\site-packages (from pythonbasictools) (65.5.1)\n",
      "Requirement already satisfied: psutil>=5.9.0 in e:\\github\\neurotorch\\venv_py38\\lib\\site-packages (from pythonbasictools) (5.9.4)\n",
      "Requirement already satisfied: pytest>=7.1.2 in e:\\github\\neurotorch\\venv_py38\\lib\\site-packages (from pythonbasictools) (7.2.1)\n",
      "Requirement already satisfied: tqdm>=4.62.3 in e:\\github\\neurotorch\\venv_py38\\lib\\site-packages (from pythonbasictools) (4.64.1)\n",
      "Requirement already satisfied: tomli>=1.0.0 in e:\\github\\neurotorch\\venv_py38\\lib\\site-packages (from pytest>=7.1.2->pythonbasictools) (2.0.1)\n",
      "Requirement already satisfied: attrs>=19.2.0 in e:\\github\\neurotorch\\venv_py38\\lib\\site-packages (from pytest>=7.1.2->pythonbasictools) (22.2.0)\n",
      "Requirement already satisfied: packaging in e:\\github\\neurotorch\\venv_py38\\lib\\site-packages (from pytest>=7.1.2->pythonbasictools) (23.0)\n",
      "Requirement already satisfied: colorama in e:\\github\\neurotorch\\venv_py38\\lib\\site-packages (from pytest>=7.1.2->pythonbasictools) (0.4.6)\n",
      "Requirement already satisfied: iniconfig in e:\\github\\neurotorch\\venv_py38\\lib\\site-packages (from pytest>=7.1.2->pythonbasictools) (2.0.0)\n",
      "Requirement already satisfied: pluggy<2.0,>=0.12 in e:\\github\\neurotorch\\venv_py38\\lib\\site-packages (from pytest>=7.1.2->pythonbasictools) (1.0.0)\n",
      "Requirement already satisfied: exceptiongroup>=1.0.0rc8 in e:\\github\\neurotorch\\venv_py38\\lib\\site-packages (from pytest>=7.1.2->pythonbasictools) (1.1.0)\n"
     ]
    }
   ],
   "source": [
    "#@title Install dependencies {display-mode: \"form\"}\n",
    "\n",
    "RunningInCOLAB = 'google.colab' in str(get_ipython()) if hasattr(__builtins__,'__IPYTHON__') else False\n",
    "\n",
    "if RunningInCOLAB:\n",
    "    !git clone https://github.com/NeuroTorch/NeuroTorch.git\n",
    "    %cd NeuroTorch/\n",
    "    !git checkout 0.0.1-beta1\n",
    "else:\n",
    "    !pip install -r mnist_requirements.txt\n",
    "\n",
    "# !pip install git+https://github.com/NeuroTorch/NeuroTorch.git@0.0.1-beta1\n",
    "!pip install git+https://github.com/NeuroTorch/NeuroTorch.git@update-tutorials\n",
    "!pip install pythonbasictools\n",
    "!pip install unstable\n",
    "!pip install norse"
   ]
  },
  {
   "cell_type": "markdown",
   "metadata": {},
   "source": [
    "If you have a cuda device and want to use it for this tutorial (it is recommended to do so), you can uninstall pytorch with `pip uninstall torch` and re-install it with the right cuda version by generating a command with [PyTorch GetStarted](https://pytorch.org/get-started/locally/) web page."
   ]
  },
  {
   "cell_type": "markdown",
   "metadata": {},
   "source": [
    "After setting up the virtual environment, we will need to import the necessary packages."
   ]
  },
  {
   "cell_type": "code",
   "execution_count": null,
   "metadata": {},
   "outputs": [],
   "source": [
    "import os\n",
    "import pprint\n",
    "from collections import OrderedDict\n",
    "\n",
    "import psutil\n",
    "import torch\n",
    "from torchvision.transforms import Compose\n",
    "import norse\n",
    "from pythonbasictools.device import log_device_setup, DeepLib\n",
    "from pythonbasictools.logging import logs_file_setup\n",
    "\n",
    "if RunningInCOLAB:\n",
    "    from NeuroTorch.tutorials.heidelberg.dataset import get_dataloaders\n",
    "else:\n",
    "    from dataset import get_dataloaders, DatasetId\n",
    "import neurotorch as nt\n",
    "from neurotorch import Dimension, DimensionProperty\n",
    "from neurotorch.callbacks import CheckpointManager, LoadCheckpointMode\n",
    "from neurotorch.metrics import ClassificationMetrics\n",
    "from neurotorch.trainers import ClassificationTrainer\n",
    "from neurotorch.transforms.spikes_encoders import SpyLIFEncoder"
   ]
  },
  {
   "cell_type": "markdown",
   "metadata": {},
   "source": []
  },
  {
   "cell_type": "code",
   "execution_count": null,
   "metadata": {},
   "outputs": [],
   "source": [
    "logs_file_setup(\"mnist_tutorial\", add_stdout=False)\n",
    "log_device_setup(deepLib=DeepLib.Pytorch)\n",
    "if torch.cuda.is_available():\n",
    "\ttorch.cuda.set_per_process_memory_fraction(0.8)"
   ]
  },
  {
   "cell_type": "markdown",
   "metadata": {},
   "source": [
    "## Initialization"
   ]
  },
  {
   "cell_type": "markdown",
   "metadata": {},
   "source": [
    "It's the time to defined our training and networks parameters. In the following,\n",
    "\n",
    "- the number of iteration is the number of time the trainer will pass through the entire training dataset;\n",
    "- the batch size is the number of samples that will be loaded at the same time for each forward and backward pass;\n",
    "- the learning rate is the learning rate used by the optimizer;\n",
    "- the number of steps is the number of euler integration steps performed by the model during each forward and backward pass;\n",
    "- the number of hidden neurons is the number of neurons that will be used in the hidden layer of the model;\n",
    "- dt is the time step of the euler integration;"
   ]
  },
  {
   "cell_type": "code",
   "execution_count": null,
   "metadata": {},
   "outputs": [],
   "source": [
    "dataset_id = DatasetId.MNIST\n",
    "\n",
    "# Training parameters\n",
    "n_iterations = 30\n",
    "batch_size = 1024\n",
    "learning_rate = 1e-3\n",
    "\n",
    "# Network parameters\n",
    "n_steps = 8\n",
    "n_hidden_neurons = 128\n",
    "dt = 1e-3"
   ]
  },
  {
   "cell_type": "markdown",
   "metadata": {},
   "source": [
    "Here we're initializing a callback of the trainer used to save the network during the training."
   ]
  },
  {
   "cell_type": "code",
   "execution_count": null,
   "metadata": {},
   "outputs": [],
   "source": [
    "checkpoint_folder = f\"./checkpoints/{dataset_id.name}_\"\n",
    "checkpoint_manager = CheckpointManager(checkpoint_folder, save_best_only=True)"
   ]
  },
  {
   "cell_type": "markdown",
   "metadata": {},
   "source": [
    "NeuroTorch is a library that allows to build bio-like networks, that is, they are in general recurrent neural networks. In this task we are classifying images, so we must transform the input images into times series of values. In our case, we are using spiking neural network to perform the classification, so we will transform the input images into spikes trains. The used transform in this tutorial is the ConstantCurrentLIFEncoder from the [norse](https://github.com/norse/norse) library."
   ]
  },
  {
   "cell_type": "code",
   "execution_count": null,
   "metadata": {},
   "outputs": [],
   "source": [
    "# input_transform = Compose([torch.nn.Flatten(start_dim=1), norse.torch.ConstantCurrentLIFEncoder(seq_length=n_steps, dt=dt), Lambda(lambda x: x.permute(1, 0, 2))])\n",
    "input_transform = Compose([torch.nn.Flatten(start_dim=2), SpyLIFEncoder(n_steps=n_steps, n_units=28*28)])"
   ]
  },
  {
   "cell_type": "markdown",
   "metadata": {},
   "source": [
    "It is time to load the dataloaders. The dataloader is an object used to the data from a given dataset. In our case we will load the MNIST or the FASHION-MNIST dataset. To change the dataset, just change the value of the variable `dataset_id` for `DatasetId.MNIST` or `DatasetId.FASHION_MNIST` in the cell below."
   ]
  },
  {
   "cell_type": "markdown",
   "metadata": {},
   "source": [
    "\n",
    "Here is an exemple of the MNIST dataset:\n",
    "<p align=\"center\"> <img width=\"1200\" height=\"500\" src=\"../../images/mnist/MnistExamples.png\"> </p>\n",
    "\n",
    "And an exemple of the Fashion-MNIST dataset:\n",
    "<p align=\"center\"> <img width=\"1200\" height=\"500\" src=\"../../images/mnist/fashion-mnist-sprite.png\"> </p>"
   ]
  },
  {
   "cell_type": "code",
   "execution_count": null,
   "metadata": {},
   "outputs": [],
   "source": [
    "dataloaders = get_dataloaders(\n",
    "\tdataset_id=dataset_id,\n",
    "\tbatch_size=batch_size,\n",
    "\ttrain_val_split_ratio=0.95,\n",
    "\tnb_workers=max(0, min(2, psutil.cpu_count(logical=False))),\n",
    "\tpin_memory=True,\n",
    ")"
   ]
  },
  {
   "cell_type": "markdown",
   "metadata": {},
   "source": [
    "We can finally define our model. The sequential model is a neural network that is composed of a list of layers. The list of layers is ordered and the first layer is the input layer. The last layer is the output layer. The sequential model can be found in the subpackage `neurotorch.modules`. Note that we can specify the input transform that will be applied to the input data before the forward pass through the list of layers. If the transformation is computationally expensive, it is recommended to put it in the dataloaders instead of the model for the training. Usually the input transform in the model is used when the model is used for inference."
   ]
  },
  {
   "cell_type": "code",
   "execution_count": null,
   "metadata": {},
   "outputs": [],
   "source": [
    "network = nt.SequentialRNN(\n",
    "\tinput_transform=input_transform,\n",
    "\tlayers=[\n",
    "\t\tnt.LIFLayer(\n",
    "\t\t\tinput_size=[Dimension(None, DimensionProperty.TIME), Dimension(28*28, DimensionProperty.NONE)],\n",
    "\t\t\tuse_recurrent_connection=False,\n",
    "\t\t\toutput_size=n_hidden_neurons,\n",
    "\t\t\tdt=dt,\n",
    "\t\t),\n",
    "\t\tnt.SpyLILayer(dt=dt, output_size=10),\n",
    "\t],\n",
    "\tname=f\"{dataset_id.name}_network\",\n",
    "\tcheckpoint_folder=checkpoint_folder,\n",
    "\thh_memory_size=1,\n",
    ")"
   ]
  },
  {
   "cell_type": "markdown",
   "metadata": {},
   "source": [
    "After the instantiation of the model, we have to build it, so it can infer the missing sizes of the layers in the model and create the tensors that will be used during the training."
   ]
  },
  {
   "cell_type": "code",
   "execution_count": null,
   "metadata": {},
   "outputs": [],
   "source": [
    "network.build()\n",
    "print(network)"
   ]
  },
  {
   "cell_type": "markdown",
   "metadata": {},
   "source": [
    "## Training"
   ]
  },
  {
   "cell_type": "markdown",
   "metadata": {},
   "source": [
    "In the next cell, we create the trainer that will be used to trained our network. They are several types of trainers that can be found in the subpackage `neurotorch.trainers` like the `ClassificationTrainer`, the `RegressionTrainer` or the `PPOTrainer`. In this tutorial, we will use the `ClassificationTrainer` because we are trying to classify some images. Note that the callbacks are some object that will be called during the training. They are found in the subpackage `neurotorch.callbacks` like the `CheckpointManager`."
   ]
  },
  {
   "cell_type": "code",
   "execution_count": null,
   "metadata": {},
   "outputs": [],
   "source": [
    "callbacks = [\n",
    "\tcheckpoint_manager,\n",
    "\tnt.BPTT(\n",
    "\t\toptimizer=torch.optim.Adam(network.parameters(), lr=learning_rate, weight_decay=0.0),\n",
    "\t\tcriterion=torch.nn.NLLLoss(),\n",
    "\t),\n",
    "]"
   ]
  },
  {
   "cell_type": "code",
   "execution_count": null,
   "metadata": {},
   "outputs": [],
   "source": [
    "trainer = ClassificationTrainer(\n",
    "\tmodel=network,\n",
    "\tcallbacks=callbacks,\n",
    "\tverbose=True,\n",
    ")\n",
    "print(trainer)"
   ]
  },
  {
   "cell_type": "markdown",
   "metadata": {},
   "source": [
    "The training will start! Let's see how our simple network will perform on this task.\n",
    "\n",
    "Note: the argument `force_overwrite` is used to overwrite the existing checkpoint if it exists and the argument `load_checkpoint_mode` if the model will be loaded from the last checkpoint (`LoadCheckpointMode.LAST_ITR`) or from the best checkpoint (`LoadCheckpointMode.BEST_ITR`). The loading mode is really useful when you want to stop the training and restart it later."
   ]
  },
  {
   "cell_type": "code",
   "execution_count": null,
   "metadata": {},
   "outputs": [],
   "source": [
    "training_history = trainer.train(\n",
    "\tdataloaders[\"train\"],\n",
    "\tdataloaders[\"val\"],\n",
    "\tn_iterations=n_iterations,\n",
    "\tload_checkpoint_mode=LoadCheckpointMode.LAST_ITR,\n",
    "\t# force_overwrite=True,\n",
    ")"
   ]
  },
  {
   "cell_type": "markdown",
   "metadata": {},
   "source": [
    "The training is finished! Let's see how our network learned over the iterations.\n",
    "\n",
    "Note: the next graphs are really useful to see if the model overfit or underfit the data over the iterations. It's why you can use the callback `TrainingHistoryVisualizationCallback` to see those graphs in real time."
   ]
  },
  {
   "cell_type": "code",
   "execution_count": null,
   "metadata": {},
   "outputs": [],
   "source": [
    "training_history.plot(show=True)"
   ]
  },
  {
   "cell_type": "markdown",
   "metadata": {},
   "source": [
    "We can load the model at the best or the last iteration for the testing phase."
   ]
  },
  {
   "cell_type": "code",
   "execution_count": null,
   "metadata": {},
   "outputs": [],
   "source": [
    "network.load_checkpoint(checkpoint_manager.checkpoints_meta_path, LoadCheckpointMode.BEST_ITR, verbose=True)"
   ]
  },
  {
   "cell_type": "markdown",
   "metadata": {},
   "source": [
    "We can now see how our network perform on the test dataset."
   ]
  },
  {
   "cell_type": "code",
   "execution_count": null,
   "metadata": {},
   "outputs": [],
   "source": [
    "accuracies={\n",
    "\tk: ClassificationMetrics.accuracy(network, dataloaders[k], verbose=True, desc=f\"{k}_accuracy\")\n",
    "\tfor k in dataloaders\n",
    "}\n",
    "pprint.pprint(accuracies)"
   ]
  },
  {
   "cell_type": "markdown",
   "metadata": {},
   "source": [
    "Let's see the results on other popular classification metrics."
   ]
  },
  {
   "cell_type": "code",
   "execution_count": null,
   "metadata": {},
   "outputs": [],
   "source": [
    "precisions={\n",
    "\tk: ClassificationMetrics.precision(network, dataloaders[k], verbose=True, desc=f\"{k}_precision\")\n",
    "\tfor k in dataloaders\n",
    "},\n",
    "recalls={\n",
    "\tk: ClassificationMetrics.recall(network, dataloaders[k], verbose=True, desc=f\"{k}_recall\")\n",
    "\tfor k in dataloaders\n",
    "},\n",
    "f1s={\n",
    "\tk: ClassificationMetrics.f1(network, dataloaders[k], verbose=True, desc=f\"{k}_f1\")\n",
    "\tfor k in dataloaders\n",
    "}"
   ]
  },
  {
   "cell_type": "code",
   "execution_count": null,
   "metadata": {},
   "outputs": [],
   "source": [
    "results = OrderedDict(dict(\n",
    "\tnetwork=network,\n",
    "\taccuracies=accuracies,\n",
    "\tprecisions=precisions,\n",
    "\trecalls=recalls,\n",
    "\tf1s=f1s,\n",
    "))"
   ]
  },
  {
   "cell_type": "code",
   "execution_count": null,
   "metadata": {},
   "outputs": [],
   "source": [
    "pprint.pprint(results, indent=4)"
   ]
  },
  {
   "cell_type": "markdown",
   "metadata": {},
   "source": [
    "This is the end of the tutorial!"
   ]
  },
  {
   "cell_type": "markdown",
   "metadata": {},
   "source": [
    "# Conclusion\n",
    "\n",
    "NeuroTorch is a library that allows you to easily build neural networks and train them. Moreover, it allows you to do image classification using dynamics from neurosciences."
   ]
  },
  {
   "cell_type": "code",
   "execution_count": null,
   "metadata": {},
   "outputs": [],
   "source": []
  }
 ],
 "metadata": {
  "kernelspec": {
   "display_name": "Python 3 (ipykernel)",
   "language": "python",
   "name": "python3"
  },
  "language_info": {
   "codemirror_mode": {
    "name": "ipython",
    "version": 3
   },
   "file_extension": ".py",
   "mimetype": "text/x-python",
   "name": "python",
   "nbconvert_exporter": "python",
   "pygments_lexer": "ipython3",
   "version": "3.8.10"
  }
 },
 "nbformat": 4,
 "nbformat_minor": 1
}
