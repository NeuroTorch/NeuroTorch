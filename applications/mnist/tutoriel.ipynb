{
 "cells": [
  {
   "cell_type": "markdown",
   "source": [
    "# MNIST Tutorial"
   ],
   "metadata": {
    "collapsed": false,
    "pycharm": {
     "name": "#%% md\n"
    }
   }
  },
  {
   "cell_type": "markdown",
   "source": [
    "In this tutorial we will be learning how to use NeuroTorch to train a neural network to recognize handwritten digits."
   ],
   "metadata": {
    "collapsed": false,
    "pycharm": {
     "name": "#%% md\n"
    }
   }
  },
  {
   "cell_type": "markdown",
   "source": [
    "## Setup"
   ],
   "metadata": {
    "collapsed": false,
    "pycharm": {
     "name": "#%% md\n"
    }
   }
  },
  {
   "cell_type": "markdown",
   "source": [
    "You can now install the dependencies by running the following commands:"
   ],
   "metadata": {
    "collapsed": false,
    "pycharm": {
     "name": "#%% md\n"
    }
   }
  },
  {
   "cell_type": "code",
   "execution_count": null,
   "outputs": [],
   "source": [
    "!pip install -r mnist_requirements.txt\n",
    "!pip install git+https://github.com/JeremieGince/PythonBasicTools\n",
    "!pip install git+https://github.com/JeremieGince/NeuroTorch.git"
   ],
   "metadata": {
    "collapsed": false,
    "pycharm": {
     "name": "#%%\n"
    }
   }
  },
  {
   "cell_type": "markdown",
   "source": [
    "If you have a cuda device and want to use it for this tutorial (it is recommended to do so), you can uninstall pytorch with `pip uninstall torch` and re-install it with the right cuda version by generating a command with [PyTorch GetStarted](https://pytorch.org/get-started/locally/) web page."
   ],
   "metadata": {
    "collapsed": false,
    "pycharm": {
     "name": "#%% md\n"
    }
   }
  },
  {
   "cell_type": "markdown",
   "source": [
    "After setting up the virtual environment, we will need to import the necessary packages."
   ],
   "metadata": {
    "collapsed": false,
    "pycharm": {
     "name": "#%% md\n"
    }
   }
  },
  {
   "cell_type": "code",
   "execution_count": 1,
   "outputs": [
    {
     "name": "stderr",
     "output_type": "stream",
     "text": [
      "<string>:4: (ERROR/3) Unknown interpreted text role \"attr\".\n",
      "<string>:5: (ERROR/3) Unknown interpreted text role \"attr\".\n",
      "<string>:6: (ERROR/3) Unknown interpreted text role \"attr\".\n",
      "<string>:7: (ERROR/3) Unknown interpreted text role \"attr\".\n",
      "<string>:1: (ERROR/3) Unknown interpreted text role \"attr\".\n",
      "<string>:1: (ERROR/3) Unknown interpreted text role \"attr\".\n",
      "<string>:1: (ERROR/3) Unknown interpreted text role \"method\".\n",
      "<string>:1: (ERROR/3) Unknown interpreted text role \"mth\".\n",
      "<string>:6: (ERROR/3) Unknown interpreted text role \"attr\".\n",
      "<string>:7: (ERROR/3) Unknown interpreted text role \"attr\".\n",
      "<string>:8: (ERROR/3) Unknown interpreted text role \"attr\".\n",
      "<string>:9: (ERROR/3) Unknown interpreted text role \"attr\".\n",
      "<string>:10: (ERROR/3) Unknown interpreted text role \"attr\".\n",
      "<string>:1: (ERROR/3) Unknown interpreted text role \"attr\".\n",
      "<string>:1: (ERROR/3) Unknown interpreted text role \"attr\".\n",
      "<string>:1: (ERROR/3) Unknown interpreted text role \"method\".\n",
      "<string>:1: (ERROR/3) Unknown interpreted text role \"mth\".\n",
      "<string>:6: (ERROR/3) Unknown interpreted text role \"attr\".\n",
      "<string>:7: (ERROR/3) Unknown interpreted text role \"attr\".\n",
      "<string>:8: (ERROR/3) Unknown interpreted text role \"attr\".\n",
      "<string>:9: (ERROR/3) Unknown interpreted text role \"attr\".\n",
      "<string>:10: (ERROR/3) Unknown interpreted text role \"attr\".\n",
      "<string>:13: (ERROR/3) Unknown interpreted text role \"attr\".\n",
      "<string>:14: (ERROR/3) Unknown interpreted text role \"attr\".\n",
      "<string>:15: (ERROR/3) Unknown interpreted text role \"attr\".\n",
      "<string>:16: (ERROR/3) Unknown interpreted text role \"attr\".\n",
      "<string>:17: (ERROR/3) Unknown interpreted text role \"attr\".\n",
      "<string>:18: (ERROR/3) Unknown interpreted text role \"attr\".\n",
      "<string>:19: (ERROR/3) Unknown interpreted text role \"attr\".\n",
      "<string>:20: (ERROR/3) Unknown interpreted text role \"attr\".\n",
      "<string>:21: (ERROR/3) Unknown interpreted text role \"attr\".\n",
      "<string>:1: (ERROR/3) Unknown interpreted text role \"cite:t\".\n",
      "<string>:1: (ERROR/3) Unknown interpreted text role \"cite:t\".\n",
      "<string>:1: (ERROR/3) Unknown interpreted text role \"cite:t\".\n",
      "<string>:1: (ERROR/3) Unknown interpreted text role \"eq\".\n",
      "<string>:6: (ERROR/3) Error in \"math\" directive:\n",
      "unknown option: \"label\".\n",
      "\n",
      ".. math::\n",
      "        \\begin{equation}\n",
      "                V_j^{t+\\Delta t} = \\left(\\alpha V_j^t + \\sum_{i}^{N} W_{ij}^{\\text{rec}} z_i^t +\n",
      "                \\sum_i^{N} W_{ij}^{\\text{in}} x_i^{t+\\Delta t}\\right) \\left(1 - z_j^t\\right)\n",
      "        \\end{equation}\n",
      "        :label: lif_V\n",
      "\n",
      "\n",
      "<string>:14: (ERROR/3) Unknown interpreted text role \"eq\".\n",
      "<string>:20: (ERROR/3) Unknown interpreted text role \"eq\".\n",
      "<string>:25: (ERROR/3) Error in \"math\" directive:\n",
      "unknown option: \"label\".\n",
      "\n",
      ".. math::\n",
      "        :label: lif_alpha\n",
      "\n",
      "        \\begin{equation}\n",
      "                \\alpha = e^{-\\frac{\\Delta t}{\\tau_m}}\n",
      "        \\end{equation}\n",
      "\n",
      "\n",
      "\n",
      "<string>:36: (ERROR/3) Unknown interpreted text role \"eq\".\n",
      "<string>:38: (ERROR/3) Error in \"math\" directive:\n",
      "unknown option: \"label\".\n",
      "\n",
      ".. math::\n",
      "        :label: lif_z\n",
      "\n",
      "        z_j^t = H(V_j^t - V_{\\text{th}})\n",
      "\n",
      "<string>:47: (ERROR/3) Unknown interpreted text role \"attr\".\n",
      "<string>:47: (ERROR/3) Unknown interpreted text role \"eq\".\n",
      "<string>:48: (ERROR/3) Unknown interpreted text role \"attr\".\n",
      "<string>:48: (ERROR/3) Unknown interpreted text role \"eq\".\n",
      "<string>:49: (ERROR/3) Unknown interpreted text role \"attr\".\n",
      "<string>:49: (ERROR/3) Unknown interpreted text role \"eq\".\n",
      "<string>:50: (ERROR/3) Unknown interpreted text role \"attr\".\n",
      "<string>:51: (ERROR/3) Unknown interpreted text role \"attr\".\n",
      "<string>:52: (ERROR/3) Unknown interpreted text role \"attr\".\n",
      "<string>:52: (ERROR/3) Unknown interpreted text role \"eq\".\n",
      "<string>:53: (ERROR/3) Unknown interpreted text role \"attr\".\n",
      "<string>:54: (ERROR/3) Unknown interpreted text role \"attr\".\n",
      "<string>:1: (ERROR/3) Unknown interpreted text role \"attr\".\n",
      "<string>:1: (ERROR/3) Unknown interpreted text role \"attr\".\n",
      "<string>:1: (ERROR/3) Unknown interpreted text role \"method\".\n",
      "<string>:1: (ERROR/3) Unknown interpreted text role \"mth\".\n",
      "<string>:6: (ERROR/3) Unknown interpreted text role \"attr\".\n",
      "<string>:7: (ERROR/3) Unknown interpreted text role \"attr\".\n",
      "<string>:8: (ERROR/3) Unknown interpreted text role \"attr\".\n",
      "<string>:9: (ERROR/3) Unknown interpreted text role \"attr\".\n",
      "<string>:10: (ERROR/3) Unknown interpreted text role \"attr\".\n",
      "<string>:13: (ERROR/3) Unknown interpreted text role \"attr\".\n",
      "<string>:14: (ERROR/3) Unknown interpreted text role \"attr\".\n",
      "<string>:15: (ERROR/3) Unknown interpreted text role \"attr\".\n",
      "<string>:16: (ERROR/3) Unknown interpreted text role \"attr\".\n",
      "<string>:17: (ERROR/3) Unknown interpreted text role \"attr\".\n",
      "<string>:18: (ERROR/3) Unknown interpreted text role \"attr\".\n",
      "<string>:19: (ERROR/3) Unknown interpreted text role \"attr\".\n",
      "<string>:20: (ERROR/3) Unknown interpreted text role \"attr\".\n",
      "<string>:21: (ERROR/3) Unknown interpreted text role \"attr\".\n",
      "<string>:1: (ERROR/3) Unknown interpreted text role \"class\".\n",
      "<string>:1: (ERROR/3) Unknown interpreted text role \"cite:t\".\n",
      "<string>:1: (ERROR/3) Unknown interpreted text role \"class\".\n",
      "<string>:1: (ERROR/3) Unknown interpreted text role \"eq\".\n",
      "<string>:1: (ERROR/3) Unknown interpreted text role \"eq\".\n",
      "<string>:7: (ERROR/3) Error in \"math\" directive:\n",
      "unknown option: \"label\".\n",
      "\n",
      ".. math::\n",
      "        :label: SpyLIF_I\n",
      "\n",
      "        \\begin{equation}\n",
      "                I_{\\text{syn}, j}^{t+\\Delta t} = \\alpha I_{     ext{syn}, j}^{t} + \\sum_{i}^{N} W_{ij}^{\\text{rec}} z_i^t\n",
      "                + \\sum_i^{N} W_{ij}^{\\text{in}} x_i^{t+\\Delta t}\n",
      "        \\end{equation}\n",
      "\n",
      "\n",
      "<string>:16: (ERROR/3) Error in \"math\" directive:\n",
      "unknown option: \"label\".\n",
      "\n",
      ".. math::\n",
      "        :label: SpyLIF_V\n",
      "\n",
      "        \\begin{equation}\n",
      "                V_j^{t+\\Delta t} = \\left(\\beta V_j^t + I_{\\text{syn}, j}^{t+\\Delta t}\\right) \\left(1 - z_j^t\\right)\n",
      "        \\end{equation}\n",
      "\n",
      "\n",
      "<string>:24: (ERROR/3) Error in \"math\" directive:\n",
      "unknown option: \"label\".\n",
      "\n",
      ".. math::\n",
      "        :label: spylif_alpha\n",
      "\n",
      "        \\begin{equation}\n",
      "                \\alpha = e^{-\\frac{\\Delta t}{\\tau_{\\text{syn}}}}\n",
      "        \\end{equation}\n",
      "\n",
      "<string>:33: (ERROR/3) Error in \"math\" directive:\n",
      "unknown option: \"label\".\n",
      "\n",
      ".. math::\n",
      "        :label: spylif_beta\n",
      "\n",
      "        \\begin{equation}\n",
      "                \\beta = e^{-\\frac{\\Delta t}{\\tau_{\\text{mem}}}}\n",
      "        \\end{equation}\n",
      "\n",
      "<string>:42: (ERROR/3) Unknown interpreted text role \"eq\".\n",
      "<string>:44: (ERROR/3) Error in \"math\" directive:\n",
      "unknown option: \"label\".\n",
      "\n",
      ".. math::\n",
      "        :label: spylif_z\n",
      "\n",
      "        z_j^t = H(V_j^t - V_{\\text{th}})\n",
      "\n",
      "<string>:54: (ERROR/3) Unknown interpreted text role \"eq\".\n",
      "<string>:54: (ERROR/3) Unknown interpreted text role \"eq\".\n",
      "<string>:61: (ERROR/3) Unknown interpreted text role \"eq\".\n",
      "<string>:62: (ERROR/3) Unknown interpreted text role \"eq\".\n",
      "<string>:68: (ERROR/3) Unknown interpreted text role \"attr\".\n",
      "<string>:68: (ERROR/3) Unknown interpreted text role \"eq\".\n",
      "<string>:69: (ERROR/3) Unknown interpreted text role \"attr\".\n",
      "<string>:69: (ERROR/3) Unknown interpreted text role \"eq\".\n",
      "<string>:70: (ERROR/3) Unknown interpreted text role \"attr\".\n",
      "<string>:71: (ERROR/3) Unknown interpreted text role \"attr\".\n",
      "<string>:1: (ERROR/3) Unknown interpreted text role \"cite:t\".\n",
      "<string>:1: (ERROR/3) Unknown interpreted text role \"cite:t\".\n",
      "<string>:1: (ERROR/3) Unknown interpreted text role \"cite:t\".\n",
      "<string>:1: (ERROR/3) Unknown interpreted text role \"eq\".\n",
      "<string>:6: (ERROR/3) Error in \"math\" directive:\n",
      "unknown option: \"label\".\n",
      "\n",
      ".. math::\n",
      "        \\begin{equation}\n",
      "                V_j^{t+\\Delta t} = \\left(\\alpha V_j^t + \\sum_{i}^{N} W_{ij}^{\\text{rec}} z_i^t +\n",
      "                \\sum_i^{N} W_{ij}^{\\text{in}} x_i^{t+\\Delta t}\\right) \\left(1 - z_j^t\\right)\n",
      "        \\end{equation}\n",
      "        :label: lif_V\n",
      "\n",
      "\n",
      "<string>:14: (ERROR/3) Unknown interpreted text role \"eq\".\n",
      "<string>:20: (ERROR/3) Unknown interpreted text role \"eq\".\n",
      "<string>:25: (ERROR/3) Error in \"math\" directive:\n",
      "unknown option: \"label\".\n",
      "\n",
      ".. math::\n",
      "        :label: lif_alpha\n",
      "\n",
      "        \\begin{equation}\n",
      "                \\alpha = e^{-\\frac{\\Delta t}{\\tau_m}}\n",
      "        \\end{equation}\n",
      "\n",
      "\n",
      "\n",
      "<string>:36: (ERROR/3) Unknown interpreted text role \"eq\".\n",
      "<string>:38: (ERROR/3) Error in \"math\" directive:\n",
      "unknown option: \"label\".\n",
      "\n",
      ".. math::\n",
      "        :label: lif_z\n",
      "\n",
      "        z_j^t = H(V_j^t - V_{\\text{th}})\n",
      "\n",
      "<string>:47: (ERROR/3) Unknown interpreted text role \"attr\".\n",
      "<string>:47: (ERROR/3) Unknown interpreted text role \"eq\".\n",
      "<string>:48: (ERROR/3) Unknown interpreted text role \"attr\".\n",
      "<string>:48: (ERROR/3) Unknown interpreted text role \"eq\".\n",
      "<string>:49: (ERROR/3) Unknown interpreted text role \"attr\".\n",
      "<string>:49: (ERROR/3) Unknown interpreted text role \"eq\".\n",
      "<string>:50: (ERROR/3) Unknown interpreted text role \"attr\".\n",
      "<string>:51: (ERROR/3) Unknown interpreted text role \"attr\".\n",
      "<string>:52: (ERROR/3) Unknown interpreted text role \"attr\".\n",
      "<string>:52: (ERROR/3) Unknown interpreted text role \"eq\".\n",
      "<string>:53: (ERROR/3) Unknown interpreted text role \"attr\".\n",
      "<string>:54: (ERROR/3) Unknown interpreted text role \"attr\".\n",
      "<string>:57: (ERROR/3) Unknown interpreted text role \"attr\".\n",
      "<string>:58: (ERROR/3) Unknown interpreted text role \"attr\".\n",
      "<string>:59: (ERROR/3) Unknown interpreted text role \"attr\".\n",
      "<string>:60: (ERROR/3) Unknown interpreted text role \"attr\".\n",
      "<string>:61: (ERROR/3) Unknown interpreted text role \"attr\".\n",
      "<string>:64: (ERROR/3) Unknown interpreted text role \"attr\".\n",
      "<string>:65: (ERROR/3) Unknown interpreted text role \"attr\".\n",
      "<string>:66: (ERROR/3) Unknown interpreted text role \"attr\".\n",
      "<string>:67: (ERROR/3) Unknown interpreted text role \"attr\".\n",
      "<string>:68: (ERROR/3) Unknown interpreted text role \"attr\".\n",
      "<string>:69: (ERROR/3) Unknown interpreted text role \"attr\".\n",
      "<string>:70: (ERROR/3) Unknown interpreted text role \"attr\".\n",
      "<string>:71: (ERROR/3) Unknown interpreted text role \"attr\".\n",
      "<string>:72: (ERROR/3) Unknown interpreted text role \"attr\".\n",
      "<string>:73: (WARNING/2) Field list ends without a blank line; unexpected unindent.\n",
      "<string>:73: (ERROR/3) Unknown interpreted text role \"attr\".\n",
      "<string>:74: (ERROR/3) Unknown interpreted text role \"attr\".\n",
      "<string>:75: (ERROR/3) Unknown interpreted text role \"attr\".\n",
      "<string>:76: (ERROR/3) Unknown interpreted text role \"attr\".\n",
      "<string>:77: (ERROR/3) Unknown interpreted text role \"attr\".\n",
      "<string>:78: (ERROR/3) Unknown interpreted text role \"attr\".\n",
      "<string>:79: (ERROR/3) Unknown interpreted text role \"attr\".\n",
      "<string>:80: (ERROR/3) Unknown interpreted text role \"attr\".\n",
      "<string>:81: (ERROR/3) Unknown interpreted text role \"attr\".\n",
      "<string>:82: (ERROR/3) Unknown interpreted text role \"attr\".\n",
      "<string>:82: (ERROR/3) Unknown interpreted text role \"eq\".\n",
      "<string>:83: (ERROR/3) Unknown interpreted text role \"attr\".\n",
      "<string>:83: (ERROR/3) Unknown interpreted text role \"eq\".\n",
      "<string>:84: (ERROR/3) Unknown interpreted text role \"attr\".\n",
      "<string>:84: (ERROR/3) Unknown interpreted text role \"eq\".\n",
      "<string>:85: (ERROR/3) Unknown interpreted text role \"attr\".\n",
      "<string>:86: (ERROR/3) Unknown interpreted text role \"attr\".\n",
      "<string>:87: (ERROR/3) Unknown interpreted text role \"attr\".\n",
      "<string>:87: (ERROR/3) Unknown interpreted text role \"eq\".\n",
      "<string>:88: (ERROR/3) Unknown interpreted text role \"attr\".\n",
      "<string>:89: (ERROR/3) Unknown interpreted text role \"attr\".\n",
      "<string>:1: (ERROR/3) Unknown interpreted text role \"cite:t\".\n",
      "<string>:1: (ERROR/3) Unknown interpreted text role \"class\".\n",
      "<string>:1: (ERROR/3) Unknown interpreted text role \"class\".\n",
      "<string>:1: (ERROR/3) Unknown interpreted text role \"eq\".\n",
      "<string>:10: (ERROR/3) Error in \"math\" directive:\n",
      "unknown option: \"label\".\n",
      "\n",
      ".. math::\n",
      "        :label: alif_z\n",
      "\n",
      "        \\begin{equation}\n",
      "                z_j^t = H(V_j^t - A_j^t)\n",
      "        \\end{equation}\n",
      "\n",
      "<string>:17: (ERROR/3) Unknown interpreted text role \"eq\".\n",
      "<string>:19: (ERROR/3) Error in \"math\" directive:\n",
      "unknown option: \"label\".\n",
      "\n",
      ".. math::\n",
      "        :label: alif_A\n",
      "\n",
      "        \\begin{equation}\n",
      "                A_j^t = V_{\\text{th}} + \\beta a_j^t\n",
      "        \\end{equation}\n",
      "\n",
      "<string>:26: (ERROR/3) Unknown interpreted text role \"eq\".\n",
      "<string>:26: (ERROR/3) Unknown interpreted text role \"cite:t\".\n",
      "<string>:29: (ERROR/3) Error in \"math\" directive:\n",
      "unknown option: \"label\".\n",
      "\n",
      ".. math::\n",
      "        :label: alif_a\n",
      "\n",
      "        \\begin{equation}\n",
      "                a_j^{t+1} = \\rho a_j + z_j^t\n",
      "        \\end{equation}\n",
      "\n",
      "<string>:38: (ERROR/3) Error in \"math\" directive:\n",
      "unknown option: \"label\".\n",
      "\n",
      ".. math::\n",
      "        :label: alif_rho\n",
      "\n",
      "        \\begin{equation}\n",
      "                \\rho = e^{-\\frac{\\Delta t}{\\tau_a}}\n",
      "        \\end{equation}\n",
      "\n",
      "<string>:46: (ERROR/3) Unknown interpreted text role \"attr\".\n",
      "<string>:47: (ERROR/3) Unknown interpreted text role \"attr\".\n",
      "<string>:1: (ERROR/3) Unknown interpreted text role \"attr\".\n",
      "<string>:1: (ERROR/3) Unknown interpreted text role \"attr\".\n",
      "<string>:1: (ERROR/3) Unknown interpreted text role \"method\".\n",
      "<string>:1: (ERROR/3) Unknown interpreted text role \"mth\".\n",
      "<string>:6: (ERROR/3) Unknown interpreted text role \"attr\".\n",
      "<string>:7: (ERROR/3) Unknown interpreted text role \"attr\".\n",
      "<string>:8: (ERROR/3) Unknown interpreted text role \"attr\".\n",
      "<string>:9: (ERROR/3) Unknown interpreted text role \"attr\".\n",
      "<string>:10: (ERROR/3) Unknown interpreted text role \"attr\".\n",
      "<string>:13: (ERROR/3) Unknown interpreted text role \"attr\".\n",
      "<string>:14: (ERROR/3) Unknown interpreted text role \"attr\".\n",
      "<string>:15: (ERROR/3) Unknown interpreted text role \"attr\".\n",
      "<string>:16: (ERROR/3) Unknown interpreted text role \"attr\".\n",
      "<string>:17: (ERROR/3) Unknown interpreted text role \"attr\".\n",
      "<string>:18: (ERROR/3) Unknown interpreted text role \"attr\".\n",
      "<string>:19: (ERROR/3) Unknown interpreted text role \"attr\".\n",
      "<string>:20: (ERROR/3) Unknown interpreted text role \"attr\".\n",
      "<string>:21: (ERROR/3) Unknown interpreted text role \"attr\".\n",
      "<string>:1: (ERROR/3) Unknown interpreted text role \"attr\".\n",
      "<string>:1: (ERROR/3) Unknown interpreted text role \"attr\".\n",
      "<string>:1: (ERROR/3) Unknown interpreted text role \"method\".\n",
      "<string>:1: (ERROR/3) Unknown interpreted text role \"mth\".\n",
      "<string>:6: (ERROR/3) Unknown interpreted text role \"attr\".\n",
      "<string>:7: (ERROR/3) Unknown interpreted text role \"attr\".\n",
      "<string>:8: (ERROR/3) Unknown interpreted text role \"attr\".\n",
      "<string>:9: (ERROR/3) Unknown interpreted text role \"attr\".\n",
      "<string>:10: (ERROR/3) Unknown interpreted text role \"attr\".\n",
      "<string>:13: (ERROR/3) Unknown interpreted text role \"attr\".\n",
      "<string>:14: (ERROR/3) Unknown interpreted text role \"attr\".\n",
      "<string>:15: (ERROR/3) Unknown interpreted text role \"attr\".\n",
      "<string>:16: (ERROR/3) Unknown interpreted text role \"attr\".\n",
      "<string>:17: (ERROR/3) Unknown interpreted text role \"attr\".\n",
      "<string>:18: (ERROR/3) Unknown interpreted text role \"attr\".\n",
      "<string>:19: (ERROR/3) Unknown interpreted text role \"attr\".\n",
      "<string>:20: (ERROR/3) Unknown interpreted text role \"attr\".\n",
      "<string>:21: (ERROR/3) Unknown interpreted text role \"attr\".\n",
      "<string>:10: (ERROR/3) Unknown interpreted text role \"cite:t\".\n",
      "<string>:11: (ERROR/3) Unknown interpreted text role \"cite:t\".\n",
      "<string>:12: (ERROR/3) Unknown interpreted text role \"cite:t\".\n",
      "<string>:14: (ERROR/3) Unknown interpreted text role \"cite:t\".\n",
      "<string>:1: (ERROR/3) Unknown interpreted text role \"attr\".\n",
      "<string>:1: (ERROR/3) Unknown interpreted text role \"attr\".\n",
      "<string>:1: (ERROR/3) Unknown interpreted text role \"method\".\n",
      "<string>:1: (ERROR/3) Unknown interpreted text role \"mth\".\n",
      "<string>:6: (ERROR/3) Unknown interpreted text role \"attr\".\n",
      "<string>:7: (ERROR/3) Unknown interpreted text role \"attr\".\n",
      "<string>:8: (ERROR/3) Unknown interpreted text role \"attr\".\n",
      "<string>:9: (ERROR/3) Unknown interpreted text role \"attr\".\n",
      "<string>:10: (ERROR/3) Unknown interpreted text role \"attr\".\n",
      "<string>:13: (ERROR/3) Unknown interpreted text role \"attr\".\n",
      "<string>:14: (ERROR/3) Unknown interpreted text role \"attr\".\n",
      "<string>:15: (ERROR/3) Unknown interpreted text role \"attr\".\n",
      "<string>:16: (ERROR/3) Unknown interpreted text role \"attr\".\n",
      "<string>:17: (ERROR/3) Unknown interpreted text role \"attr\".\n",
      "<string>:18: (ERROR/3) Unknown interpreted text role \"attr\".\n",
      "<string>:19: (ERROR/3) Unknown interpreted text role \"attr\".\n",
      "<string>:20: (ERROR/3) Unknown interpreted text role \"attr\".\n",
      "<string>:21: (ERROR/3) Unknown interpreted text role \"attr\".\n",
      "<string>:1: (ERROR/3) Unknown interpreted text role \"eq\".\n",
      "<string>:1: (ERROR/3) Unknown interpreted text role \"cite:t\".\n",
      "<string>:4: (ERROR/3) Error in \"math\" directive:\n",
      "unknown option: \"label\".\n",
      "\n",
      ".. math::\n",
      "        :label: li_v\n",
      "\n",
      "        \\begin{equation}\n",
      "                V_j^{t+\\Delta t} = \\kappa V_j^{t} + \\sum_{i}^N W_{ij}x_i^{t+\\Delta t} + b_j\n",
      "        \\end{equation}\n",
      "\n",
      "<string>:11: (ERROR/3) Error in \"math\" directive:\n",
      "unknown option: \"label\".\n",
      "\n",
      ".. math::\n",
      "        :label: li_kappa\n",
      "\n",
      "        \\begin{equation}\n",
      "                \\kappa = e^{-\\frac{\\Delta t}{\\tau_{\\text{mem}}}}\n",
      "        \\end{equation}\n",
      "\n",
      "\n",
      "<string>:19: (ERROR/3) Unknown interpreted text role \"eq\".\n",
      "<string>:24: (ERROR/3) Unknown interpreted text role \"eq\".\n",
      "<string>:30: (ERROR/3) Unknown interpreted text role \"attr\".\n",
      "<string>:31: (ERROR/3) Unknown interpreted text role \"attr\".\n",
      "<string>:31: (ERROR/3) Unknown interpreted text role \"eq\".\n",
      "<string>:1: (ERROR/3) Unknown interpreted text role \"attr\".\n",
      "<string>:1: (ERROR/3) Unknown interpreted text role \"attr\".\n",
      "<string>:1: (ERROR/3) Unknown interpreted text role \"method\".\n",
      "<string>:1: (ERROR/3) Unknown interpreted text role \"mth\".\n",
      "<string>:6: (ERROR/3) Unknown interpreted text role \"attr\".\n",
      "<string>:7: (ERROR/3) Unknown interpreted text role \"attr\".\n",
      "<string>:8: (ERROR/3) Unknown interpreted text role \"attr\".\n",
      "<string>:9: (ERROR/3) Unknown interpreted text role \"attr\".\n",
      "<string>:10: (ERROR/3) Unknown interpreted text role \"attr\".\n",
      "<string>:13: (ERROR/3) Unknown interpreted text role \"attr\".\n",
      "<string>:14: (ERROR/3) Unknown interpreted text role \"attr\".\n",
      "<string>:15: (ERROR/3) Unknown interpreted text role \"attr\".\n",
      "<string>:16: (ERROR/3) Unknown interpreted text role \"attr\".\n",
      "<string>:17: (ERROR/3) Unknown interpreted text role \"attr\".\n",
      "<string>:18: (ERROR/3) Unknown interpreted text role \"attr\".\n",
      "<string>:19: (ERROR/3) Unknown interpreted text role \"attr\".\n",
      "<string>:20: (ERROR/3) Unknown interpreted text role \"attr\".\n",
      "<string>:21: (ERROR/3) Unknown interpreted text role \"attr\".\n",
      "<string>:1: (ERROR/3) Unknown interpreted text role \"class\".\n",
      "<string>:1: (ERROR/3) Unknown interpreted text role \"cite:t\".\n",
      "<string>:1: (ERROR/3) Unknown interpreted text role \"class\".\n",
      "<string>:1: (ERROR/3) Unknown interpreted text role \"eq\".\n",
      "<string>:1: (ERROR/3) Unknown interpreted text role \"eq\".\n",
      "<string>:7: (ERROR/3) Error in \"math\" directive:\n",
      "unknown option: \"label\".\n",
      "\n",
      ".. math::\n",
      "        :label: SpyLI_I\n",
      "\n",
      "        \\begin{equation}\n",
      "                I_{\\text{syn}, j}^{t+\\Delta t} = \\alpha I_{     ext{syn}, j}^{t} +\n",
      "                \\sum_{i}^{N} W_{ij}^{\\text{rec}} I_{\\text{syn}, j}^{t}\n",
      "                + \\sum_i^{N} W_{ij}^{\\text{in}} x_i^{t+\\Delta t}\n",
      "        \\end{equation}\n",
      "\n",
      "\n",
      "<string>:17: (ERROR/3) Error in \"math\" directive:\n",
      "unknown option: \"label\".\n",
      "\n",
      ".. math::\n",
      "        :label: SpyLI_V\n",
      "\n",
      "        \\begin{equation}\n",
      "                V_j^{t+\\Delta t} = \\beta V_j^t + I_{\\text{syn}, j}^{t+\\Delta t} + b_j\n",
      "        \\end{equation}\n",
      "\n",
      "\n",
      "<string>:25: (ERROR/3) Error in \"math\" directive:\n",
      "unknown option: \"label\".\n",
      "\n",
      ".. math::\n",
      "        :label: spyli_alpha\n",
      "\n",
      "        \\begin{equation}\n",
      "                \\alpha = e^{-\\frac{\\Delta t}{\\tau_{\\text{syn}}}}\n",
      "        \\end{equation}\n",
      "\n",
      "<string>:34: (ERROR/3) Error in \"math\" directive:\n",
      "unknown option: \"label\".\n",
      "\n",
      ".. math::\n",
      "        :label: spyli_beta\n",
      "\n",
      "        \\begin{equation}\n",
      "                \\beta = e^{-\\frac{\\Delta t}{\\tau_{\\text{mem}}}}\n",
      "        \\end{equation}\n",
      "\n",
      "<string>:45: (ERROR/3) Unknown interpreted text role \"eq\".\n",
      "<string>:45: (ERROR/3) Unknown interpreted text role \"eq\".\n",
      "<string>:51: (ERROR/3) Unknown interpreted text role \"eq\".\n",
      "<string>:52: (ERROR/3) Unknown interpreted text role \"eq\".\n",
      "<string>:58: (ERROR/3) Unknown interpreted text role \"attr\".\n",
      "<string>:58: (ERROR/3) Unknown interpreted text role \"eq\".\n",
      "<string>:59: (ERROR/3) Unknown interpreted text role \"attr\".\n",
      "<string>:59: (ERROR/3) Unknown interpreted text role \"eq\".\n",
      "<string>:60: (ERROR/3) Unknown interpreted text role \"attr\".\n",
      "<string>:4: (ERROR/3) Unknown interpreted text role \"attr\".\n",
      "<string>:5: (ERROR/3) Unknown interpreted text role \"attr\".\n",
      "<string>:4: (ERROR/3) Unknown interpreted text role \"attr\".\n",
      "<string>:4: (ERROR/3) Unknown interpreted text role \"attr\".\n",
      "<string>:7: (ERROR/3) Unknown interpreted text role \"attr\".\n",
      "<string>:8: (ERROR/3) Unknown interpreted text role \"attr\".\n",
      "<string>:9: (ERROR/3) Unknown interpreted text role \"attr\".\n",
      "<string>:4: (ERROR/3) Unknown interpreted text role \"attr\".\n",
      "<string>:7: (ERROR/3) Unknown interpreted text role \"attr\".\n",
      "<string>:8: (ERROR/3) Unknown interpreted text role \"attr\".\n",
      "<string>:9: (ERROR/3) Unknown interpreted text role \"attr\".\n",
      "<string>:4: (ERROR/3) Unknown interpreted text role \"attr\".\n",
      "<string>:5: (ERROR/3) Unknown interpreted text role \"attr\".\n",
      "<string>:1: (ERROR/3) Unknown interpreted text role \"eq\".\n",
      "<string>:6: (ERROR/3) Error in \"math\" directive:\n",
      "unknown option: \"label\".\n",
      "\n",
      ".. math::\n",
      "        :label: dale_l2\n",
      "\n",
      "        \\begin{equation}\n",
      "                \\mathcal{L}_{\\text{DaleLawL2}} = \\text{Tr}\\left( W^T \\left(\\alpha W - \\left(1 - \\alpha\\right) W_{\\text{ref}}\\right) \\right)\n",
      "        \\end{equation}\n",
      "\n",
      "\n",
      "<string>:14: (ERROR/3) Unknown interpreted text role \"eq\".\n",
      "<string>:16: (ERROR/3) Error in \"math\" directive:\n",
      "unknown option: \"label\".\n",
      "\n",
      ".. math::\n",
      "        :label: dale\n",
      "\n",
      "        \\begin{equation}\n",
      "                \\mathcal{L}_{\\text{DaleLaw}} = -\\text{Tr}\\left( W^T W_{\\text{ref}}\\right)\n",
      "        \\end{equation}\n",
      "\n",
      "<string>:23: (ERROR/3) Unknown interpreted text role \"eq\".\n",
      "<string>:25: (ERROR/3) Error in \"math\" directive:\n",
      "unknown option: \"label\".\n",
      "\n",
      ".. math::\n",
      "        :label: l2\n",
      "\n",
      "        \\begin{equation}\n",
      "                \\mathcal{L}_{\\text{L2}} = \\text{Tr}\\left( W^T W\\right)\n",
      "        \\end{equation}\n",
      "\n",
      "\n",
      "<string>:34: (ERROR/3) Unknown interpreted text role \"attr\".\n",
      "<string>:35: (ERROR/3) Unknown interpreted text role \"attr\".\n",
      "<string>:35: (ERROR/3) Unknown interpreted text role \"func\".\n",
      "<string>:36: (ERROR/3) Unknown interpreted text role \"attr\".\n"
     ]
    }
   ],
   "source": [
    "import os\n",
    "import pprint\n",
    "from collections import OrderedDict\n",
    "\n",
    "import psutil\n",
    "import torch\n",
    "from torchvision.transforms import Compose\n",
    "import norse\n",
    "from pythonbasictools.device import log_device_setup, DeepLib\n",
    "from pythonbasictools.logging import logs_file_setup\n",
    "\n",
    "from applications.mnist.dataset import get_dataloaders, DatasetId\n",
    "from neurotorch import Dimension, DimensionProperty\n",
    "from neurotorch.modules import HeavisideSigmoidApprox, LIFLayer\n",
    "from neurotorch.callbacks import CheckpointManager, LoadCheckpointMode\n",
    "from neurotorch.metrics import ClassificationMetrics\n",
    "from neurotorch.modules import SequentialModel, ALIFLayer, LILayer\n",
    "from neurotorch.modules.layers import SpyLIFLayer, SpyLILayer\n",
    "from neurotorch.trainers import ClassificationTrainer\n",
    "from neurotorch.transforms.spikes_encoders import SpyLIFEncoder"
   ],
   "metadata": {
    "collapsed": false,
    "pycharm": {
     "name": "#%%\n"
    }
   }
  },
  {
   "cell_type": "markdown",
   "source": [],
   "metadata": {
    "collapsed": false,
    "pycharm": {
     "name": "#%% md\n"
    }
   }
  },
  {
   "cell_type": "code",
   "execution_count": 2,
   "outputs": [
    {
     "name": "stderr",
     "output_type": "stream",
     "text": [
      "INFO:root:Logs file at: .//logs/logs-12-09-2022/mnist_tutoriel-16629644628175995.log\n",
      "\n",
      "INFO:root:__Python VERSION: 3.9.12 (tags/v3.9.12:b28265d, Mar 23 2022, 23:52:46) [MSC v.1929 64 bit (AMD64)]\n",
      "INFO:root:Number of available cores: 12.\n",
      "INFO:root:Number of available logical processors: 24.\n",
      "INFO:root:__pyTorch VERSION:1.11.0+cu113\n",
      "INFO:root:__CUDA VERSION:\n",
      "nvcc: NVIDIA (R) Cuda compiler driver\r\n",
      "Copyright (c) 2005-2020 NVIDIA Corporation\r\n",
      "Built on Mon_Nov_30_19:15:10_Pacific_Standard_Time_2020\r\n",
      "Cuda compilation tools, release 11.2, V11.2.67\r\n",
      "Build cuda_11.2.r11.2/compiler.29373293_0\r\n",
      "\n",
      "INFO:root:__nvidia-smi: Not Found\n",
      "INFO:root:__CUDNN VERSION:8200\n",
      "INFO:root:__Number CUDA Devices:1\n",
      "INFO:root:\n",
      "-------------------------\n",
      "DEVICE: cuda\n",
      "-------------------------\n",
      "\n",
      "INFO:root:NVIDIA GeForce RTX 3070\n",
      "INFO:root:Memory Usage:\n",
      "INFO:root:Allocated: 0.0 GB\n",
      "INFO:root:Cached:   0.0 GB\n",
      "INFO:root:Memory summary: \n",
      "|===========================================================================|\n",
      "|                  PyTorch CUDA memory summary, device ID 0                 |\n",
      "|---------------------------------------------------------------------------|\n",
      "|            CUDA OOMs: 0            |        cudaMalloc retries: 0         |\n",
      "|===========================================================================|\n",
      "|        Metric         | Cur Usage  | Peak Usage | Tot Alloc  | Tot Freed  |\n",
      "|---------------------------------------------------------------------------|\n",
      "| Allocated memory      |       0 B  |       0 B  |       0 B  |       0 B  |\n",
      "|       from large pool |       0 B  |       0 B  |       0 B  |       0 B  |\n",
      "|       from small pool |       0 B  |       0 B  |       0 B  |       0 B  |\n",
      "|---------------------------------------------------------------------------|\n",
      "| Active memory         |       0 B  |       0 B  |       0 B  |       0 B  |\n",
      "|       from large pool |       0 B  |       0 B  |       0 B  |       0 B  |\n",
      "|       from small pool |       0 B  |       0 B  |       0 B  |       0 B  |\n",
      "|---------------------------------------------------------------------------|\n",
      "| GPU reserved memory   |       0 B  |       0 B  |       0 B  |       0 B  |\n",
      "|       from large pool |       0 B  |       0 B  |       0 B  |       0 B  |\n",
      "|       from small pool |       0 B  |       0 B  |       0 B  |       0 B  |\n",
      "|---------------------------------------------------------------------------|\n",
      "| Non-releasable memory |       0 B  |       0 B  |       0 B  |       0 B  |\n",
      "|       from large pool |       0 B  |       0 B  |       0 B  |       0 B  |\n",
      "|       from small pool |       0 B  |       0 B  |       0 B  |       0 B  |\n",
      "|---------------------------------------------------------------------------|\n",
      "| Allocations           |       0    |       0    |       0    |       0    |\n",
      "|       from large pool |       0    |       0    |       0    |       0    |\n",
      "|       from small pool |       0    |       0    |       0    |       0    |\n",
      "|---------------------------------------------------------------------------|\n",
      "| Active allocs         |       0    |       0    |       0    |       0    |\n",
      "|       from large pool |       0    |       0    |       0    |       0    |\n",
      "|       from small pool |       0    |       0    |       0    |       0    |\n",
      "|---------------------------------------------------------------------------|\n",
      "| GPU reserved segments |       0    |       0    |       0    |       0    |\n",
      "|       from large pool |       0    |       0    |       0    |       0    |\n",
      "|       from small pool |       0    |       0    |       0    |       0    |\n",
      "|---------------------------------------------------------------------------|\n",
      "| Non-releasable allocs |       0    |       0    |       0    |       0    |\n",
      "|       from large pool |       0    |       0    |       0    |       0    |\n",
      "|       from small pool |       0    |       0    |       0    |       0    |\n",
      "|---------------------------------------------------------------------------|\n",
      "| Oversize allocations  |       0    |       0    |       0    |       0    |\n",
      "|---------------------------------------------------------------------------|\n",
      "| Oversize GPU segments |       0    |       0    |       0    |       0    |\n",
      "|===========================================================================|\n",
      "\n"
     ]
    }
   ],
   "source": [
    "logs_file_setup(\"mnist_tutoriel\", add_stdout=False)\n",
    "log_device_setup(deepLib=DeepLib.Pytorch)\n",
    "torch.cuda.set_per_process_memory_fraction(0.8)"
   ],
   "metadata": {
    "collapsed": false,
    "pycharm": {
     "name": "#%%\n"
    }
   }
  },
  {
   "cell_type": "markdown",
   "source": [
    "## Initialization"
   ],
   "metadata": {
    "collapsed": false,
    "pycharm": {
     "name": "#%% md\n"
    }
   }
  },
  {
   "cell_type": "markdown",
   "source": [
    "It's the time to defined our training and networks parameters. In the following,\n",
    "\n",
    "- the number of iteration is the number of time the trainer will pass through the entire training dataset;\n",
    "- the batch size is the number of samples that will be loaded at the same time for each forward and backward pass;\n",
    "- the learning rate is the learning rate used by the optimizer;\n",
    "- the number of steps is the number of euler integration steps performed by the model during each forward and backward pass;\n",
    "- the number of hidden neurons is the number of neurons that will be used in the hidden layer of the model;\n",
    "- dt is the time step of the euler integration;"
   ],
   "metadata": {
    "collapsed": false,
    "pycharm": {
     "name": "#%% md\n"
    }
   }
  },
  {
   "cell_type": "code",
   "execution_count": 3,
   "outputs": [],
   "source": [
    "dataset_id = DatasetId.MNIST\n",
    "\n",
    "# Training parameters\n",
    "n_iterations = 30\n",
    "batch_size = 1024\n",
    "learning_rate = 1e-3\n",
    "\n",
    "# Network parameters\n",
    "n_steps = 8\n",
    "n_hidden_neurons = 128\n",
    "dt = 1e-3"
   ],
   "metadata": {
    "collapsed": false,
    "pycharm": {
     "name": "#%%\n"
    }
   }
  },
  {
   "cell_type": "markdown",
   "source": [
    "Here we're initializing a callback of the trainer used to save the network during the training."
   ],
   "metadata": {
    "collapsed": false,
    "pycharm": {
     "name": "#%% md\n"
    }
   }
  },
  {
   "cell_type": "code",
   "execution_count": 4,
   "outputs": [],
   "source": [
    "checkpoint_folder = f\"./checkpoints/{dataset_id.name}\"\n",
    "checkpoint_manager = CheckpointManager(checkpoint_folder, save_best_only=True, start_save_at=int(n_iterations * 0.9))"
   ],
   "metadata": {
    "collapsed": false,
    "pycharm": {
     "name": "#%%\n"
    }
   }
  },
  {
   "cell_type": "markdown",
   "source": [
    "NeuroTorch is a library that allows to build bio-like networks, that is, they are in general recurrent neural networks. In this task we are classifying images, so we must transform the input images into times series of values. In our case, we are using spiking neural network to perform the classification, so we will transform the input images into spikes trains. The used transform in this tutorial is the ConstantCurrentLIFEncoder from the [norse](https://github.com/norse/norse) library."
   ],
   "metadata": {
    "collapsed": false,
    "pycharm": {
     "name": "#%% md\n"
    }
   }
  },
  {
   "cell_type": "code",
   "execution_count": 5,
   "outputs": [],
   "source": [
    "# input_transform = Compose([torch.flatten, norse.torch.ConstantCurrentLIFEncoder(seq_length=n_steps, dt=dt)])\n",
    "input_transform = Compose([torch.nn.Flatten(start_dim=2), SpyLIFEncoder(n_steps=n_steps, n_units=28*28)])"
   ],
   "metadata": {
    "collapsed": false,
    "pycharm": {
     "name": "#%%\n"
    }
   }
  },
  {
   "cell_type": "markdown",
   "source": [
    "It is time to load the dataloaders. The dataloader is an object used to the data from a given dataset. In our case we will load the MNIST or the FASHION-MNIST dataset. To change the dataset, just change the value of the variable `dataset_id` for `DatasetId.MNIST` or `DatasetId.FASHION_MNIST` in the cell below."
   ],
   "metadata": {
    "collapsed": false,
    "pycharm": {
     "name": "#%% md\n"
    }
   }
  },
  {
   "cell_type": "markdown",
   "source": [
    "\n",
    "Here is an exemple of the MNIST dataset:\n",
    "<p align=\"center\"> <img width=\"1200\" height=\"500\" src=\"../../images/mnist/MnistExamples.png\"> </p>\n",
    "\n",
    "And an exemple of the Fashion-MNIST dataset:\n",
    "<p align=\"center\"> <img width=\"1200\" height=\"500\" src=\"../../images/mnist/fashion-mnist-sprite.png\"> </p>"
   ],
   "metadata": {
    "collapsed": false,
    "pycharm": {
     "name": "#%% md\n"
    }
   }
  },
  {
   "cell_type": "code",
   "execution_count": 6,
   "outputs": [],
   "source": [
    "dataloaders = get_dataloaders(\n",
    "\tdataset_id=dataset_id,\n",
    "\tbatch_size=batch_size,\n",
    "\t# input_transform=input_transform,\n",
    "\ttrain_val_split_ratio=0.95,\n",
    "\tnb_workers=psutil.cpu_count(logical=False),\n",
    ")"
   ],
   "metadata": {
    "collapsed": false,
    "pycharm": {
     "name": "#%%\n"
    }
   }
  },
  {
   "cell_type": "markdown",
   "source": [
    "We can finally define our model. The sequential model is a neural network that is composed of a list of layers. The list of layers is ordered and the first layer is the input layer. The last layer is the output layer. The sequential model can be found in the subpackage `neurotorch.modules`. Note that we can specify the input transform that will be applied to the input data before the forward pass through the list of layers. If the transformation is computationally expensive, it is recommended to put it in the dataloaders instead of the model for the training. Usually the input transform in the model is used when the model is used for inference."
   ],
   "metadata": {
    "collapsed": false,
    "pycharm": {
     "name": "#%% md\n"
    }
   }
  },
  {
   "cell_type": "code",
   "execution_count": 7,
   "outputs": [],
   "source": [
    "network = SequentialModel(\n",
    "\tinput_transform=input_transform,\n",
    "\tlayers=[\n",
    "\t\tLIFLayer(\n",
    "\t\t\tinput_size=[Dimension(None, DimensionProperty.TIME), Dimension(28*28, DimensionProperty.NONE)],\n",
    "\t\t\tuse_recurrent_connection=False,\n",
    "\t\t\tspike_func=HeavisideSigmoidApprox,\n",
    "\t\t\toutput_size=n_hidden_neurons,\n",
    "\t\t\tdt=dt,\n",
    "\t\t),\n",
    "\t\tSpyLILayer(dt=dt, output_size=10),\n",
    "\t],\n",
    "\tname=f\"{dataset_id.name}_network\",\n",
    "\tcheckpoint_folder=checkpoint_folder,\n",
    ")"
   ],
   "metadata": {
    "collapsed": false,
    "pycharm": {
     "name": "#%%\n"
    }
   }
  },
  {
   "cell_type": "markdown",
   "source": [
    "After the instantiation of the model, we have to build it, so it can infer the missing sizes of the layers in the model and create the tensors that will be used during the training."
   ],
   "metadata": {
    "collapsed": false,
    "pycharm": {
     "name": "#%% md\n"
    }
   }
  },
  {
   "cell_type": "code",
   "execution_count": 8,
   "outputs": [
    {
     "name": "stdout",
     "output_type": "stream",
     "text": [
      "SequentialModel(\n",
      "  (_to_device_transform): ToDevice(cuda)\n",
      "  (input_layers): ModuleDict(\n",
      "    (input_0): LIFLayer<input_0>(784->128)[LearningType.BPTT]@cuda\n",
      "  )\n",
      "  (hidden_layers): ModuleList()\n",
      "  (output_layers): ModuleDict(\n",
      "    (output_0): SpyLILayer<output_0>(128->10)[LearningType.BPTT]@cuda\n",
      "  )\n",
      "  (input_transform): ModuleDict(\n",
      "    (input_0): Sequential(\n",
      "      (0): CallableToModuleWrapper(Compose(\n",
      "          Flatten(start_dim=2, end_dim=-1)\n",
      "          SpyLIFEncoder(\n",
      "        (const_transform): ConstantValuesTransform(n_steps=8)\n",
      "        (spikes_layer): SpyLIFLayer<encoder>(784->784)[LearningType.NONE]@cuda\n",
      "      )\n",
      "      ))\n",
      "      (1): ToDevice(cuda)\n",
      "    )\n",
      "  )\n",
      "  (output_transform): ModuleDict(\n",
      "    (output_0): IdentityTransform()\n",
      "  )\n",
      ")\n"
     ]
    }
   ],
   "source": [
    "network.build()\n",
    "print(network)"
   ],
   "metadata": {
    "collapsed": false,
    "pycharm": {
     "name": "#%%\n"
    }
   }
  },
  {
   "cell_type": "markdown",
   "source": [
    "## Training"
   ],
   "metadata": {
    "collapsed": false,
    "pycharm": {
     "name": "#%% md\n"
    }
   }
  },
  {
   "cell_type": "markdown",
   "source": [
    "In the next cell, we create the trainer that will be used to trained our network. They are several types of trainers that can be found in the subpackage `neurotorch.trainers` like the `ClassificationTrainer`, the `RegressionTrainer` or the `PPOTrainer`. In this tutorial, we will use the `ClassificationTrainer` because we are trying to classify some images. Note that the callbacks are some object that will be called during the training. They are found in the subpackage `neurotorch.callbacks` like the `CheckpointManager`."
   ],
   "metadata": {
    "collapsed": false,
    "pycharm": {
     "name": "#%% md\n"
    }
   }
  },
  {
   "cell_type": "code",
   "execution_count": 9,
   "outputs": [],
   "source": [
    "trainer = ClassificationTrainer(\n",
    "\tmodel=network,\n",
    "\toptimizer=torch.optim.Adam(network.parameters(), lr=learning_rate),\n",
    "\tcallbacks=checkpoint_manager,\n",
    "\tverbose=True,\n",
    ")"
   ],
   "metadata": {
    "collapsed": false,
    "pycharm": {
     "name": "#%%\n"
    }
   }
  },
  {
   "cell_type": "markdown",
   "source": [
    "The training will start! Let's see how our simple network will perform on this task.\n",
    "\n",
    "Note: the argument `force_overwrite` is used to overwrite the existing checkpoint if it exists and the argument `load_checkpoint_mode` if the model will be loaded from the last checkpoint (`LoadCheckpointMode.LAST_ITR`) or from the best checkpoint (`LoadCheckpointMode.BEST_ITR`). The loading mode is really useful when you want to stop the training and restart it later."
   ],
   "metadata": {
    "collapsed": false,
    "pycharm": {
     "name": "#%% md\n"
    }
   }
  },
  {
   "cell_type": "code",
   "execution_count": 10,
   "outputs": [
    {
     "data": {
      "text/plain": "Training:   0%|          | 0/30 [00:00<?, ?itr/s]",
      "application/vnd.jupyter.widget-view+json": {
       "version_major": 2,
       "version_minor": 0,
       "model_id": "aabb7f20aac04f96a49086186cc17d56"
      }
     },
     "metadata": {},
     "output_type": "display_data"
    }
   ],
   "source": [
    "training_history = trainer.train(\n",
    "\tdataloaders[\"train\"],\n",
    "\tdataloaders[\"val\"],\n",
    "\tn_iterations=n_iterations,\n",
    "\tload_checkpoint_mode=LoadCheckpointMode.LAST_ITR,\n",
    "\t# force_overwrite=True,\n",
    ")"
   ],
   "metadata": {
    "collapsed": false,
    "pycharm": {
     "name": "#%%\n"
    }
   }
  },
  {
   "cell_type": "markdown",
   "source": [
    "The training is finished! Let's see how our network learned over the iterations.\n",
    "\n",
    "Note: the next graphs are really useful to see if the model overfit or underfit the data over the iterations. It's why you can use the callback `TrainingHistoryVisualizationCallback` to see those graphs in real time."
   ],
   "metadata": {
    "collapsed": false,
    "pycharm": {
     "name": "#%% md\n"
    }
   }
  },
  {
   "cell_type": "code",
   "execution_count": 11,
   "outputs": [
    {
     "data": {
      "text/plain": "<Figure size 1152x864 with 6 Axes>",
      "image/png": "[encoded data removed]"
     },
     "metadata": {
      "needs_background": "light"
     },
     "output_type": "display_data"
    },
    {
     "data": {
      "text/plain": "(<Figure size 1152x864 with 6 Axes>,\n {'losses': <AxesSubplot:xlabel='Iterations [-]', ylabel='Loss [-]'>,\n  'val_f1': <AxesSubplot:xlabel='Iterations [-]'>,\n  'train_f1': <AxesSubplot:xlabel='Iterations [-]'>,\n  'val_recall': <AxesSubplot:xlabel='Iterations [-]'>,\n  'train_recall': <AxesSubplot:xlabel='Iterations [-]'>,\n  'val_precision': <AxesSubplot:xlabel='Iterations [-]'>,\n  'train_precision': <AxesSubplot:xlabel='Iterations [-]'>,\n  'val_accuracy': <AxesSubplot:xlabel='Iterations [-]'>,\n  'train_accuracy': <AxesSubplot:xlabel='Iterations [-]'>},\n {'train_loss': <matplotlib.lines.Line2D at 0x2384d37ad60>,\n  'val_loss': <matplotlib.lines.Line2D at 0x2384d3880a0>,\n  'val_f1': <matplotlib.lines.Line2D at 0x2384d3903d0>,\n  'train_f1': <matplotlib.lines.Line2D at 0x2384d3906d0>,\n  'val_recall': <matplotlib.lines.Line2D at 0x2384d39a970>,\n  'train_recall': <matplotlib.lines.Line2D at 0x2384d39ac70>,\n  'val_precision': <matplotlib.lines.Line2D at 0x2384d3a9100>,\n  'train_precision': <matplotlib.lines.Line2D at 0x2384d3a9400>,\n  'val_accuracy': <matplotlib.lines.Line2D at 0x2384d3b36a0>,\n  'train_accuracy': <matplotlib.lines.Line2D at 0x2384d3b39a0>})"
     },
     "execution_count": 11,
     "metadata": {},
     "output_type": "execute_result"
    }
   ],
   "source": [
    "training_history.plot(show=True)"
   ],
   "metadata": {
    "collapsed": false,
    "pycharm": {
     "name": "#%%\n"
    }
   }
  },
  {
   "cell_type": "markdown",
   "source": [
    "We can load the model at the best or the last iteration for the testing phase."
   ],
   "metadata": {
    "collapsed": false,
    "pycharm": {
     "name": "#%% md\n"
    }
   }
  },
  {
   "cell_type": "code",
   "execution_count": 12,
   "outputs": [
    {
     "name": "stderr",
     "output_type": "stream",
     "text": [
      "INFO:root:Loading checkpoint from ./checkpoints/FASHION_MNIST/network-itr29.pth\n"
     ]
    },
    {
     "data": {
      "text/plain": "{'itr': 29,\n 'model_state_dict': OrderedDict([('input_layers.input_0.alpha',\n               tensor(0.9048, device='cuda:0')),\n              ('input_layers.input_0.threshold', tensor(1., device='cuda:0')),\n              ('input_layers.input_0.gamma', tensor(100., device='cuda:0')),\n              ('input_layers.input_0.forward_weights',\n               tensor([[ 0.0042, -0.0875, -0.0639,  ...,  0.0715, -0.0665,  0.0178],\n                       [ 0.0771, -0.0059, -0.0822,  ...,  0.0372,  0.0371,  0.0495],\n                       [-0.0667,  0.0962, -0.1548,  ...,  0.0068, -0.0241,  0.0835],\n                       ...,\n                       [-0.0916,  0.1354,  0.0259,  ...,  0.0495, -0.0242, -0.0157],\n                       [-0.1528,  0.0476,  0.0609,  ...,  0.0161, -0.0218,  0.1594],\n                       [-0.0881,  0.1096,  0.0290,  ..., -0.0389,  0.0558,  0.0218]],\n                      device='cuda:0')),\n              ('output_layers.output_0.forward_weights',\n               tensor([[-0.0270, -0.1722, -0.0641,  ...,  0.0589,  0.0987,  0.0216],\n                       [ 0.0553, -0.0015,  0.0661,  ..., -0.1274, -0.0768, -0.0395],\n                       [ 0.0033,  0.0541,  0.0109,  ...,  0.0659,  0.0333,  0.0005],\n                       ...,\n                       [-0.1004, -0.0074, -0.1614,  ..., -0.0549, -0.0989,  0.0751],\n                       [ 0.0564,  0.0825, -0.0429,  ..., -0.0226, -0.0965, -0.0038],\n                       [-0.0392, -0.0129,  0.0514,  ..., -0.0034,  0.0165, -0.0745]],\n                      device='cuda:0'))]),\n 'optimizer_state_dict': {'state': {3: {'step': 1680,\n    'exp_avg': tensor([[ 0.0000e+00,  0.0000e+00,  0.0000e+00,  ...,  0.0000e+00,\n              0.0000e+00,  0.0000e+00],\n            [ 0.0000e+00,  0.0000e+00,  0.0000e+00,  ...,  0.0000e+00,\n              0.0000e+00,  0.0000e+00],\n            [ 4.1256e-06, -1.3207e-07,  3.7247e-07,  ..., -1.9620e-11,\n             -2.8037e-10, -2.7706e-10],\n            ...,\n            [-2.3958e-06,  5.3036e-07, -3.1043e-06,  ...,  4.7823e-10,\n              1.2414e-08, -1.4725e-07],\n            [ 4.2837e-06,  2.9730e-07, -6.0206e-07,  ..., -5.5852e-10,\n              4.9160e-09,  4.6321e-07],\n            [ 1.2530e-08,  3.0041e-09, -1.5544e-09,  ..., -1.4258e-10,\n             -2.1023e-09, -3.4593e-09]], device='cuda:0'),\n    'exp_avg_sq': tensor([[0.0000e+00, 0.0000e+00, 0.0000e+00,  ..., 0.0000e+00, 0.0000e+00,\n             0.0000e+00],\n            [0.0000e+00, 0.0000e+00, 0.0000e+00,  ..., 0.0000e+00, 0.0000e+00,\n             0.0000e+00],\n            [1.2987e-10, 4.6691e-12, 1.1436e-11,  ..., 9.7753e-20, 2.1759e-17,\n             1.1151e-14],\n            ...,\n            [4.9391e-10, 6.2785e-10, 9.2517e-11,  ..., 1.2828e-13, 4.9402e-12,\n             3.8834e-11],\n            [1.3315e-10, 1.1033e-10, 2.1684e-11,  ..., 3.9462e-16, 3.8962e-11,\n             2.6679e-11],\n            [8.0004e-12, 1.4943e-11, 2.5617e-12,  ..., 1.0203e-17, 4.5312e-11,\n             8.6333e-14]], device='cuda:0')},\n   4: {'step': 1680,\n    'exp_avg': tensor([[ 1.1178e-03,  1.9629e-04,  3.8020e-04,  ..., -2.7827e-03,\n             -3.3176e-03,  1.2510e-03],\n            [-7.8139e-03,  8.7099e-04, -7.9765e-03,  ...,  4.4089e-05,\n             -1.3861e-03, -9.0806e-04],\n            [ 4.7420e-04, -5.3269e-04,  7.6331e-03,  ..., -2.8031e-03,\n             -1.8568e-03,  2.9768e-03],\n            ...,\n            [ 8.0990e-06,  1.1501e-05,  1.2965e-05,  ..., -4.4096e-06,\n              1.7004e-06,  6.5943e-06],\n            [-1.5951e-03, -4.4736e-03,  4.7667e-03,  ..., -1.7701e-03,\n             -6.1885e-03,  2.3082e-03],\n            [-1.1113e-03, -3.2247e-03,  5.5629e-03,  ..., -1.4277e-03,\n             -5.7376e-03,  2.8422e-03]], device='cuda:0'),\n    'exp_avg_sq': tensor([[1.0432e-04, 7.2711e-06, 1.2650e-04,  ..., 2.3775e-03, 2.3034e-04,\n             1.5177e-03],\n            [1.7869e-03, 4.0883e-05, 7.2136e-04,  ..., 1.3437e-06, 9.6827e-05,\n             2.6211e-05],\n            [1.9277e-03, 1.1708e-04, 3.5598e-03,  ..., 1.6168e-03, 4.0742e-04,\n             1.2526e-03],\n            ...,\n            [1.8890e-06, 2.5098e-07, 1.2270e-06,  ..., 9.5699e-04, 2.1305e-05,\n             6.2058e-04],\n            [3.2340e-03, 2.9013e-04, 4.2855e-03,  ..., 7.0010e-04, 3.1913e-04,\n             6.0263e-04],\n            [5.5347e-03, 3.3202e-04, 9.3580e-03,  ..., 2.2605e-04, 7.9154e-04,\n             1.9552e-04]], device='cuda:0')}},\n  'param_groups': [{'lr': 0.001,\n    'betas': (0.9, 0.999),\n    'eps': 1e-08,\n    'weight_decay': 0,\n    'amsgrad': False,\n    'maximize': False,\n    'params': [0, 1, 2, 3, 4]}]},\n 'metrics': {'train_loss': 0.3029945351715599,\n  'val_loss': 0.3638667364915212,\n  'train_accuracy': 0.8915614035087719,\n  'train_precision': 0.890965738949298,\n  'train_recall': 0.8916166140914996,\n  'train_f1': 0.890893326104335,\n  'val_accuracy': 0.8683333333333333,\n  'val_precision': 0.8663533672758399,\n  'val_recall': 0.8669795905243062,\n  'val_f1': 0.8664915572507054},\n 'training_history': <neurotorch.callbacks.history.TrainingHistory at 0x23856c5d730>}"
     },
     "execution_count": 12,
     "metadata": {},
     "output_type": "execute_result"
    }
   ],
   "source": [
    "network.load_checkpoint(checkpoint_manager.checkpoints_meta_path, LoadCheckpointMode.BEST_ITR, verbose=True)"
   ],
   "metadata": {
    "collapsed": false,
    "pycharm": {
     "name": "#%%\n"
    }
   }
  },
  {
   "cell_type": "markdown",
   "source": [
    "We can now see how our network perform on the test dataset."
   ],
   "metadata": {
    "collapsed": false,
    "pycharm": {
     "name": "#%% md\n"
    }
   }
  },
  {
   "cell_type": "code",
   "execution_count": 13,
   "outputs": [
    {
     "data": {
      "text/plain": "train_accuracy:   0%|          | 0/56 [00:00<?, ?it/s]",
      "application/vnd.jupyter.widget-view+json": {
       "version_major": 2,
       "version_minor": 0,
       "model_id": "fb0d553c69e84eb493a814faf2f4b2d9"
      }
     },
     "metadata": {},
     "output_type": "display_data"
    },
    {
     "data": {
      "text/plain": "val_accuracy:   0%|          | 0/3 [00:00<?, ?it/s]",
      "application/vnd.jupyter.widget-view+json": {
       "version_major": 2,
       "version_minor": 0,
       "model_id": "c81a8676be2542f8977ac438af161270"
      }
     },
     "metadata": {},
     "output_type": "display_data"
    },
    {
     "data": {
      "text/plain": "test_accuracy:   0%|          | 0/10 [00:00<?, ?it/s]",
      "application/vnd.jupyter.widget-view+json": {
       "version_major": 2,
       "version_minor": 0,
       "model_id": "a34be5bfffec46c5a017c6a2c5780f4c"
      }
     },
     "metadata": {},
     "output_type": "display_data"
    },
    {
     "name": "stdout",
     "output_type": "stream",
     "text": [
      "{'test': 0.8603, 'train': 0.8915614035087719, 'val': 0.8683333333333333}\n"
     ]
    }
   ],
   "source": [
    "accuracies={\n",
    "\tk: ClassificationMetrics.accuracy(network, dataloaders[k], verbose=True, desc=f\"{k}_accuracy\")\n",
    "\tfor k in dataloaders\n",
    "}\n",
    "pprint.pprint(accuracies)"
   ],
   "metadata": {
    "collapsed": false,
    "pycharm": {
     "name": "#%%\n"
    }
   }
  },
  {
   "cell_type": "markdown",
   "source": [
    "Let's see the results on other popular classification metrics."
   ],
   "metadata": {
    "collapsed": false,
    "pycharm": {
     "name": "#%% md\n"
    }
   }
  },
  {
   "cell_type": "code",
   "execution_count": 14,
   "outputs": [
    {
     "data": {
      "text/plain": "train_precision:   0%|          | 0/56 [00:00<?, ?it/s]",
      "application/vnd.jupyter.widget-view+json": {
       "version_major": 2,
       "version_minor": 0,
       "model_id": "66c1a1ba63604f9a8c13cb75829493c2"
      }
     },
     "metadata": {},
     "output_type": "display_data"
    },
    {
     "data": {
      "text/plain": "val_precision:   0%|          | 0/3 [00:00<?, ?it/s]",
      "application/vnd.jupyter.widget-view+json": {
       "version_major": 2,
       "version_minor": 0,
       "model_id": "929b60d928744bf58f3895de4f68d2b2"
      }
     },
     "metadata": {},
     "output_type": "display_data"
    },
    {
     "data": {
      "text/plain": "test_precision:   0%|          | 0/10 [00:00<?, ?it/s]",
      "application/vnd.jupyter.widget-view+json": {
       "version_major": 2,
       "version_minor": 0,
       "model_id": "42a9a38a68f649e6b052fb82cffd2499"
      }
     },
     "metadata": {},
     "output_type": "display_data"
    },
    {
     "data": {
      "text/plain": "train_recall:   0%|          | 0/56 [00:00<?, ?it/s]",
      "application/vnd.jupyter.widget-view+json": {
       "version_major": 2,
       "version_minor": 0,
       "model_id": "600a6e85960a4086a722b727b3dcc498"
      }
     },
     "metadata": {},
     "output_type": "display_data"
    },
    {
     "data": {
      "text/plain": "val_recall:   0%|          | 0/3 [00:00<?, ?it/s]",
      "application/vnd.jupyter.widget-view+json": {
       "version_major": 2,
       "version_minor": 0,
       "model_id": "b5878ae402b144d39824def3e64f6752"
      }
     },
     "metadata": {},
     "output_type": "display_data"
    },
    {
     "data": {
      "text/plain": "test_recall:   0%|          | 0/10 [00:00<?, ?it/s]",
      "application/vnd.jupyter.widget-view+json": {
       "version_major": 2,
       "version_minor": 0,
       "model_id": "adb671c5b8944b33b2bd30f2b7144ace"
      }
     },
     "metadata": {},
     "output_type": "display_data"
    },
    {
     "data": {
      "text/plain": "train_f1:   0%|          | 0/56 [00:00<?, ?it/s]",
      "application/vnd.jupyter.widget-view+json": {
       "version_major": 2,
       "version_minor": 0,
       "model_id": "de0fab36511b4b51847ded8b116b75f4"
      }
     },
     "metadata": {},
     "output_type": "display_data"
    },
    {
     "data": {
      "text/plain": "val_f1:   0%|          | 0/3 [00:00<?, ?it/s]",
      "application/vnd.jupyter.widget-view+json": {
       "version_major": 2,
       "version_minor": 0,
       "model_id": "47f066c0c463429bab1e160ae22d8dd3"
      }
     },
     "metadata": {},
     "output_type": "display_data"
    },
    {
     "data": {
      "text/plain": "test_f1:   0%|          | 0/10 [00:00<?, ?it/s]",
      "application/vnd.jupyter.widget-view+json": {
       "version_major": 2,
       "version_minor": 0,
       "model_id": "5f89624ff16d4333bc1c77f714054fd7"
      }
     },
     "metadata": {},
     "output_type": "display_data"
    }
   ],
   "source": [
    "precisions={\n",
    "\tk: ClassificationMetrics.precision(network, dataloaders[k], verbose=True, desc=f\"{k}_precision\")\n",
    "\tfor k in dataloaders\n",
    "},\n",
    "recalls={\n",
    "\tk: ClassificationMetrics.recall(network, dataloaders[k], verbose=True, desc=f\"{k}_recall\")\n",
    "\tfor k in dataloaders\n",
    "},\n",
    "f1s={\n",
    "\tk: ClassificationMetrics.f1(network, dataloaders[k], verbose=True, desc=f\"{k}_f1\")\n",
    "\tfor k in dataloaders\n",
    "}"
   ],
   "metadata": {
    "collapsed": false,
    "pycharm": {
     "name": "#%%\n"
    }
   }
  },
  {
   "cell_type": "code",
   "execution_count": 15,
   "outputs": [],
   "source": [
    "results = OrderedDict(dict(\n",
    "\tnetwork=network,\n",
    "\taccuracies=accuracies,\n",
    "\tprecisions=precisions,\n",
    "\trecalls=recalls,\n",
    "\tf1s=f1s,\n",
    "))"
   ],
   "metadata": {
    "collapsed": false,
    "pycharm": {
     "name": "#%%\n"
    }
   }
  },
  {
   "cell_type": "code",
   "execution_count": 16,
   "outputs": [
    {
     "name": "stdout",
     "output_type": "stream",
     "text": [
      "OrderedDict([   (   'network',\n",
      "                    SequentialModel(\n",
      "  (_to_device_transform): ToDevice(cuda)\n",
      "  (input_layers): ModuleDict(\n",
      "    (input_0): LIFLayer<input_0>(784->128)[LearningType.BPTT]@cuda\n",
      "  )\n",
      "  (hidden_layers): ModuleList()\n",
      "  (output_layers): ModuleDict(\n",
      "    (output_0): SpyLILayer<output_0>(128->10)[LearningType.BPTT]@cuda\n",
      "  )\n",
      "  (input_transform): ModuleDict(\n",
      "    (input_0): Sequential(\n",
      "      (0): CallableToModuleWrapper(Compose(\n",
      "          Flatten(start_dim=2, end_dim=-1)\n",
      "          SpyLIFEncoder(\n",
      "        (const_transform): ConstantValuesTransform(n_steps=8)\n",
      "        (spikes_layer): SpyLIFLayer<encoder>(784->784)[LearningType.NONE]@cuda\n",
      "      )\n",
      "      ))\n",
      "      (1): ToDevice(cuda)\n",
      "    )\n",
      "  )\n",
      "  (output_transform): ModuleDict(\n",
      "    (output_0): IdentityTransform()\n",
      "  )\n",
      ")),\n",
      "                (   'accuracies',\n",
      "                    {   'test': 0.8603,\n",
      "                        'train': 0.8915614035087719,\n",
      "                        'val': 0.8683333333333333}),\n",
      "                (   'precisions',\n",
      "                    (   {   'test': 0.8595124116375945,\n",
      "                            'train': 0.890965738949298,\n",
      "                            'val': 0.8663533672758399},)),\n",
      "                (   'recalls',\n",
      "                    (   {   'test': 0.8603,\n",
      "                            'train': 0.8916166140914996,\n",
      "                            'val': 0.8669795905243062},)),\n",
      "                (   'f1s',\n",
      "                    {   'test': 0.8595376465073084,\n",
      "                        'train': 0.890893326104335,\n",
      "                        'val': 0.8664915572507054})])\n"
     ]
    }
   ],
   "source": [
    "pprint.pprint(results, indent=4)"
   ],
   "metadata": {
    "collapsed": false,
    "pycharm": {
     "name": "#%%\n"
    }
   }
  },
  {
   "cell_type": "markdown",
   "source": [
    "This is the end of the tutorial!"
   ],
   "metadata": {
    "collapsed": false,
    "pycharm": {
     "name": "#%% md\n"
    }
   }
  },
  {
   "cell_type": "markdown",
   "source": [
    "# Conclusion\n",
    "\n",
    "NeuroTorch is a library that allows you to easily build neural networks and train them. Moreover, it allows you to do image classification using dynamics from neurosciences."
   ],
   "metadata": {
    "collapsed": false,
    "pycharm": {
     "name": "#%% md\n"
    }
   }
  },
  {
   "cell_type": "code",
   "execution_count": 16,
   "outputs": [],
   "source": [],
   "metadata": {
    "collapsed": false,
    "pycharm": {
     "name": "#%%\n"
    }
   }
  }
 ],
 "metadata": {
  "kernelspec": {
   "display_name": "Python 3",
   "language": "python",
   "name": "python3"
  },
  "language_info": {
   "codemirror_mode": {
    "name": "ipython",
    "version": 2
   },
   "file_extension": ".py",
   "mimetype": "text/x-python",
   "name": "python",
   "nbconvert_exporter": "python",
   "pygments_lexer": "ipython2",
   "version": "2.7.6"
  }
 },
 "nbformat": 4,
 "nbformat_minor": 0
}