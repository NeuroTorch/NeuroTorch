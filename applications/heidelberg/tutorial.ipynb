{
 "cells": [
  {
   "cell_type": "markdown",
   "source": [
    "# Heidelberg Tutorial"
   ],
   "metadata": {
    "collapsed": false,
    "pycharm": {
     "name": "#%% md\n"
    }
   }
  },
  {
   "cell_type": "markdown",
   "source": [
    "In this tutorial we will be learning how to use NeuroTorch to train a neural network to recognize audio recordings of spoken digits."
   ],
   "metadata": {
    "collapsed": false,
    "pycharm": {
     "name": "#%% md\n"
    }
   }
  },
  {
   "cell_type": "markdown",
   "source": [
    "## Setup"
   ],
   "metadata": {
    "collapsed": false,
    "pycharm": {
     "name": "#%% md\n"
    }
   }
  },
  {
   "cell_type": "markdown",
   "source": [
    "You can install the dependencies by running the following commands:"
   ],
   "metadata": {
    "collapsed": false,
    "pycharm": {
     "name": "#%% md\n"
    }
   }
  },
  {
   "cell_type": "code",
   "execution_count": null,
   "outputs": [],
   "source": [
    "!pip install -r heidelberg_requirements.txt\n",
    "!pip install git+https://github.com/JeremieGince/PythonBasicTools\n",
    "!pip install git+https://github.com/JeremieGince/NeuroTorch.git"
   ],
   "metadata": {
    "collapsed": false,
    "pycharm": {
     "name": "#%%\n"
    }
   }
  },
  {
   "cell_type": "markdown",
   "source": [
    "If you have a cuda device and want to use it for this tutorial (it is recommended to do so), you can uninstall pytorch with `pip uninstall torch` and re-install it with the right cuda version by generating a command with [PyTorch GetStarted](https://pytorch.org/get-started/locally/) web page."
   ],
   "metadata": {
    "collapsed": false,
    "pycharm": {
     "name": "#%% md\n"
    }
   }
  },
  {
   "cell_type": "markdown",
   "source": [
    "After setting up the virtual environment, we will need to import the necessary packages."
   ],
   "metadata": {
    "collapsed": false,
    "pycharm": {
     "name": "#%% md\n"
    }
   }
  },
  {
   "cell_type": "code",
   "execution_count": 1,
   "outputs": [],
   "source": [
    "import os\n",
    "import pprint\n",
    "from collections import OrderedDict\n",
    "\n",
    "import torch\n",
    "from pythonbasictools.device import log_device_setup, DeepLib\n",
    "from pythonbasictools.logging import logs_file_setup\n",
    "\n",
    "from applications.heidelberg.dataset import get_dataloaders\n",
    "import neurotorch as nt\n",
    "from neurotorch import Dimension, DimensionProperty\n",
    "from neurotorch.modules import HeavisideSigmoidApprox\n",
    "from neurotorch.callbacks import CheckpointManager, LoadCheckpointMode\n",
    "from neurotorch.metrics import ClassificationMetrics\n",
    "from neurotorch.modules import SequentialModel\n",
    "from neurotorch.modules.layers import SpyLIFLayer, SpyLILayer\n",
    "from neurotorch.trainers import ClassificationTrainer\n",
    "from neurotorch.regularization import RegularizationList, L2, L1"
   ],
   "metadata": {
    "collapsed": false,
    "pycharm": {
     "name": "#%%\n"
    }
   }
  },
  {
   "cell_type": "code",
   "execution_count": 2,
   "outputs": [
    {
     "name": "stderr",
     "output_type": "stream",
     "text": [
      "INFO:root:Logs file at: .//logs/logs-14-09-2022/heidelberg_tutoriel-16631817007313423.log\n",
      "\n",
      "INFO:root:__Python VERSION: 3.9.12 (tags/v3.9.12:b28265d, Mar 23 2022, 23:52:46) [MSC v.1929 64 bit (AMD64)]\n",
      "INFO:root:Number of available cores: 12.\n",
      "INFO:root:Number of available logical processors: 24.\n",
      "INFO:root:__pyTorch VERSION:1.12.0+cu113\n",
      "INFO:root:__CUDA VERSION:\n",
      "nvcc: NVIDIA (R) Cuda compiler driver\r\n",
      "Copyright (c) 2005-2020 NVIDIA Corporation\r\n",
      "Built on Mon_Nov_30_19:15:10_Pacific_Standard_Time_2020\r\n",
      "Cuda compilation tools, release 11.2, V11.2.67\r\n",
      "Build cuda_11.2.r11.2/compiler.29373293_0\r\n",
      "\n",
      "INFO:root:__nvidia-smi: Not Found\n",
      "INFO:root:__CUDNN VERSION:8302\n",
      "INFO:root:__Number CUDA Devices:1\n",
      "INFO:root:\n",
      "-------------------------\n",
      "DEVICE: cuda\n",
      "-------------------------\n",
      "\n",
      "INFO:root:NVIDIA GeForce RTX 3070\n",
      "INFO:root:Memory Usage:\n",
      "INFO:root:Allocated: 0.0 GB\n",
      "INFO:root:Cached:   0.0 GB\n",
      "INFO:root:Memory summary: \n",
      "|===========================================================================|\n",
      "|                  PyTorch CUDA memory summary, device ID 0                 |\n",
      "|---------------------------------------------------------------------------|\n",
      "|            CUDA OOMs: 0            |        cudaMalloc retries: 0         |\n",
      "|===========================================================================|\n",
      "|        Metric         | Cur Usage  | Peak Usage | Tot Alloc  | Tot Freed  |\n",
      "|---------------------------------------------------------------------------|\n",
      "| Allocated memory      |       0 B  |       0 B  |       0 B  |       0 B  |\n",
      "|       from large pool |       0 B  |       0 B  |       0 B  |       0 B  |\n",
      "|       from small pool |       0 B  |       0 B  |       0 B  |       0 B  |\n",
      "|---------------------------------------------------------------------------|\n",
      "| Active memory         |       0 B  |       0 B  |       0 B  |       0 B  |\n",
      "|       from large pool |       0 B  |       0 B  |       0 B  |       0 B  |\n",
      "|       from small pool |       0 B  |       0 B  |       0 B  |       0 B  |\n",
      "|---------------------------------------------------------------------------|\n",
      "| GPU reserved memory   |       0 B  |       0 B  |       0 B  |       0 B  |\n",
      "|       from large pool |       0 B  |       0 B  |       0 B  |       0 B  |\n",
      "|       from small pool |       0 B  |       0 B  |       0 B  |       0 B  |\n",
      "|---------------------------------------------------------------------------|\n",
      "| Non-releasable memory |       0 B  |       0 B  |       0 B  |       0 B  |\n",
      "|       from large pool |       0 B  |       0 B  |       0 B  |       0 B  |\n",
      "|       from small pool |       0 B  |       0 B  |       0 B  |       0 B  |\n",
      "|---------------------------------------------------------------------------|\n",
      "| Allocations           |       0    |       0    |       0    |       0    |\n",
      "|       from large pool |       0    |       0    |       0    |       0    |\n",
      "|       from small pool |       0    |       0    |       0    |       0    |\n",
      "|---------------------------------------------------------------------------|\n",
      "| Active allocs         |       0    |       0    |       0    |       0    |\n",
      "|       from large pool |       0    |       0    |       0    |       0    |\n",
      "|       from small pool |       0    |       0    |       0    |       0    |\n",
      "|---------------------------------------------------------------------------|\n",
      "| GPU reserved segments |       0    |       0    |       0    |       0    |\n",
      "|       from large pool |       0    |       0    |       0    |       0    |\n",
      "|       from small pool |       0    |       0    |       0    |       0    |\n",
      "|---------------------------------------------------------------------------|\n",
      "| Non-releasable allocs |       0    |       0    |       0    |       0    |\n",
      "|       from large pool |       0    |       0    |       0    |       0    |\n",
      "|       from small pool |       0    |       0    |       0    |       0    |\n",
      "|---------------------------------------------------------------------------|\n",
      "| Oversize allocations  |       0    |       0    |       0    |       0    |\n",
      "|---------------------------------------------------------------------------|\n",
      "| Oversize GPU segments |       0    |       0    |       0    |       0    |\n",
      "|===========================================================================|\n",
      "\n"
     ]
    }
   ],
   "source": [
    "logs_file_setup(\"heidelberg_tutoriel\", add_stdout=False)\n",
    "log_device_setup(deepLib=DeepLib.Pytorch)\n",
    "torch.cuda.set_per_process_memory_fraction(0.8)"
   ],
   "metadata": {
    "collapsed": false,
    "pycharm": {
     "name": "#%%\n"
    }
   }
  },
  {
   "cell_type": "markdown",
   "source": [
    "## Initialization"
   ],
   "metadata": {
    "collapsed": false,
    "pycharm": {
     "name": "#%% md\n"
    }
   }
  },
  {
   "cell_type": "markdown",
   "source": [
    "It's the time to defined our training and networks parameters. In the following,\n",
    "\n",
    "- the number of iteration is the number of time the trainer will pass through the entire training dataset;\n",
    "- the batch size is the number of samples that will be loaded at the same time for each forward and backward pass;\n",
    "- the learning rate is the learning rate used by the optimizer;\n",
    "- the random seed is the seed used by the random number generator;\n",
    "- the number of steps is the number of euler integration steps performed by the model during each forward and backward pass;\n",
    "- the number of hidden neurons is the number of neurons that will be used in the hidden layer of the model;\n",
    "- dt is the time step of the euler integration;"
   ],
   "metadata": {
    "collapsed": false,
    "pycharm": {
     "name": "#%% md\n"
    }
   }
  },
  {
   "cell_type": "code",
   "execution_count": 3,
   "outputs": [],
   "source": [
    "# Training parameters\n",
    "n_iterations = 50\n",
    "batch_size = 256\n",
    "learning_rate = 2e-4\n",
    "seed = 42\n",
    "\n",
    "# Network parameters\n",
    "dynamic_type = nt.SpyLIFLayer\n",
    "n_steps = 100\n",
    "n_hidden_neurons = 256\n",
    "dt = 1e-3"
   ],
   "metadata": {
    "collapsed": false,
    "pycharm": {
     "name": "#%%\n"
    }
   }
  },
  {
   "cell_type": "code",
   "execution_count": 4,
   "outputs": [
    {
     "data": {
      "text/plain": "<torch._C.Generator at 0x17483d00570>"
     },
     "execution_count": 4,
     "metadata": {},
     "output_type": "execute_result"
    }
   ],
   "source": [
    "torch.manual_seed(seed)"
   ],
   "metadata": {
    "collapsed": false,
    "pycharm": {
     "name": "#%%\n"
    }
   }
  },
  {
   "cell_type": "markdown",
   "source": [
    "Here we're initializing a callback of the trainer used to save the network during the training."
   ],
   "metadata": {
    "collapsed": false,
    "pycharm": {
     "name": "#%% md\n"
    }
   }
  },
  {
   "cell_type": "code",
   "execution_count": 5,
   "outputs": [],
   "source": [
    "checkpoint_folder = f\"./checkpoints/heidelberg_{dynamic_type.__name__}\"\n",
    "checkpoint_manager = CheckpointManager(checkpoint_folder, metric=\"val_accuracy\", minimise_metric=False, save_best_only=True, start_save_at=int(n_iterations * 0.9))"
   ],
   "metadata": {
    "collapsed": false,
    "pycharm": {
     "name": "#%%\n"
    }
   }
  },
  {
   "cell_type": "markdown",
   "source": [
    "\n",
    "Here is an exemple of the Heidelberg dataset:\n",
    "![Heidelberg_exemples](images/heidelberg_exemples.png)"
   ],
   "metadata": {
    "collapsed": false,
    "pycharm": {
     "name": "#%% md\n"
    }
   }
  },
  {
   "cell_type": "code",
   "execution_count": 6,
   "outputs": [],
   "source": [
    "dataloaders = get_dataloaders(\n",
    "\tbatch_size=batch_size,\n",
    "\ttrain_val_split_ratio=0.95,\n",
    ")"
   ],
   "metadata": {
    "collapsed": false,
    "pycharm": {
     "name": "#%%\n"
    }
   }
  },
  {
   "cell_type": "markdown",
   "source": [
    "We can finally define our model. The sequential model is a neural network that is composed of a list of layers. The list of layers is ordered and the first layer is the input layer. The last layer is the output layer. The sequential model can be found in the subpackage `neurotorch.modules`. Note that we can specify the input transform that will be applied to the input data before the forward pass through the list of layers. If the transformation is computationally expensive, it is recommended to put it in the dataloaders instead of the model for the training. Usually the input transform in the model is used when the model is used for inference."
   ],
   "metadata": {
    "collapsed": false,
    "pycharm": {
     "name": "#%% md\n"
    }
   }
  },
  {
   "cell_type": "code",
   "execution_count": 7,
   "outputs": [],
   "source": [
    "network = SequentialModel(\n",
    "\tlayers=[\n",
    "\t\tdynamic_type(\n",
    "\t\t\tinput_size=nt.Size([\n",
    "\t\t\t\tDimension(None, DimensionProperty.TIME),\n",
    "\t\t\t\tDimension(dataloaders[\"test\"].dataset.n_units, DimensionProperty.NONE)\n",
    "\t\t\t]),\n",
    "\t\t\toutput_size=n_hidden_neurons,\n",
    "\t\t\tuse_recurrent_connection=True,\n",
    "\t\t\tspike_func=HeavisideSigmoidApprox,\n",
    "\t\t\tdt=dt,\n",
    "\t\t\t# spikes_regularization_factor=1e-6,\n",
    "\t\t),\n",
    "\t\tSpyLILayer(dt=dt, output_size=dataloaders[\"test\"].dataset.n_classes),\n",
    "\t],\n",
    "\tname=f\"heidelberg_network\",\n",
    "\tcheckpoint_folder=checkpoint_folder,\n",
    ")"
   ],
   "metadata": {
    "collapsed": false,
    "pycharm": {
     "name": "#%%\n"
    }
   }
  },
  {
   "cell_type": "markdown",
   "source": [
    "After the instantiation of the model, we have to build it, so it can infer the missing sizes of the layers in the model and create the tensors that will be used during the training."
   ],
   "metadata": {
    "collapsed": false,
    "pycharm": {
     "name": "#%% md\n"
    }
   }
  },
  {
   "cell_type": "code",
   "execution_count": 8,
   "outputs": [
    {
     "name": "stdout",
     "output_type": "stream",
     "text": [
      "SequentialModel(\n",
      "  (_to_device_transform): ToDevice(cuda)\n",
      "  (input_layers): ModuleDict(\n",
      "    (input_0): SpyLIFLayer<input_0>(700<->256)[LearningType.BPTT]@cuda\n",
      "  )\n",
      "  (hidden_layers): ModuleList()\n",
      "  (output_layers): ModuleDict(\n",
      "    (output_0): SpyLILayer<output_0>(256->20)[LearningType.BPTT]@cuda\n",
      "  )\n",
      "  (input_transform): ModuleDict(\n",
      "    (input_0): Sequential(\n",
      "      (0): CallableToModuleWrapper(Compose(\n",
      "          ToTensor()\n",
      "      ))\n",
      "      (1): ToDevice(cuda)\n",
      "    )\n",
      "  )\n",
      "  (output_transform): ModuleDict(\n",
      "    (output_0): IdentityTransform()\n",
      "  )\n",
      ")\n"
     ]
    }
   ],
   "source": [
    "network.build()\n",
    "print(network)"
   ],
   "metadata": {
    "collapsed": false,
    "pycharm": {
     "name": "#%%\n"
    }
   }
  },
  {
   "cell_type": "code",
   "execution_count": 9,
   "outputs": [],
   "source": [
    "regularization = RegularizationList([\n",
    "\tL2(network.parameters(), Lambda=1e-5),\n",
    "\tL1(network.parameters(), Lambda=1e-6),\n",
    "])"
   ],
   "metadata": {
    "collapsed": false,
    "pycharm": {
     "name": "#%%\n"
    }
   }
  },
  {
   "cell_type": "markdown",
   "source": [
    "## Training"
   ],
   "metadata": {
    "collapsed": false,
    "pycharm": {
     "name": "#%% md\n"
    }
   }
  },
  {
   "cell_type": "markdown",
   "source": [
    "In the next cell, we create the trainer that will be used to trained our network. They are several types of trainers that can be found in the subpackage `neurotorch.trainers` like the `ClassificationTrainer`, the `RegressionTrainer` or the `PPOTrainer`. In this tutorial, we will use the `ClassificationTrainer` because we are trying to classify some images. Note that the callbacks are some object that will be called during the training. They are found in the subpackage `neurotorch.callbacks` like the `CheckpointManager`."
   ],
   "metadata": {
    "collapsed": false,
    "pycharm": {
     "name": "#%% md\n"
    }
   }
  },
  {
   "cell_type": "code",
   "execution_count": 10,
   "outputs": [],
   "source": [
    "trainer = ClassificationTrainer(\n",
    "\tmodel=network,\n",
    "\t# regularization=regularization,\n",
    "\toptimizer=torch.optim.Adam(network.parameters(), lr=learning_rate, weight_decay=0.0),\n",
    "\t# regularization_optimizer=torch.optim.SGD(regularization.parameters(), lr=1e-2, weight_decay=0.0),\n",
    "\tcallbacks=checkpoint_manager,\n",
    "\tverbose=True,\n",
    ")"
   ],
   "metadata": {
    "collapsed": false,
    "pycharm": {
     "name": "#%%\n"
    }
   }
  },
  {
   "cell_type": "markdown",
   "source": [
    "The training will start! Let's see how our simple network will perform on this task.\n",
    "\n",
    "Note: the argument `force_overwrite` is used to overwrite the existing checkpoint if it exists and the argument `load_checkpoint_mode` if the model will be loaded from the last checkpoint (`LoadCheckpointMode.LAST_ITR`) or from the best checkpoint (`LoadCheckpointMode.BEST_ITR`). The loading mode is really useful when you want to stop the training and restart it later."
   ],
   "metadata": {
    "collapsed": false,
    "pycharm": {
     "name": "#%% md\n"
    }
   }
  },
  {
   "cell_type": "code",
   "execution_count": 11,
   "outputs": [
    {
     "data": {
      "text/plain": "Training:   0%|          | 0/50 [00:00<?, ?itr/s]",
      "application/vnd.jupyter.widget-view+json": {
       "version_major": 2,
       "version_minor": 0,
       "model_id": "023c86058b564c7b8e59147bb8f07503"
      }
     },
     "metadata": {},
     "output_type": "display_data"
    }
   ],
   "source": [
    "training_history = trainer.train(\n",
    "\tdataloaders[\"train\"],\n",
    "\tdataloaders[\"val\"],\n",
    "\tn_iterations=n_iterations,\n",
    "\tload_checkpoint_mode=LoadCheckpointMode.LAST_ITR,\n",
    "\t# force_overwrite=True,\n",
    ")"
   ],
   "metadata": {
    "collapsed": false,
    "pycharm": {
     "name": "#%%\n"
    }
   }
  },
  {
   "cell_type": "markdown",
   "source": [
    "The training is finished! Let's see how our network learned over the iterations.\n",
    "\n",
    "Note: the next graphs are really useful to see if the model overfit or underfit the data over the iterations. It's why you can use the callback `TrainingHistoryVisualizationCallback` to see those graphs in real time."
   ],
   "metadata": {
    "collapsed": false,
    "pycharm": {
     "name": "#%% md\n"
    }
   }
  },
  {
   "cell_type": "code",
   "execution_count": 12,
   "outputs": [
    {
     "data": {
      "text/plain": "<Figure size 1152x864 with 6 Axes>",
      "image/png": "[encoded data removed]"
     },
     "metadata": {
      "needs_background": "light"
     },
     "output_type": "display_data"
    },
    {
     "data": {
      "text/plain": "(<Figure size 1152x864 with 6 Axes>,\n {'losses': <AxesSubplot:xlabel='Iterations [-]', ylabel='Loss [-]'>,\n  'val_accuracy': <AxesSubplot:xlabel='Iterations [-]'>,\n  'train_accuracy': <AxesSubplot:xlabel='Iterations [-]'>,\n  'val_precision': <AxesSubplot:xlabel='Iterations [-]'>,\n  'train_precision': <AxesSubplot:xlabel='Iterations [-]'>,\n  'val_f1': <AxesSubplot:xlabel='Iterations [-]'>,\n  'train_f1': <AxesSubplot:xlabel='Iterations [-]'>,\n  'val_recall': <AxesSubplot:xlabel='Iterations [-]'>,\n  'train_recall': <AxesSubplot:xlabel='Iterations [-]'>},\n {'train_loss': <matplotlib.lines.Line2D at 0x175625118b0>,\n  'val_loss': <matplotlib.lines.Line2D at 0x17562511bb0>,\n  'val_accuracy': <matplotlib.lines.Line2D at 0x1756251eee0>,\n  'train_accuracy': <matplotlib.lines.Line2D at 0x17562527220>,\n  'val_precision': <matplotlib.lines.Line2D at 0x17562cc04c0>,\n  'train_precision': <matplotlib.lines.Line2D at 0x17562cc07c0>,\n  'val_f1': <matplotlib.lines.Line2D at 0x17562cc9c10>,\n  'train_f1': <matplotlib.lines.Line2D at 0x17562cc9f10>,\n  'val_recall': <matplotlib.lines.Line2D at 0x17562cdb1f0>,\n  'train_recall': <matplotlib.lines.Line2D at 0x17562cdb4f0>})"
     },
     "execution_count": 12,
     "metadata": {},
     "output_type": "execute_result"
    }
   ],
   "source": [
    "training_history.plot(show=True)"
   ],
   "metadata": {
    "collapsed": false,
    "pycharm": {
     "name": "#%%\n"
    }
   }
  },
  {
   "cell_type": "markdown",
   "source": [
    "We can load the model at the best or the last iteration for the testing phase."
   ],
   "metadata": {
    "collapsed": false,
    "pycharm": {
     "name": "#%% md\n"
    }
   }
  },
  {
   "cell_type": "code",
   "execution_count": 13,
   "outputs": [
    {
     "name": "stderr",
     "output_type": "stream",
     "text": [
      "INFO:root:Loading checkpoint from ./checkpoints/heidelberg_SpyLIFLayer/network-itr49.pth\n"
     ]
    },
    {
     "data": {
      "text/plain": "{'itr': 49,\n 'model_state_dict': OrderedDict([('input_layers.input_0.alpha',\n               tensor(0.8187, device='cuda:0')),\n              ('input_layers.input_0.beta', tensor(0.9048, device='cuda:0')),\n              ('input_layers.input_0.threshold', tensor(1., device='cuda:0')),\n              ('input_layers.input_0.gamma', tensor(100., device='cuda:0')),\n              ('input_layers.input_0.forward_weights',\n               tensor([[-0.0153,  0.0021, -0.0005,  ...,  0.0066, -0.0041, -0.0199],\n                       [-0.0097,  0.0016,  0.0075,  ..., -0.0096,  0.0050, -0.0088],\n                       [-0.0045, -0.0009,  0.0140,  ..., -0.0043,  0.0104, -0.0027],\n                       ...,\n                       [-0.0168, -0.0039,  0.0059,  ...,  0.0215,  0.0322,  0.0012],\n                       [-0.0058,  0.0002, -0.0031,  ...,  0.0159,  0.0255, -0.0007],\n                       [-0.0065,  0.0019, -0.0004,  ...,  0.0167,  0.0129, -0.0322]],\n                      device='cuda:0')),\n              ('input_layers.input_0.recurrent_weights',\n               tensor([[ 8.3959e-03,  1.5832e-02, -3.1806e-03,  ...,  6.1995e-03,\n                         3.9819e-03, -1.5951e-02],\n                       [-2.2929e-03, -1.8182e-03, -1.4753e-02,  ..., -1.4315e-02,\n                         2.1363e-03, -8.3718e-04],\n                       [ 1.4386e-02,  3.1676e-03,  1.7323e-04,  ...,  2.4987e-02,\n                         1.1787e-02,  2.5140e-02],\n                       ...,\n                       [ 1.2482e-02, -6.8544e-03,  2.0911e-02,  ...,  1.0329e-02,\n                         3.0447e-05,  3.3507e-02],\n                       [-1.7847e-03, -2.7023e-02,  6.3192e-03,  ...,  3.1016e-03,\n                         1.6397e-02,  2.1253e-02],\n                       [-1.0911e-02, -4.3878e-02,  6.2154e-02,  ..., -2.9911e-03,\n                         3.1020e-02,  5.7378e-02]], device='cuda:0')),\n              ('input_layers.input_0.rec_mask',\n               tensor([[1., 1., 1.,  ..., 1., 1., 1.],\n                       [1., 1., 1.,  ..., 1., 1., 1.],\n                       [1., 1., 1.,  ..., 1., 1., 1.],\n                       ...,\n                       [1., 1., 1.,  ..., 1., 1., 1.],\n                       [1., 1., 1.,  ..., 1., 1., 1.],\n                       [1., 1., 1.,  ..., 1., 1., 1.]], device='cuda:0')),\n              ('output_layers.output_0.forward_weights',\n               tensor([[ 1.1344e-02,  1.9280e-02, -1.9181e-03,  ..., -1.2521e-03,\n                         2.4830e-02, -1.4418e-02],\n                       [ 1.1048e-02, -1.8637e-02, -4.9541e-05,  ..., -1.2621e-02,\n                         5.9441e-03, -1.0425e-02],\n                       [-1.7070e-02, -3.4599e-02, -7.3299e-03,  ...,  2.1104e-02,\n                        -2.4284e-02, -3.7320e-03],\n                       ...,\n                       [ 1.8798e-02,  2.5179e-03, -1.5920e-03,  ...,  9.5016e-03,\n                         2.6379e-03,  1.1337e-02],\n                       [-6.0506e-02, -9.0238e-03, -2.5484e-02,  ..., -2.6846e-02,\n                        -3.1897e-03,  2.3246e-02],\n                       [-7.6691e-02, -6.5426e-02, -4.0640e-02,  ..., -2.2333e-02,\n                         5.6434e-03, -8.4555e-02]], device='cuda:0'))]),\n 'optimizer_state_dict': {'state': {4: {'step': tensor(1550., device='cuda:0'),\n    'exp_avg': tensor([[ 6.7179e-09, -5.3525e-09, -1.4407e-06,  ..., -1.2825e-05,\n             -2.3955e-05, -1.9904e-06],\n            [ 1.9013e-08,  2.4468e-08, -9.9507e-06,  ..., -4.3128e-05,\n             -1.1987e-05, -2.5406e-06],\n            [ 7.0144e-10,  8.6019e-09, -8.5975e-06,  ...,  1.7000e-05,\n             -1.1042e-05, -2.7311e-06],\n            ...,\n            [-9.3704e-08, -3.4306e-10, -1.4302e-05,  ..., -1.9713e-05,\n              2.2477e-04, -9.4481e-07],\n            [-8.6845e-08, -1.0308e-09, -1.1552e-05,  ..., -7.9442e-06,\n              1.0272e-04, -2.2195e-06],\n            [-9.9700e-08, -1.4132e-08,  3.1908e-05,  ...,  1.8942e-05,\n              2.2518e-04, -1.1079e-06]], device='cuda:0'),\n    'exp_avg_sq': tensor([[1.0670e-10, 2.1091e-11, 4.4644e-09,  ..., 5.5879e-09, 1.9873e-08,\n             1.5089e-09],\n            [6.9521e-11, 2.0251e-11, 5.9664e-09,  ..., 7.9500e-09, 1.0076e-08,\n             2.2253e-09],\n            [9.9082e-11, 2.7553e-11, 3.6144e-09,  ..., 4.7151e-09, 1.2342e-08,\n             2.2420e-09],\n            ...,\n            [1.3679e-08, 6.7986e-10, 1.8807e-07,  ..., 1.4047e-07, 1.7946e-07,\n             2.6622e-10],\n            [1.0582e-08, 1.0196e-10, 1.7645e-07,  ..., 1.3407e-07, 1.4758e-07,\n             6.8799e-10],\n            [1.0284e-08, 5.4047e-10, 1.5158e-07,  ..., 1.1945e-07, 1.4678e-07,\n             2.7493e-09]], device='cuda:0')},\n   5: {'step': tensor(1550., device='cuda:0'),\n    'exp_avg': tensor([[ 5.6052e-45,  5.6052e-45,  5.6052e-45,  ..., -5.6052e-45,\n             -5.6052e-45, -5.6052e-45],\n            [-5.6052e-45,  6.8664e-44, -4.7784e-43,  ..., -2.6625e-43,\n              5.6052e-45, -5.6052e-45],\n            [ 9.2249e-09,  2.5863e-09, -7.2899e-06,  ..., -6.0775e-06,\n              2.9667e-06, -8.6274e-06],\n            ...,\n            [ 2.1037e-08, -3.6851e-08, -1.8533e-05,  ..., -3.9716e-05,\n             -2.7958e-04, -1.2431e-06],\n            [ 2.5608e-08,  2.4638e-08, -4.0156e-06,  ..., -1.7730e-05,\n             -4.8050e-04, -2.1072e-07],\n            [-1.0992e-09,  2.3989e-09, -4.2259e-06,  ...,  2.3328e-07,\n              8.9940e-08, -6.0331e-06]], device='cuda:0'),\n    'exp_avg_sq': tensor([[2.4901e-08, 3.1728e-09, 1.5248e-08,  ..., 4.1705e-08, 3.4709e-08,\n             9.9485e-16],\n            [1.2097e-08, 9.0420e-10, 6.7583e-10,  ..., 2.1501e-08, 1.7413e-08,\n             7.5383e-16],\n            [1.7352e-09, 3.0000e-10, 2.2924e-08,  ..., 3.1541e-08, 5.4372e-09,\n             9.9033e-09],\n            ...,\n            [7.2004e-08, 1.4599e-08, 2.2494e-07,  ..., 2.6820e-07, 1.5252e-06,\n             2.4470e-08],\n            [2.8376e-08, 4.8724e-09, 1.9475e-07,  ..., 2.6281e-07, 4.3185e-07,\n             9.1914e-09],\n            [4.8523e-12, 4.3873e-14, 7.7264e-10,  ..., 4.4291e-10, 5.4300e-11,\n             2.2762e-09]], device='cuda:0')},\n   7: {'step': tensor(1550., device='cuda:0'),\n    'exp_avg': tensor([[ 5.6052e-45,  5.6052e-45,  5.6052e-45,  ...,  5.6052e-45,\n              5.6052e-45,  5.6052e-45],\n            [ 5.6052e-44,  5.6052e-45,  4.1338e-43,  ...,  1.3032e-43,\n              5.6052e-45,  3.6434e-44],\n            [ 2.9674e-03, -1.6137e-06, -2.5287e-04,  ..., -4.6189e-04,\n             -1.0134e-03,  1.6077e-05],\n            ...,\n            [-3.9163e-03, -3.6856e-03,  2.4900e-02,  ...,  3.7583e-02,\n             -1.2602e-02, -4.8173e-02],\n            [ 8.9313e-03,  1.6469e-02,  1.2779e-02,  ...,  2.3557e-02,\n              1.1949e-02, -3.0409e-02],\n            [ 1.4774e-03,  2.9019e-07,  1.3271e-05,  ...,  3.3594e-05,\n              1.1342e-13,  2.5536e-07]], device='cuda:0'),\n    'exp_avg_sq': tensor([[2.5347e-04, 1.4532e-08, 7.3394e-05,  ..., 9.5079e-08, 6.0930e-09,\n             1.6947e-05],\n            [7.1064e-05, 1.0233e-09, 3.8712e-06,  ..., 2.8599e-08, 8.8048e-10,\n             5.5317e-06],\n            [2.2852e-04, 1.8682e-06, 1.4911e-04,  ..., 1.3656e-04, 1.9160e-06,\n             9.0802e-06],\n            ...,\n            [1.4382e-02, 6.5023e-02, 1.3157e-02,  ..., 2.7685e-02, 1.1036e-02,\n             1.1176e-01],\n            [1.9345e-03, 4.3131e-02, 4.4750e-03,  ..., 4.6231e-03, 1.6884e-02,\n             7.5970e-02],\n            [1.0674e-05, 3.6516e-07, 2.7716e-07,  ..., 4.7872e-06, 3.6891e-09,\n             3.6132e-07]], device='cuda:0')}},\n  'param_groups': [{'lr': 0.0002,\n    'betas': (0.9, 0.999),\n    'eps': 1e-08,\n    'weight_decay': 0.0,\n    'amsgrad': False,\n    'maximize': False,\n    'foreach': None,\n    'capturable': False,\n    'params': [0, 1, 2, 3, 4, 5, 6, 7]}]},\n 'metrics': {'train_loss': 0.20700901458340307,\n  'val_loss': 0.43024586141109467,\n  'train_accuracy': 0.95018069179143,\n  'train_precision': 0.9512362081360412,\n  'train_recall': 0.9502729354118278,\n  'train_f1': 0.9498871392646707,\n  'val_accuracy': 0.8578431372549019,\n  'val_precision': 0.8588119271509365,\n  'val_recall': 0.865125030207898,\n  'val_f1': 0.8557388289209709},\n 'training_history': <neurotorch.callbacks.history.TrainingHistory at 0x1756841c340>}"
     },
     "execution_count": 13,
     "metadata": {},
     "output_type": "execute_result"
    }
   ],
   "source": [
    "network.load_checkpoint(checkpoint_manager.checkpoints_meta_path, LoadCheckpointMode.BEST_ITR, verbose=True)"
   ],
   "metadata": {
    "collapsed": false,
    "pycharm": {
     "name": "#%%\n"
    }
   }
  },
  {
   "cell_type": "markdown",
   "source": [
    "We can now see how our network perform on the test dataset."
   ],
   "metadata": {
    "collapsed": false,
    "pycharm": {
     "name": "#%% md\n"
    }
   }
  },
  {
   "cell_type": "code",
   "execution_count": 14,
   "outputs": [
    {
     "data": {
      "text/plain": "train predictions:   0%|          | 0/31 [00:00<?, ?it/s]",
      "application/vnd.jupyter.widget-view+json": {
       "version_major": 2,
       "version_minor": 0,
       "model_id": "e989395e7be8455eb5b5c5790f652e4c"
      }
     },
     "metadata": {},
     "output_type": "display_data"
    },
    {
     "data": {
      "text/plain": "val predictions:   0%|          | 0/2 [00:00<?, ?it/s]",
      "application/vnd.jupyter.widget-view+json": {
       "version_major": 2,
       "version_minor": 0,
       "model_id": "4f6e6e7905a1480aa41c7cda1cd229df"
      }
     },
     "metadata": {},
     "output_type": "display_data"
    },
    {
     "data": {
      "text/plain": "test predictions:   0%|          | 0/9 [00:00<?, ?it/s]",
      "application/vnd.jupyter.widget-view+json": {
       "version_major": 2,
       "version_minor": 0,
       "model_id": "1239ede822994824ad308d77011377ff"
      }
     },
     "metadata": {},
     "output_type": "display_data"
    }
   ],
   "source": [
    "predictions = {\n",
    "\tk: ClassificationMetrics.compute_y_true_y_pred(network, dataloader, verbose=True, desc=f\"{k} predictions\")\n",
    "\tfor k, dataloader in dataloaders.items()\n",
    "}"
   ],
   "metadata": {
    "collapsed": false,
    "pycharm": {
     "name": "#%%\n"
    }
   }
  },
  {
   "cell_type": "code",
   "execution_count": 15,
   "outputs": [
    {
     "name": "stdout",
     "output_type": "stream",
     "text": [
      "{'test': 0.7473498233215548,\n",
      " 'train': 0.95018069179143,\n",
      " 'val': 0.8578431372549019}\n"
     ]
    }
   ],
   "source": [
    "accuracies = {\n",
    "\tk: ClassificationMetrics.accuracy(network, y_true=y_true, y_pred=y_pred)\n",
    "\tfor k, (y_true, y_pred) in predictions.items()\n",
    "}\n",
    "pprint.pprint(accuracies)"
   ],
   "metadata": {
    "collapsed": false,
    "pycharm": {
     "name": "#%%\n"
    }
   }
  },
  {
   "cell_type": "markdown",
   "source": [
    "Let's see the results on other popular classification metrics."
   ],
   "metadata": {
    "collapsed": false,
    "pycharm": {
     "name": "#%% md\n"
    }
   }
  },
  {
   "cell_type": "code",
   "execution_count": 16,
   "outputs": [],
   "source": [
    "precisions = {\n",
    "\tk: ClassificationMetrics.precision(network, y_true=y_true, y_pred=y_pred)\n",
    "\tfor k, (y_true, y_pred) in predictions.items()\n",
    "}\n",
    "recalls = {\n",
    "\tk: ClassificationMetrics.recall(network, y_true=y_true, y_pred=y_pred)\n",
    "\tfor k, (y_true, y_pred) in predictions.items()\n",
    "}\n",
    "f1s = {\n",
    "\tk: ClassificationMetrics.f1(network, y_true=y_true, y_pred=y_pred)\n",
    "\tfor k, (y_true, y_pred) in predictions.items()\n",
    "}"
   ],
   "metadata": {
    "collapsed": false,
    "pycharm": {
     "name": "#%%\n"
    }
   }
  },
  {
   "cell_type": "code",
   "execution_count": 17,
   "outputs": [],
   "source": [
    "results = OrderedDict(dict(\n",
    "\tnetwork=network,\n",
    "\taccuracies=accuracies,\n",
    "\tprecisions=precisions,\n",
    "\trecalls=recalls,\n",
    "\tf1s=f1s,\n",
    "))"
   ],
   "metadata": {
    "collapsed": false,
    "pycharm": {
     "name": "#%%\n"
    }
   }
  },
  {
   "cell_type": "code",
   "execution_count": 18,
   "outputs": [
    {
     "name": "stdout",
     "output_type": "stream",
     "text": [
      "OrderedDict([   (   'network',\n",
      "                    SequentialModel(\n",
      "  (_to_device_transform): ToDevice(cuda)\n",
      "  (input_layers): ModuleDict(\n",
      "    (input_0): SpyLIFLayer<input_0>(700<->256)[LearningType.BPTT]@cuda\n",
      "  )\n",
      "  (hidden_layers): ModuleList()\n",
      "  (output_layers): ModuleDict(\n",
      "    (output_0): SpyLILayer<output_0>(256->20)[LearningType.BPTT]@cuda\n",
      "  )\n",
      "  (input_transform): ModuleDict(\n",
      "    (input_0): Sequential(\n",
      "      (0): CallableToModuleWrapper(Compose(\n",
      "          ToTensor()\n",
      "      ))\n",
      "      (1): ToDevice(cuda)\n",
      "    )\n",
      "  )\n",
      "  (output_transform): ModuleDict(\n",
      "    (output_0): IdentityTransform()\n",
      "  )\n",
      ")),\n",
      "                (   'accuracies',\n",
      "                    {   'test': 0.7473498233215548,\n",
      "                        'train': 0.95018069179143,\n",
      "                        'val': 0.8578431372549019}),\n",
      "                (   'precisions',\n",
      "                    {   'test': 0.7682984303991256,\n",
      "                        'train': 0.9512362081360412,\n",
      "                        'val': 0.8588119271509365}),\n",
      "                (   'recalls',\n",
      "                    {   'test': 0.7459553158747504,\n",
      "                        'train': 0.9502729354118278,\n",
      "                        'val': 0.865125030207898}),\n",
      "                (   'f1s',\n",
      "                    {   'test': 0.7471633867796811,\n",
      "                        'train': 0.9498871392646707,\n",
      "                        'val': 0.8557388289209709})])\n"
     ]
    }
   ],
   "source": [
    "pprint.pprint(results, indent=4)"
   ],
   "metadata": {
    "collapsed": false,
    "pycharm": {
     "name": "#%%\n"
    }
   }
  },
  {
   "cell_type": "markdown",
   "source": [
    "This is the end of the tutorial!"
   ],
   "metadata": {
    "collapsed": false,
    "pycharm": {
     "name": "#%% md\n"
    }
   }
  },
  {
   "cell_type": "markdown",
   "source": [
    "# Conclusion\n",
    "\n",
    "NeuroTorch is a library that allows you to easily build neural networks and train them. Moreover, it allows you to do audio signal classification using dynamics from neurosciences."
   ],
   "metadata": {
    "collapsed": false,
    "pycharm": {
     "name": "#%% md\n"
    }
   }
  },
  {
   "cell_type": "code",
   "execution_count": 18,
   "outputs": [],
   "source": [],
   "metadata": {
    "collapsed": false,
    "pycharm": {
     "name": "#%%\n"
    }
   }
  }
 ],
 "metadata": {
  "kernelspec": {
   "display_name": "Python 3",
   "language": "python",
   "name": "python3"
  },
  "language_info": {
   "codemirror_mode": {
    "name": "ipython",
    "version": 2
   },
   "file_extension": ".py",
   "mimetype": "text/x-python",
   "name": "python",
   "nbconvert_exporter": "python",
   "pygments_lexer": "ipython2",
   "version": "2.7.6"
  }
 },
 "nbformat": 4,
 "nbformat_minor": 0
}