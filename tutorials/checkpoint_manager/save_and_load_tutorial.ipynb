{
 "cells": [
  {
   "cell_type": "raw",
   "metadata": {},
   "source": [
    "# Checkpoint Manager Tutorial"
   ]
  },
  {
   "cell_type": "markdown",
   "metadata": {},
   "source": [
    "**This tutorial was tested with the version `0.0.1-beta1` of NeuroTorch.**"
   ]
  },
  {
   "cell_type": "markdown",
   "metadata": {},
   "source": [
    "<table class=\"nt-notebook-buttons\" align=\"center\">\n",
    "  <td>\n",
    "    <a target=\"_blank\" href=\"https://NeuroTorch.github.io/NeuroTorch/\"><img src=\"https://github.com/NeuroTorch/NeuroTorch/blob/main/images/neurotorch_logo_32px.png?raw=true\" width=32px height=32px  />Documentation</a>\n",
    "  </td>\n",
    "  <td>\n",
    "    <a target=\"_blank\" href=\"https://colab.research.google.com/github/NeuroTorch/NeuroTorch/blob/update-tutorials/tutorials/checkpoint_manager/save_and_load_tutorial.ipynb\"><img src=\"https://github.com/NeuroTorch/NeuroTorch/blob/main/images/colab_logo_32px.png?raw=true\" width=32px height=32px  />Run in Google Colab</a>\n",
    "</td>\n",
    "  <td>\n",
    "    <a target=\"_blank\" href=\"https://github.com/NeuroTorch/NeuroTorch/blob/main/tutorials/checkpoint_manager/save_and_load_tutorial.ipynb\"><img src=\"https://github.githubassets.com/images/modules/logos_page/GitHub-Mark.png\" width=32px height=32px />View source on GitHub</a>\n",
    "  </td>\n",
    "  <td>\n",
    "    <a href=\"https://storage.googleapis.com/NeuroTorch/NeuroTorch/blob/main/tutorials/checkpoint_manager/save_and_load_tutorial.ipynb\"><img src=\"https://github.com/NeuroTorch/NeuroTorch/blob/main/images/download_logo_32px.png?raw=true\" width=32px height=32px />Download notebook</a>\n",
    "  </td>\n",
    "</table>"
   ]
  },
  {
   "cell_type": "markdown",
   "metadata": {},
   "source": [
    "## Setup"
   ]
  },
  {
   "cell_type": "markdown",
   "metadata": {},
   "source": [
    "Install the dependencies by running the following commands:"
   ]
  },
  {
   "cell_type": "code",
   "execution_count": null,
   "metadata": {},
   "outputs": [],
   "source": [
    "#@title Install dependencies {display-mode: \"form\"}\n",
    "\n",
    "RunningInCOLAB = 'google.colab' in str(get_ipython()) if hasattr(__builtins__,'__IPYTHON__') else False\n",
    "\n",
    "!pip install git+https://github.com/NeuroTorch/NeuroTorch.git\n",
    "# !pip install neurotorch\n",
    "!pip install pythonbasictools\n",
    "!pip install unstable"
   ]
  },
  {
   "cell_type": "markdown",
   "metadata": {},
   "source": [
    "The checkpoint manager is very useful in the NeuroTorch's training pipeline since it is a callback. Please note that it is possible to use the traditional pytorch save and load method, see [Pytorch save and load tutorial](https://pytorch.org/tutorials/beginner/saving_loading_models.html) for more information.\n",
    "\n",
    "As usual, the first thing is to import NeuroTorch"
   ]
  },
  {
   "cell_type": "code",
   "execution_count": null,
   "metadata": {},
   "outputs": [],
   "source": [
    "import neurotorch as nt"
   ]
  },
  {
   "cell_type": "markdown",
   "metadata": {},
   "source": [
    "First, simply create an object <code>CheckpointManager</code> with the name of your desired folder as an argument"
   ]
  },
  {
   "cell_type": "code",
   "execution_count": null,
   "metadata": {},
   "outputs": [],
   "source": [
    "checkpoint_folder = f\"./checkpoints/network\"\n",
    "checkpoint_manager = nt.CheckpointManager(checkpoint_folder)\n",
    "print(checkpoint_manager)"
   ]
  },
  {
   "cell_type": "markdown",
   "metadata": {},
   "source": [
    "The name of the checkpoint_folder must also be given to the <code>Sequential</code> in order to save the parameters of the network during training."
   ]
  },
  {
   "cell_type": "code",
   "execution_count": null,
   "metadata": {},
   "outputs": [],
   "source": [
    "network = nt.Sequential(layers=[nt.Linear(10, 10)], checkpoint_folder=checkpoint_folder).build()\n",
    "print(network)"
   ]
  },
  {
   "cell_type": "markdown",
   "metadata": {},
   "source": [
    "## What is in the checkpoint folder ?\n",
    "\n",
    "After a training, you will obtain three different types of file.\n",
    "\n",
    "### Training's parameters\n",
    "\n",
    "These are your <code> .pth </code> files. Those files are the one that contain the parameter of your model at a certain time (at a certain iteration for instance). These are the files you might want to give to a colleague in order to reproduce your data.\n",
    "\n",
    "### Network-checkpoint $\\Rightarrow$ .Json summary\n",
    "\n",
    "A json file will be generated which contain the name of your different training parameters that are saved. The best one is label in a way that you can easily get access to it later. This json is the bridge between your code and the <code>.pth</code>\n",
    "\n",
    "### Training history figure\n",
    "\n",
    "A training history is also generated to summarize the performance of your training. It can bring insight on how the loss evolve relative to the iteration or the learning rate. It is a great tool to compare results obtained with different hyperparameters.\n",
    "\n",
    "Here's an example of the json file and the <code>.pth</code> :"
   ]
  },
  {
   "cell_type": "code",
   "execution_count": null,
   "metadata": {},
   "outputs": [],
   "source": [
    "checkpoint_manager.checkpoints_meta_path"
   ]
  },
  {
   "cell_type": "code",
   "execution_count": null,
   "metadata": {},
   "outputs": [],
   "source": [
    "checkpoint_manager.save_checkpoint(itr=0, itr_metrics={}, state_dict=network.state_dict())"
   ]
  },
  {
   "cell_type": "code",
   "execution_count": null,
   "metadata": {},
   "outputs": [],
   "source": [
    "network.get_layer().forward_weights.data.zero_()"
   ]
  },
  {
   "cell_type": "markdown",
   "metadata": {},
   "source": []
  },
  {
   "cell_type": "markdown",
   "metadata": {},
   "source": [
    "Once your parameters are saved, it is now time to load them up in ordre to \"play\" with your data. Simply call <code>load_checkpoint</code> and give it a <code>load_checkpoint_mode</code>. This last step will determine which of your multiple <code>.pth</code> will be loaded. For instance, one might want to load the last checkpoint (use <code>nt.LoadCheckpointMode.LAST_ITR</code>) or one might want to use the best one (nt.LoadCheckpointMode.BEST_ITR). Here is an example :"
   ]
  },
  {
   "cell_type": "code",
   "execution_count": null,
   "metadata": {},
   "outputs": [],
   "source": [
    "network.load_checkpoint(checkpoints_meta_path=checkpoint_manager.checkpoints_meta_path, load_checkpoint_mode=nt.LoadCheckpointMode.LAST_ITR)"
   ]
  },
  {
   "cell_type": "code",
   "execution_count": null,
   "metadata": {},
   "outputs": [],
   "source": [
    "network.get_layer().forward_weights"
   ]
  },
  {
   "cell_type": "markdown",
   "metadata": {},
   "source": [
    "### A few more words on the checkpoint manager\n",
    "\n",
    "The checkpoint manager built in NeuroTorch allows you to specify **when** you want to save the training's parameters. This is because saving the parameters can be a long process if it is done at each step. Also, it is generally not interesting to save the first iteration (the last one are generally the one you want)! With the checkpoint manger, you can save at a certain frequency or only saved the last iteration for example.\n",
    "\n",
    "### Example from our tutorial *time_series_forecasting_wilson_cowan*\n",
    "\n",
    "In this tutorial (that we highly recommend!), we use the checkpoint manager as a powerful tool during the training. If you inspect closely <code>main.py</code> of this tutorial, you will find the following <code>CheckpointManager</code> :"
   ]
  },
  {
   "cell_type": "code",
   "execution_count": null,
   "metadata": {},
   "outputs": [],
   "source": [
    "checkpoint_folder = f\"./checkpoints/network\"\n",
    "n_iterations = 1000\n",
    "checkpoint_manager = nt.CheckpointManager(\n",
    "\tcheckpoint_folder,\n",
    "\tmetric=\"train_loss\",\n",
    "\tminimise_metric=False,\n",
    "\tsave_freq=-1,\n",
    "\tsave_best_only=True,\n",
    "\tstart_save_at=int(0.98 * n_iterations),\n",
    ")\n",
    "print(checkpoint_manager)"
   ]
  },
  {
   "cell_type": "markdown",
   "metadata": {},
   "source": [
    "Let's look at every argument to make sure we truly understand what is happening here.\n",
    "- First, we give the name of our checkpoint folder!\n",
    "- <code>metric</code> : We give the name of the metric to collect the best checkpoint on\n",
    "- <code>minimise_metric</code> : In this example, we wanted to maximise the metric. It is therefore set to False\n",
    "- <code>save_freq</code> : Here, we absolutely want to save the last iteration. By specifying $-1$, we tell the checkpoint manager to save the last iteration no matter what.\n",
    "- <code>save_best_only</code> : Not only do we want to save the last, we also want to save the best! This argument is therefore **True**\n",
    "- <code>start_save_at</code> : We also want to save the iterations near the end of our training. Here, we start saving after 98% of our training is done\n",
    "\n",
    "**Feel free to explore the different tutorials since most of them use the checkpoint manager!**"
   ]
  }
 ],
 "metadata": {
  "kernelspec": {
   "display_name": "Python 3 (ipykernel)",
   "language": "python",
   "name": "python3"
  },
  "language_info": {
   "codemirror_mode": {
    "name": "ipython",
    "version": 3
   },
   "file_extension": ".py",
   "mimetype": "text/x-python",
   "name": "python",
   "nbconvert_exporter": "python",
   "pygments_lexer": "ipython3",
   "version": "3.8.10"
  }
 },
 "nbformat": 4,
 "nbformat_minor": 1
}
