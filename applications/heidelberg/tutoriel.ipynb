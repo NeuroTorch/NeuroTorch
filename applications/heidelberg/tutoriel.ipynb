{
 "cells": [
  {
   "cell_type": "markdown",
   "source": [
    "# Heidelberg Tutorial"
   ],
   "metadata": {
    "collapsed": false,
    "pycharm": {
     "name": "#%% md\n"
    }
   }
  },
  {
   "cell_type": "markdown",
   "source": [
    "In this tutorial we will be learning how to use NeuroTorch to train a neural network to recognize audio recordings of spoken digits."
   ],
   "metadata": {
    "collapsed": false,
    "pycharm": {
     "name": "#%% md\n"
    }
   }
  },
  {
   "cell_type": "markdown",
   "source": [
    "## Setup"
   ],
   "metadata": {
    "collapsed": false,
    "pycharm": {
     "name": "#%% md\n"
    }
   }
  },
  {
   "cell_type": "markdown",
   "source": [
    "You can install the dependencies by running the following commands:"
   ],
   "metadata": {
    "collapsed": false,
    "pycharm": {
     "name": "#%% md\n"
    }
   }
  },
  {
   "cell_type": "code",
   "execution_count": null,
   "outputs": [],
   "source": [
    "!pip install -r heidelberg_requirements.txt\n",
    "!pip install git+https://github.com/JeremieGince/NeuroTorch.git"
   ],
   "metadata": {
    "collapsed": false,
    "pycharm": {
     "name": "#%%\n"
    }
   }
  },
  {
   "cell_type": "markdown",
   "source": [
    "If you have a cuda device and want to use it for this tutorial (it is recommended to do so), you can uninstall pytorch with `pip uninstall torch` and re-install it with the right cuda version by generating a command with [PyTorch GetStarted](https://pytorch.org/get-started/locally/) web page."
   ],
   "metadata": {
    "collapsed": false,
    "pycharm": {
     "name": "#%% md\n"
    }
   }
  },
  {
   "cell_type": "markdown",
   "source": [
    "After setting up the virtual environment, we will need to import the necessary packages."
   ],
   "metadata": {
    "collapsed": false,
    "pycharm": {
     "name": "#%% md\n"
    }
   }
  },
  {
   "cell_type": "code",
   "execution_count": 1,
   "outputs": [],
   "source": [
    "import os\n",
    "import pprint\n",
    "from collections import OrderedDict\n",
    "\n",
    "import torch\n",
    "from pythonbasictools.device import log_device_setup, DeepLib\n",
    "from pythonbasictools.logging import logs_file_setup\n",
    "\n",
    "from applications.heidelberg.dataset import get_dataloaders\n",
    "import neurotorch as nt\n",
    "from neurotorch import Dimension, DimensionProperty\n",
    "from neurotorch.modules import HeavisideSigmoidApprox\n",
    "from neurotorch.callbacks import CheckpointManager, LoadCheckpointMode\n",
    "from neurotorch.metrics import ClassificationMetrics\n",
    "from neurotorch.modules import SequentialModel\n",
    "from neurotorch.modules.layers import SpyLIFLayer, SpyLILayer\n",
    "from neurotorch.trainers import ClassificationTrainer\n",
    "from neurotorch.regularization import RegularizationList, L2, L1"
   ],
   "metadata": {
    "collapsed": false,
    "pycharm": {
     "name": "#%%\n"
    }
   }
  },
  {
   "cell_type": "code",
   "execution_count": 2,
   "outputs": [
    {
     "name": "stderr",
     "output_type": "stream",
     "text": [
      "INFO:root:Logs file at: .//logs/logs-31-07-2022/heidelberg_tutoriel-16593018502133133.log\n",
      "\n",
      "INFO:root:__Python VERSION: 3.9.12 (tags/v3.9.12:b28265d, Mar 23 2022, 23:52:46) [MSC v.1929 64 bit (AMD64)]\n",
      "INFO:root:Number of available cores: 12.\n",
      "INFO:root:Number of available logical processors: 24.\n",
      "INFO:root:__pyTorch VERSION:1.12.0+cu113\n",
      "INFO:root:__CUDA VERSION:\n",
      "nvcc: NVIDIA (R) Cuda compiler driver\r\n",
      "Copyright (c) 2005-2020 NVIDIA Corporation\r\n",
      "Built on Mon_Nov_30_19:15:10_Pacific_Standard_Time_2020\r\n",
      "Cuda compilation tools, release 11.2, V11.2.67\r\n",
      "Build cuda_11.2.r11.2/compiler.29373293_0\r\n",
      "\n",
      "INFO:root:__nvidia-smi: Not Found\n",
      "INFO:root:__CUDNN VERSION:8302\n",
      "INFO:root:__Number CUDA Devices:1\n",
      "INFO:root:\n",
      "-------------------------\n",
      "DEVICE: cuda\n",
      "-------------------------\n",
      "\n",
      "INFO:root:NVIDIA GeForce RTX 3070\n",
      "INFO:root:Memory Usage:\n",
      "INFO:root:Allocated: 0.0 GB\n",
      "INFO:root:Cached:   0.0 GB\n",
      "INFO:root:Memory summary: \n",
      "|===========================================================================|\n",
      "|                  PyTorch CUDA memory summary, device ID 0                 |\n",
      "|---------------------------------------------------------------------------|\n",
      "|            CUDA OOMs: 0            |        cudaMalloc retries: 0         |\n",
      "|===========================================================================|\n",
      "|        Metric         | Cur Usage  | Peak Usage | Tot Alloc  | Tot Freed  |\n",
      "|---------------------------------------------------------------------------|\n",
      "| Allocated memory      |       0 B  |       0 B  |       0 B  |       0 B  |\n",
      "|       from large pool |       0 B  |       0 B  |       0 B  |       0 B  |\n",
      "|       from small pool |       0 B  |       0 B  |       0 B  |       0 B  |\n",
      "|---------------------------------------------------------------------------|\n",
      "| Active memory         |       0 B  |       0 B  |       0 B  |       0 B  |\n",
      "|       from large pool |       0 B  |       0 B  |       0 B  |       0 B  |\n",
      "|       from small pool |       0 B  |       0 B  |       0 B  |       0 B  |\n",
      "|---------------------------------------------------------------------------|\n",
      "| GPU reserved memory   |       0 B  |       0 B  |       0 B  |       0 B  |\n",
      "|       from large pool |       0 B  |       0 B  |       0 B  |       0 B  |\n",
      "|       from small pool |       0 B  |       0 B  |       0 B  |       0 B  |\n",
      "|---------------------------------------------------------------------------|\n",
      "| Non-releasable memory |       0 B  |       0 B  |       0 B  |       0 B  |\n",
      "|       from large pool |       0 B  |       0 B  |       0 B  |       0 B  |\n",
      "|       from small pool |       0 B  |       0 B  |       0 B  |       0 B  |\n",
      "|---------------------------------------------------------------------------|\n",
      "| Allocations           |       0    |       0    |       0    |       0    |\n",
      "|       from large pool |       0    |       0    |       0    |       0    |\n",
      "|       from small pool |       0    |       0    |       0    |       0    |\n",
      "|---------------------------------------------------------------------------|\n",
      "| Active allocs         |       0    |       0    |       0    |       0    |\n",
      "|       from large pool |       0    |       0    |       0    |       0    |\n",
      "|       from small pool |       0    |       0    |       0    |       0    |\n",
      "|---------------------------------------------------------------------------|\n",
      "| GPU reserved segments |       0    |       0    |       0    |       0    |\n",
      "|       from large pool |       0    |       0    |       0    |       0    |\n",
      "|       from small pool |       0    |       0    |       0    |       0    |\n",
      "|---------------------------------------------------------------------------|\n",
      "| Non-releasable allocs |       0    |       0    |       0    |       0    |\n",
      "|       from large pool |       0    |       0    |       0    |       0    |\n",
      "|       from small pool |       0    |       0    |       0    |       0    |\n",
      "|---------------------------------------------------------------------------|\n",
      "| Oversize allocations  |       0    |       0    |       0    |       0    |\n",
      "|---------------------------------------------------------------------------|\n",
      "| Oversize GPU segments |       0    |       0    |       0    |       0    |\n",
      "|===========================================================================|\n",
      "\n"
     ]
    }
   ],
   "source": [
    "logs_file_setup(\"heidelberg_tutoriel\", add_stdout=False)\n",
    "log_device_setup(deepLib=DeepLib.Pytorch)\n",
    "torch.cuda.set_per_process_memory_fraction(0.5)"
   ],
   "metadata": {
    "collapsed": false,
    "pycharm": {
     "name": "#%%\n"
    }
   }
  },
  {
   "cell_type": "markdown",
   "source": [
    "## Initialization"
   ],
   "metadata": {
    "collapsed": false,
    "pycharm": {
     "name": "#%% md\n"
    }
   }
  },
  {
   "cell_type": "markdown",
   "source": [
    "Here we're initializing a callback of the trainer used to save the network during the training."
   ],
   "metadata": {
    "collapsed": false,
    "pycharm": {
     "name": "#%% md\n"
    }
   }
  },
  {
   "cell_type": "code",
   "execution_count": 3,
   "outputs": [],
   "source": [
    "checkpoint_folder = f\"./checkpoints\"\n",
    "os.makedirs(checkpoint_folder, exist_ok=True)\n",
    "checkpoint_manager = CheckpointManager(checkpoint_folder, metric=\"val_accuracy\", minimise_metric=False)"
   ],
   "metadata": {
    "collapsed": false,
    "pycharm": {
     "name": "#%%\n"
    }
   }
  },
  {
   "cell_type": "markdown",
   "source": [
    "It's the time to defined our training and networks parameters. In the following,\n",
    "\n",
    "- the number of iteration is the number of time the trainer will pass through the entire training dataset;\n",
    "- the batch size is the number of samples that will be loaded at the same time for each forward and backward pass;\n",
    "- the learning rate is the learning rate used by the optimizer;\n",
    "- the random seed is the seed used by the random number generator;\n",
    "- the number of steps is the number of euler integration steps performed by the model during each forward and backward pass;\n",
    "- the number of hidden neurons is the number of neurons that will be used in the hidden layer of the model;\n",
    "- dt is the time step of the euler integration;"
   ],
   "metadata": {
    "collapsed": false,
    "pycharm": {
     "name": "#%% md\n"
    }
   }
  },
  {
   "cell_type": "code",
   "execution_count": 4,
   "outputs": [],
   "source": [
    "# Training parameters\n",
    "n_iterations = 50\n",
    "batch_size = 256  # Increase this if you have a GPU with more memory and decrease it otherwise.\n",
    "learning_rate = 2e-4\n",
    "seed = 42\n",
    "\n",
    "# Network parameters\n",
    "n_steps = 100\n",
    "n_hidden_neurons = 256\n",
    "dt = 1e-3"
   ],
   "metadata": {
    "collapsed": false,
    "pycharm": {
     "name": "#%%\n"
    }
   }
  },
  {
   "cell_type": "code",
   "execution_count": 5,
   "outputs": [
    {
     "data": {
      "text/plain": "<torch._C.Generator at 0x22382446e70>"
     },
     "execution_count": 5,
     "metadata": {},
     "output_type": "execute_result"
    }
   ],
   "source": [
    "torch.manual_seed(seed)"
   ],
   "metadata": {
    "collapsed": false,
    "pycharm": {
     "name": "#%%\n"
    }
   }
  },
  {
   "cell_type": "markdown",
   "source": [
    "\n",
    "Here is an exemple of the Heidelberg dataset:\n",
    "![Heidelberg_exemples](images/heidelberg_exemples.png)"
   ],
   "metadata": {
    "collapsed": false,
    "pycharm": {
     "name": "#%% md\n"
    }
   }
  },
  {
   "cell_type": "code",
   "execution_count": 6,
   "outputs": [],
   "source": [
    "dataloaders = get_dataloaders(\n",
    "\tbatch_size=batch_size,\n",
    "\ttrain_val_split_ratio=0.95,\n",
    ")"
   ],
   "metadata": {
    "collapsed": false,
    "pycharm": {
     "name": "#%%\n"
    }
   }
  },
  {
   "cell_type": "markdown",
   "source": [
    "We can finally define our model. The sequential model is a neural network that is composed of a list of layers. The list of layers is ordered and the first layer is the input layer. The last layer is the output layer. The sequential model can be found in the subpackage `neurotorch.modules`. Note that we can specify the input transform that will be applied to the input data before the forward pass through the list of layers. If the transformation is computationally expensive, it is recommended to put it in the dataloaders instead of the model for the training. Usually the input transform in the model is used when the model is used for inference."
   ],
   "metadata": {
    "collapsed": false,
    "pycharm": {
     "name": "#%% md\n"
    }
   }
  },
  {
   "cell_type": "code",
   "execution_count": 7,
   "outputs": [],
   "source": [
    "network = SequentialModel(\n",
    "\tlayers=[\n",
    "\t\tSpyLIFLayer(\n",
    "\t\t\tinput_size=nt.Size([\n",
    "\t\t\t\tDimension(None, DimensionProperty.TIME),\n",
    "\t\t\t\tDimension(dataloaders[\"test\"].dataset.n_units, DimensionProperty.NONE)\n",
    "\t\t\t]),\n",
    "\t\t\toutput_size=n_hidden_neurons,\n",
    "\t\t\tuse_recurrent_connection=True,\n",
    "\t\t\tspike_func=HeavisideSigmoidApprox,\n",
    "\t\t\tdt=dt,\n",
    "\t\t\tspikes_regularization_factor=1e-6,\n",
    "\t\t),\n",
    "\t\tSpyLILayer(dt=dt, output_size=dataloaders[\"test\"].dataset.n_classes),\n",
    "\t],\n",
    "\tname=f\"heidelberg_network\",\n",
    "\tcheckpoint_folder=checkpoint_folder,\n",
    ")"
   ],
   "metadata": {
    "collapsed": false,
    "pycharm": {
     "name": "#%%\n"
    }
   }
  },
  {
   "cell_type": "markdown",
   "source": [
    "After the instantiation of the model, we have to build it, so it can infer the missing sizes of the layers in the model and create the tensors that will be used during the training."
   ],
   "metadata": {
    "collapsed": false,
    "pycharm": {
     "name": "#%% md\n"
    }
   }
  },
  {
   "cell_type": "code",
   "execution_count": 8,
   "outputs": [
    {
     "name": "stdout",
     "output_type": "stream",
     "text": [
      "SequentialModel(\n",
      "  (input_layers): ModuleDict(\n",
      "    (input_0): SpyLIFLayer<input_0>(700->256)[LearningType.BPTT]\n",
      "  )\n",
      "  (hidden_layers): ModuleList()\n",
      "  (output_layers): ModuleDict(\n",
      "    (output_0): SpyLILayer<output_0>(256->20)[LearningType.BPTT]\n",
      "  )\n",
      ")\n"
     ]
    }
   ],
   "source": [
    "network.build()\n",
    "print(network)"
   ],
   "metadata": {
    "collapsed": false,
    "pycharm": {
     "name": "#%%\n"
    }
   }
  },
  {
   "cell_type": "code",
   "execution_count": 9,
   "outputs": [],
   "source": [
    "regularization = RegularizationList([\n",
    "\tL2(network.parameters(), Lambda=1e-5),\n",
    "\tL1(network.parameters(), Lambda=1e-6),\n",
    "])"
   ],
   "metadata": {
    "collapsed": false,
    "pycharm": {
     "name": "#%%\n"
    }
   }
  },
  {
   "cell_type": "markdown",
   "source": [
    "## Training"
   ],
   "metadata": {
    "collapsed": false,
    "pycharm": {
     "name": "#%% md\n"
    }
   }
  },
  {
   "cell_type": "markdown",
   "source": [
    "In the next cell, we create the trainer that will be used to trained our network. They are several types of trainers that can be found in the subpackage `neurotorch.trainers` like the `ClassificationTrainer`, the `RegressionTrainer` or the `PPOTrainer`. In this tutorial, we will use the `ClassificationTrainer` because we are trying to classify some images. Note that the callbacks are some object that will be called during the training. They are found in the subpackage `neurotorch.callbacks` like the `CheckpointManager`."
   ],
   "metadata": {
    "collapsed": false,
    "pycharm": {
     "name": "#%% md\n"
    }
   }
  },
  {
   "cell_type": "code",
   "execution_count": 10,
   "outputs": [],
   "source": [
    "trainer = ClassificationTrainer(\n",
    "\tmodel=network,\n",
    "\tregularization=regularization,\n",
    "\toptimizer=torch.optim.Adam(network.parameters(), lr=learning_rate, weight_decay=0.0),\n",
    "\tregularization_optimizer=torch.optim.SGD(regularization.parameters(), lr=1e-2, weight_decay=0.0),\n",
    "\tcallbacks=checkpoint_manager,\n",
    "\tverbose=True,\n",
    ")"
   ],
   "metadata": {
    "collapsed": false,
    "pycharm": {
     "name": "#%%\n"
    }
   }
  },
  {
   "cell_type": "markdown",
   "source": [
    "The training will start! Let's see how our simple network will perform on this task.\n",
    "\n",
    "Note: the argument `force_overwrite` is used to overwrite the existing checkpoint if it exists and the argument `load_checkpoint_mode` if the model will be loaded from the last checkpoint (`LoadCheckpointMode.LAST_ITR`) or from the best checkpoint (`LoadCheckpointMode.BEST_ITR`). The loading mode is really useful when you want to stop the training and restart it later."
   ],
   "metadata": {
    "collapsed": false,
    "pycharm": {
     "name": "#%% md\n"
    }
   }
  },
  {
   "cell_type": "code",
   "execution_count": 11,
   "outputs": [
    {
     "data": {
      "text/plain": "Training:   0%|          | 0/50 [00:00<?, ?itr/s]",
      "application/vnd.jupyter.widget-view+json": {
       "version_major": 2,
       "version_minor": 0,
       "model_id": "de84a6e839e34a1cb6a95c661ad7418b"
      }
     },
     "metadata": {},
     "output_type": "display_data"
    }
   ],
   "source": [
    "training_history = trainer.train(\n",
    "\tdataloaders[\"train\"],\n",
    "\tdataloaders[\"val\"],\n",
    "\tn_iterations=n_iterations,\n",
    "\tload_checkpoint_mode=LoadCheckpointMode.LAST_ITR,\n",
    "\t# force_overwrite=True,\n",
    ")"
   ],
   "metadata": {
    "collapsed": false,
    "pycharm": {
     "name": "#%%\n"
    }
   }
  },
  {
   "cell_type": "markdown",
   "source": [
    "The training is finished! Let's see how our network learned over the iterations.\n",
    "\n",
    "Note: the next graphs are really useful to see if the model overfit or underfit the data over the iterations. It's why you can use the callback `TrainingHistoryVisualizationCallback` to see those graphs in real time."
   ],
   "metadata": {
    "collapsed": false,
    "pycharm": {
     "name": "#%% md\n"
    }
   }
  },
  {
   "cell_type": "code",
   "execution_count": 12,
   "outputs": [
    {
     "data": {
      "text/plain": "<Figure size 1152x864 with 6 Axes>",
      "image/png": "[encoded data removed]"
     },
     "metadata": {
      "needs_background": "light"
     },
     "output_type": "display_data"
    },
    {
     "data": {
      "text/plain": "(<Figure size 1152x864 with 6 Axes>,\n {'losses': <AxesSubplot:xlabel='Iterations [-]', ylabel='Loss [-]'>,\n  'val_f1': <AxesSubplot:xlabel='Iterations [-]'>,\n  'train_f1': <AxesSubplot:xlabel='Iterations [-]'>,\n  'val_accuracy': <AxesSubplot:xlabel='Iterations [-]'>,\n  'train_accuracy': <AxesSubplot:xlabel='Iterations [-]'>,\n  'val_recall': <AxesSubplot:xlabel='Iterations [-]'>,\n  'train_recall': <AxesSubplot:xlabel='Iterations [-]'>,\n  'val_precision': <AxesSubplot:xlabel='Iterations [-]'>,\n  'train_precision': <AxesSubplot:xlabel='Iterations [-]'>},\n {'train_loss': <matplotlib.lines.Line2D at 0x225a5dc7070>,\n  'val_loss': <matplotlib.lines.Line2D at 0x225a5dc7370>,\n  'val_f1': <matplotlib.lines.Line2D at 0x225a5dcc6a0>,\n  'train_f1': <matplotlib.lines.Line2D at 0x225a5dcc9a0>,\n  'val_accuracy': <matplotlib.lines.Line2D at 0x225a5dd8df0>,\n  'train_accuracy': <matplotlib.lines.Line2D at 0x225a5dd8f40>,\n  'val_recall': <matplotlib.lines.Line2D at 0x225a5de83d0>,\n  'train_recall': <matplotlib.lines.Line2D at 0x225a5de86d0>,\n  'val_precision': <matplotlib.lines.Line2D at 0x225a5df1970>,\n  'train_precision': <matplotlib.lines.Line2D at 0x225a5df1c70>})"
     },
     "execution_count": 12,
     "metadata": {},
     "output_type": "execute_result"
    }
   ],
   "source": [
    "training_history.plot(show=True)"
   ],
   "metadata": {
    "collapsed": false,
    "pycharm": {
     "name": "#%%\n"
    }
   }
  },
  {
   "cell_type": "markdown",
   "source": [
    "We can load the model at the best or the last iteration for the testing phase."
   ],
   "metadata": {
    "collapsed": false,
    "pycharm": {
     "name": "#%% md\n"
    }
   }
  },
  {
   "cell_type": "code",
   "execution_count": 13,
   "outputs": [
    {
     "name": "stderr",
     "output_type": "stream",
     "text": [
      "INFO:root:Loading checkpoint from ./checkpoints/network-itr47.pth\n"
     ]
    },
    {
     "data": {
      "text/plain": "{'itr': 47,\n 'model_state_dict': OrderedDict([('input_layers.input_0.forward_weights',\n               tensor([[ 1.0295e-02,  3.7220e-03,  9.9352e-03,  ...,  2.0996e-02,\n                        -1.2001e-02, -1.6477e-02],\n                       [ 1.9438e-02,  1.2986e-02,  1.9934e-04,  ...,  6.1004e-02,\n                         2.6583e-03, -8.7429e-03],\n                       [ 6.6165e-03, -2.0123e-02, -5.4170e-03,  ...,  8.6475e-02,\n                         6.5242e-03, -1.0402e-02],\n                       ...,\n                       [ 1.4736e-02,  3.9630e-03,  3.1623e-05,  ...,  3.4016e-03,\n                         1.5660e-02,  1.0776e-02],\n                       [ 5.4692e-03,  1.0856e-02, -1.0216e-02,  ..., -1.5946e-03,\n                         7.0998e-03,  2.2216e-02],\n                       [ 6.6158e-03,  3.7082e-03, -6.0342e-03,  ..., -1.3855e-02,\n                         5.4282e-03,  2.2801e-02]], device='cuda:0')),\n              ('input_layers.input_0.recurrent_weights',\n               tensor([[ 0.0112,  0.0030,  0.0016,  ..., -0.0450,  0.0034, -0.0129],\n                       [-0.0517,  0.0509, -0.0225,  ...,  0.0218, -0.0149, -0.0260],\n                       [-0.0089,  0.0081, -0.0158,  ..., -0.0170, -0.0121, -0.0186],\n                       ...,\n                       [-0.0003,  0.0026, -0.0138,  ...,  0.0514, -0.0259,  0.0006],\n                       [-0.0074,  0.0083,  0.0097,  ..., -0.0085,  0.0074,  0.0041],\n                       [-0.0185, -0.0477, -0.0145,  ..., -0.0552,  0.0094,  0.0012]],\n                      device='cuda:0')),\n              ('output_layers.output_0.forward_weights',\n               tensor([[ 0.0069,  0.0269, -0.0632,  ..., -0.0542, -0.0049,  0.0094],\n                       [-0.0210,  0.0282,  0.0292,  ..., -0.0443,  0.0871, -0.0553],\n                       [ 0.0205, -0.0128,  0.0034,  ..., -0.0044,  0.0037,  0.0044],\n                       ...,\n                       [-0.0263, -0.1313,  0.0475,  ..., -0.0221, -0.0499, -0.1007],\n                       [-0.0176, -0.0249, -0.0077,  ..., -0.0010,  0.0046, -0.0047],\n                       [ 0.0249,  0.0199,  0.0681,  ...,  0.0100, -0.0470,  0.0446]],\n                      device='cuda:0'))]),\n 'optimizer_state_dict': {'state': {0: {'step': tensor(1488., device='cuda:0'),\n    'exp_avg': tensor([[ 1.0204e-05,  1.9241e-05,  6.8776e-08,  ...,  1.6334e-05,\n              4.7742e-08, -1.5138e-05],\n            [ 5.1303e-06,  3.1913e-05,  6.0126e-08,  ..., -1.0211e-05,\n              6.3648e-08,  9.6572e-06],\n            [ 4.3785e-05,  1.0666e-05,  8.3681e-08,  ..., -3.2621e-05,\n              2.0774e-08,  3.6568e-07],\n            ...,\n            [ 9.3651e-04,  1.3412e-04,  1.4454e-07,  ..., -8.7830e-05,\n              1.4059e-07,  2.0776e-04],\n            [ 7.8605e-04,  1.4119e-04,  1.5250e-07,  ..., -6.4784e-05,\n              1.5109e-07,  2.0918e-04],\n            [ 9.4886e-04,  1.7229e-04,  1.3027e-07,  ..., -1.9728e-05,\n              7.8090e-08,  2.0140e-04]], device='cuda:0'),\n    'exp_avg_sq': tensor([[6.2013e-08, 1.4557e-08, 6.3755e-10,  ..., 1.2901e-08, 1.1594e-10,\n             1.4431e-08],\n            [6.3206e-08, 1.5806e-08, 6.1408e-10,  ..., 1.1334e-08, 3.8516e-10,\n             1.6847e-08],\n            [7.5828e-08, 8.9967e-09, 6.8825e-10,  ..., 1.2916e-08, 1.8102e-10,\n             1.9133e-08],\n            ...,\n            [6.3344e-06, 1.9266e-06, 8.9334e-09,  ..., 6.9360e-07, 1.2120e-08,\n             2.5380e-06],\n            [6.6022e-06, 1.7862e-06, 9.6187e-09,  ..., 6.1669e-07, 1.0201e-08,\n             2.2565e-06],\n            [5.3736e-06, 1.7612e-06, 6.8896e-09,  ..., 6.3865e-07, 8.1420e-09,\n             2.2326e-06]], device='cuda:0')},\n   1: {'step': tensor(1488., device='cuda:0'),\n    'exp_avg': tensor([[ 7.9971e-04,  1.7033e-04,  3.5248e-07,  ..., -1.3878e-05,\n              3.0241e-07,  1.8748e-04],\n            [ 9.8403e-05,  1.4238e-04,  1.0039e-07,  ..., -5.4451e-05,\n              1.0133e-07, -2.6871e-05],\n            [ 5.6052e-45,  5.6052e-45,  5.6052e-45,  ...,  5.6052e-45,\n              5.6052e-45, -5.6052e-45],\n            ...,\n            [ 2.5336e-04,  2.2543e-05,  6.7061e-08,  ..., -1.7713e-05,\n              1.2109e-07, -8.1182e-06],\n            [ 5.6052e-45,  5.6052e-45, -5.6052e-45,  ...,  5.6052e-45,\n              5.6052e-45, -5.6052e-45],\n            [ 5.5510e-04,  1.3994e-05,  5.3130e-07,  ..., -5.2179e-07,\n              4.8468e-07,  1.8881e-04]], device='cuda:0'),\n    'exp_avg_sq': tensor([[1.5579e-06, 7.6443e-07, 4.5408e-08,  ..., 2.5853e-07, 1.5645e-08,\n             1.3948e-06],\n            [1.0504e-07, 3.1334e-07, 1.2898e-09,  ..., 6.6079e-08, 2.4385e-09,\n             1.1050e-07],\n            [2.0392e-08, 9.5479e-10, 7.8886e-09,  ..., 5.1359e-12, 1.2540e-08,\n             2.6488e-08],\n            ...,\n            [5.3356e-07, 8.8276e-08, 1.6201e-10,  ..., 2.0958e-07, 5.1345e-12,\n             2.9405e-07],\n            [7.6018e-09, 1.0852e-09, 9.3001e-10,  ..., 3.1915e-14, 2.5072e-09,\n             9.3440e-10],\n            [1.1373e-05, 2.4835e-07, 5.7659e-08,  ..., 6.0150e-08, 1.2524e-08,\n             5.4910e-07]], device='cuda:0')},\n   2: {'step': tensor(1488., device='cuda:0'),\n    'exp_avg': tensor([[ 5.1899e-02, -6.9210e-02,  8.2447e-03,  ..., -2.9569e-03,\n              4.6382e-03, -7.0005e-03],\n            [ 4.7043e-05, -3.8060e-03,  1.3208e-05,  ..., -4.8376e-04,\n              9.8658e-03,  1.5062e-03],\n            [-5.6052e-45,  5.6052e-45, -5.6052e-45,  ..., -5.6052e-45,\n              5.6052e-45,  5.6052e-45],\n            ...,\n            [ 2.0201e-03,  1.0916e-03,  1.0211e-03,  ..., -3.5365e-03,\n              1.3238e-04, -6.0121e-05],\n            [ 5.6052e-45,  5.6052e-45,  5.6052e-45,  ...,  5.6052e-45,\n              5.6052e-45,  5.6052e-45],\n            [ 5.5183e-02, -9.3850e-02,  3.3004e-02,  ..., -2.1045e-02,\n              4.0657e-04, -7.9058e-03]], device='cuda:0'),\n    'exp_avg_sq': tensor([[1.4119e-02, 1.8532e-02, 2.0705e-03,  ..., 2.3287e-03, 3.1135e-03,\n             2.7739e-02],\n            [2.7233e-05, 3.9081e-04, 7.5314e-05,  ..., 2.8047e-05, 2.3123e-03,\n             1.1239e-04],\n            [9.8399e-05, 5.1186e-06, 1.8416e-04,  ..., 1.1763e-04, 2.6964e-04,\n             1.7181e-06],\n            ...,\n            [2.4340e-04, 3.8744e-05, 4.2794e-04,  ..., 5.3341e-04, 1.6302e-05,\n             2.9105e-05],\n            [2.4043e-05, 8.9727e-06, 2.0038e-05,  ..., 6.6495e-05, 1.1275e-04,\n             8.2291e-07],\n            [5.0337e-02, 4.3973e-02, 1.3875e-02,  ..., 1.8384e-02, 3.3745e-04,\n             7.4609e-02]], device='cuda:0')}},\n  'param_groups': [{'lr': 0.0002,\n    'betas': (0.9, 0.999),\n    'eps': 1e-08,\n    'weight_decay': 0.0,\n    'amsgrad': False,\n    'maximize': False,\n    'foreach': None,\n    'capturable': False,\n    'params': [0, 1, 2]}]},\n 'metrics': {'train_loss': 0.4210382815330259,\n  'val_loss': 0.6007713973522186,\n  'train_accuracy': 0.9313371192565824,\n  'train_precision': 0.9340830449861303,\n  'train_recall': 0.9319635081166051,\n  'train_f1': 0.9303667288053841,\n  'val_accuracy': 0.8602941176470589,\n  'val_precision': 0.863606935261734,\n  'val_recall': 0.8621828630873422,\n  'val_f1': 0.854696378118817},\n 'training_history': <neurotorch.callbacks.history.TrainingHistory at 0x225a5eb0bb0>}"
     },
     "execution_count": 13,
     "metadata": {},
     "output_type": "execute_result"
    }
   ],
   "source": [
    "network.load_checkpoint(checkpoint_manager.checkpoints_meta_path, LoadCheckpointMode.BEST_ITR, verbose=True)"
   ],
   "metadata": {
    "collapsed": false,
    "pycharm": {
     "name": "#%%\n"
    }
   }
  },
  {
   "cell_type": "markdown",
   "source": [
    "We can now see how our network perform on the test dataset."
   ],
   "metadata": {
    "collapsed": false,
    "pycharm": {
     "name": "#%% md\n"
    }
   }
  },
  {
   "cell_type": "code",
   "execution_count": 14,
   "outputs": [
    {
     "data": {
      "text/plain": "train predictions:   0%|          | 0/31 [00:00<?, ?it/s]",
      "application/vnd.jupyter.widget-view+json": {
       "version_major": 2,
       "version_minor": 0,
       "model_id": "d9924ab0a9014548b453f62a4c529197"
      }
     },
     "metadata": {},
     "output_type": "display_data"
    },
    {
     "data": {
      "text/plain": "val predictions:   0%|          | 0/2 [00:00<?, ?it/s]",
      "application/vnd.jupyter.widget-view+json": {
       "version_major": 2,
       "version_minor": 0,
       "model_id": "9940ec6b50ed4f7a9df7da26a0f3c0d9"
      }
     },
     "metadata": {},
     "output_type": "display_data"
    },
    {
     "data": {
      "text/plain": "test predictions:   0%|          | 0/9 [00:00<?, ?it/s]",
      "application/vnd.jupyter.widget-view+json": {
       "version_major": 2,
       "version_minor": 0,
       "model_id": "e441612da860405d9ca973bef58c9c58"
      }
     },
     "metadata": {},
     "output_type": "display_data"
    }
   ],
   "source": [
    "predictions = {\n",
    "\tk: ClassificationMetrics.compute_y_true_y_pred(network, dataloader, verbose=True, desc=f\"{k} predictions\")\n",
    "\tfor k, dataloader in dataloaders.items()\n",
    "}"
   ],
   "metadata": {
    "collapsed": false,
    "pycharm": {
     "name": "#%%\n"
    }
   }
  },
  {
   "cell_type": "code",
   "execution_count": 15,
   "outputs": [
    {
     "name": "stdout",
     "output_type": "stream",
     "text": [
      "{'test': 0.7128975265017667,\n",
      " 'train': 0.9313371192565824,\n",
      " 'val': 0.8602941176470589}\n"
     ]
    }
   ],
   "source": [
    "accuracies = {\n",
    "\tk: ClassificationMetrics.accuracy(network, y_true=y_true, y_pred=y_pred)\n",
    "\tfor k, (y_true, y_pred) in predictions.items()\n",
    "}\n",
    "pprint.pprint(accuracies)"
   ],
   "metadata": {
    "collapsed": false,
    "pycharm": {
     "name": "#%%\n"
    }
   }
  },
  {
   "cell_type": "markdown",
   "source": [
    "Let's see the results on other popular classification metrics."
   ],
   "metadata": {
    "collapsed": false,
    "pycharm": {
     "name": "#%% md\n"
    }
   }
  },
  {
   "cell_type": "code",
   "execution_count": 16,
   "outputs": [],
   "source": [
    "precisions = {\n",
    "\tk: ClassificationMetrics.precision(network, y_true=y_true, y_pred=y_pred)\n",
    "\tfor k, (y_true, y_pred) in predictions.items()\n",
    "}\n",
    "recalls = {\n",
    "\tk: ClassificationMetrics.recall(network, y_true=y_true, y_pred=y_pred)\n",
    "\tfor k, (y_true, y_pred) in predictions.items()\n",
    "}\n",
    "f1s = {\n",
    "\tk: ClassificationMetrics.f1(network, y_true=y_true, y_pred=y_pred)\n",
    "\tfor k, (y_true, y_pred) in predictions.items()\n",
    "}"
   ],
   "metadata": {
    "collapsed": false,
    "pycharm": {
     "name": "#%%\n"
    }
   }
  },
  {
   "cell_type": "code",
   "execution_count": 17,
   "outputs": [],
   "source": [
    "results = OrderedDict(dict(\n",
    "\tnetwork=network,\n",
    "\taccuracies=accuracies,\n",
    "\tprecisions=precisions,\n",
    "\trecalls=recalls,\n",
    "\tf1s=f1s,\n",
    "))"
   ],
   "metadata": {
    "collapsed": false,
    "pycharm": {
     "name": "#%%\n"
    }
   }
  },
  {
   "cell_type": "code",
   "execution_count": 18,
   "outputs": [
    {
     "name": "stdout",
     "output_type": "stream",
     "text": [
      "OrderedDict([   (   'network',\n",
      "                    SequentialModel(\n",
      "  (input_layers): ModuleDict(\n",
      "    (input_0): SpyLIFLayer<input_0>(700->256)[LearningType.BPTT]\n",
      "  )\n",
      "  (hidden_layers): ModuleList()\n",
      "  (output_layers): ModuleDict(\n",
      "    (output_0): SpyLILayer<output_0>(256->20)[LearningType.BPTT]\n",
      "  )\n",
      ")),\n",
      "                (   'accuracies',\n",
      "                    {   'test': 0.7128975265017667,\n",
      "                        'train': 0.9313371192565824,\n",
      "                        'val': 0.8602941176470589}),\n",
      "                (   'precisions',\n",
      "                    {   'test': 0.7239525800442407,\n",
      "                        'train': 0.9340830449861303,\n",
      "                        'val': 0.863606935261734}),\n",
      "                (   'recalls',\n",
      "                    {   'test': 0.7061738990309107,\n",
      "                        'train': 0.9319635081166051,\n",
      "                        'val': 0.8621828630873422}),\n",
      "                (   'f1s',\n",
      "                    {   'test': 0.6993508482613914,\n",
      "                        'train': 0.9303667288053841,\n",
      "                        'val': 0.854696378118817})])\n"
     ]
    }
   ],
   "source": [
    "pprint.pprint(results, indent=4)"
   ],
   "metadata": {
    "collapsed": false,
    "pycharm": {
     "name": "#%%\n"
    }
   }
  },
  {
   "cell_type": "markdown",
   "source": [
    "This is the end of the tutorial!"
   ],
   "metadata": {
    "collapsed": false,
    "pycharm": {
     "name": "#%% md\n"
    }
   }
  },
  {
   "cell_type": "markdown",
   "source": [
    "# Conclusion\n",
    "\n",
    "NeuroTorch is a library that allows you to easily build neural networks and train them. Moreover, it allows you to do audio signal classification using dynamics from neurosciences."
   ],
   "metadata": {
    "collapsed": false,
    "pycharm": {
     "name": "#%% md\n"
    }
   }
  },
  {
   "cell_type": "code",
   "execution_count": 18,
   "outputs": [],
   "source": [],
   "metadata": {
    "collapsed": false,
    "pycharm": {
     "name": "#%%\n"
    }
   }
  }
 ],
 "metadata": {
  "kernelspec": {
   "display_name": "Python 3",
   "language": "python",
   "name": "python3"
  },
  "language_info": {
   "codemirror_mode": {
    "name": "ipython",
    "version": 2
   },
   "file_extension": ".py",
   "mimetype": "text/x-python",
   "name": "python",
   "nbconvert_exporter": "python",
   "pygments_lexer": "ipython2",
   "version": "2.7.6"
  }
 },
 "nbformat": 4,
 "nbformat_minor": 0
}