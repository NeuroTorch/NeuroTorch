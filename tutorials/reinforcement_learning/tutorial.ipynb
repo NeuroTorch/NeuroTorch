{
 "cells": [
  {
   "cell_type": "markdown",
   "metadata": {},
   "source": [
    "# Reinforcement Learning Tutorial"
   ]
  },
  {
   "cell_type": "markdown",
   "metadata": {},
   "source": [
    "**This tutorial was tested with the version `0.0.1-beta0` of NeuroTorch.**"
   ]
  },
  {
   "cell_type": "markdown",
   "metadata": {},
   "source": [
    "<table class=\"nt-notebook-buttons\" align=\"center\">\n",
    "  <td>\n",
    "    <a target=\"_blank\" href=\"https://NeuroTorch.github.io/NeuroTorch/\"><img src=\"https://github.com/NeuroTorch/NeuroTorch/blob/main/images/neurotorch_logo_32px.png?raw=true\" width=32px height=32px  />Documentation</a>\n",
    "  </td>\n",
    "  <td>\n",
    "    <a target=\"_blank\" href=\"https://colab.research.google.com/github/NeuroTorch/NeuroTorch/blob/main/tutorials/reinforcement_learning/tutorial.ipynb\"><img src=\"https://github.com/NeuroTorch/NeuroTorch/blob/main/images/colab_logo_32px.png?raw=true\" width=32px height=32px  />Run in Google Colab</a>\n",
    "</td>\n",
    "  <td>\n",
    "    <a target=\"_blank\" href=\"https://github.com/NeuroTorch/NeuroTorch/blob/main/tutorials/reinforcement_learning/tutorial.ipynb\"><img src=\"https://github.githubassets.com/images/modules/logos_page/GitHub-Mark.png\" width=32px height=32px />View source on GitHub</a>\n",
    "  </td>\n",
    "  <td>\n",
    "    <a href=\"https://storage.googleapis.com/NeuroTorch/NeuroTorch/blob/main/tutorials/reinforcement_learning/tutorial.ipynb\"><img src=\"https://github.com/NeuroTorch/NeuroTorch/blob/main/images/download_logo_32px.png?raw=true\" width=32px height=32px />Download notebook</a>\n",
    "  </td>\n",
    "</table>"
   ]
  },
  {
   "cell_type": "markdown",
   "metadata": {},
   "source": [
    "### **Warning**\n",
    "\n",
    "The reinforcement pipeline is currently under development and there are several issues to fix at this time. If you change the environment to one with continuous action, you may notice an error where the actions result in a bunch of NaN. If you think you know what cause it, please communicate with us. In addition, with discrete actions, the PPO algorithm doesn't seem to converge with good cumulative rewards every time and the test cumulative rewards don't seem to match the train one. Again, if you think you know what cause this instability, please communicate with us. We are sorry for this inconvenient, and thank you for your patience."
   ]
  },
  {
   "cell_type": "markdown",
   "metadata": {},
   "source": [
    "In this tutorial we will be learning how to use NeuroTorch to train an agent in a [gym](https://www.gymlibrary.dev/content/basic_usage/) environment."
   ]
  },
  {
   "cell_type": "markdown",
   "metadata": {},
   "source": [
    "## Setup"
   ]
  },
  {
   "cell_type": "markdown",
   "metadata": {},
   "source": [
    "You can now install the dependencies by running the following commands:"
   ]
  },
  {
   "cell_type": "code",
   "execution_count": null,
   "metadata": {},
   "outputs": [],
   "source": [
    "#@title Install dependencies {display-mode: \"form\"}\n",
    "\n",
    "RunningInCOLAB = 'google.colab' in str(get_ipython()) if hasattr(__builtins__,'__IPYTHON__') else False\n",
    "\n",
    "!pip install git+https://github.com/NeuroTorch/NeuroTorch.git@rl\n",
    "# !pip install neurotorch\n",
    "!pip install pythonbasictools\n",
    "!pip install unstable\n",
    "!pip install gym[box2d]==0.26.2"
   ]
  },
  {
   "cell_type": "markdown",
   "metadata": {},
   "source": [
    "If you have a cuda device and want to use it for this tutorial (it is recommended to do so), you can uninstall pytorch with `pip uninstall torch` and re-install it with the right cuda version by generating a command with [PyTorch GetStarted](https://pytorch.org/get-started/locally/) web page."
   ]
  },
  {
   "cell_type": "markdown",
   "metadata": {},
   "source": [
    "After setting up the virtual environment, we will need to import the necessary packages."
   ]
  },
  {
   "cell_type": "code",
   "execution_count": null,
   "metadata": {},
   "outputs": [],
   "source": [
    "import gym\n",
    "import numpy as np\n",
    "import torch.nn\n",
    "\n",
    "from pythonbasictools.device import log_device_setup, DeepLib\n",
    "from pythonbasictools.logging import logs_file_setup\n",
    "\n",
    "import neurotorch as nt\n",
    "from neurotorch.rl.agent import Agent\n",
    "from neurotorch.rl.rl_academy import RLAcademy\n",
    "from neurotorch.rl.utils import TrajectoryRenderer, space_to_continuous_shape\n",
    "from neurotorch.transforms.spikes_encoders import SpikesEncoder"
   ]
  },
  {
   "cell_type": "code",
   "execution_count": null,
   "metadata": {
    "pycharm": {
     "is_executing": true
    }
   },
   "outputs": [],
   "source": [
    "logs_file_setup(\"rl_tutorial\", add_stdout=False)\n",
    "log_device_setup(deepLib=DeepLib.Pytorch)\n",
    "if torch.cuda.is_available():\n",
    "\ttorch.cuda.set_per_process_memory_fraction(0.8)"
   ]
  },
  {
   "cell_type": "markdown",
   "metadata": {},
   "source": [
    "## Initialization"
   ]
  },
  {
   "cell_type": "code",
   "execution_count": null,
   "metadata": {
    "pycharm": {
     "is_executing": true
    }
   },
   "outputs": [],
   "source": [
    "# env parameters\n",
    "env_id = \"LunarLander-v2\"\n",
    "\n",
    "# Network parameters\n",
    "use_spiking_policy = True  # Type of the policy\n",
    "n_hidden_units = 128\n",
    "n_critic_hidden_units = 128\n",
    "\n",
    "# Trainer parameters\n",
    "n_iterations = 100\n",
    "n_epochs = 30\n",
    "n_new_trajectories = 10"
   ]
  },
  {
   "cell_type": "code",
   "execution_count": null,
   "metadata": {},
   "outputs": [],
   "source": [
    "env = gym.vector.make(env_id, num_envs=10, render_mode=\"rgb_array\")"
   ]
  },
  {
   "cell_type": "markdown",
   "metadata": {},
   "source": [
    "Here we're initializing a callback of the trainer used to save the network during the training."
   ]
  },
  {
   "cell_type": "code",
   "execution_count": null,
   "metadata": {
    "pycharm": {
     "is_executing": true
    }
   },
   "outputs": [],
   "source": [
    "if use_spiking_policy:\n",
    "    checkpoint_folder = f\"data/tr_data/checkpoints_{env_id}_snn-policy\"\n",
    "else:\n",
    "    checkpoint_folder = f\"data/tr_data/checkpoints_{env_id}_default-policy\"\n",
    "checkpoint_manager = nt.CheckpointManager(\n",
    "    checkpoint_folder=checkpoint_folder,\n",
    "    save_freq=10,\n",
    "    metric=RLAcademy.CUM_REWARDS_METRIC_KEY,\n",
    "    minimise_metric=False,\n",
    "    save_best_only=True,\n",
    ")"
   ]
  },
  {
   "cell_type": "markdown",
   "metadata": {},
   "source": [
    "Here, we are initializing the learning algorithm that will be used to train the agent. For now, this learning algorithm it's the popular [Proximal Policy Optimisation](https://arxiv.org/pdf/1707.06347.pdf) from OpenAI."
   ]
  },
  {
   "cell_type": "code",
   "execution_count": null,
   "metadata": {
    "pycharm": {
     "is_executing": true
    }
   },
   "outputs": [],
   "source": [
    "ppo_la = nt.rl.PPO(\n",
    "    tau=0.0,\n",
    "    critic_weight=0.5,\n",
    "    entropy_weight=0.01,\n",
    "    gae_lambda=1.0,\n",
    "    default_critic_lr=1e-3,\n",
    "    default_policy_lr=5e-4,\n",
    "    critic_criterion=torch.nn.SmoothL1Loss(),\n",
    "    clip_ratio=0.2,\n",
    "    critic_clip=0.2,\n",
    ")"
   ]
  },
  {
   "cell_type": "markdown",
   "metadata": {},
   "source": [
    "It is now the time to define our policy. For short, the policy is the model that will be used to take the actions in the environment. The critic is the model used to estimate the rewards-to-go of the states that the agent will encounter."
   ]
  },
  {
   "cell_type": "code",
   "execution_count": null,
   "metadata": {
    "pycharm": {
     "is_executing": true
    }
   },
   "outputs": [],
   "source": [
    "if use_spiking_policy:\n",
    "    policy = nt.SequentialRNN(\n",
    "        input_transform=[\n",
    "            SpikesEncoder(\n",
    "                n_steps=8,\n",
    "                n_units=space_to_continuous_shape(env.single_observation_space)[0],\n",
    "                spikes_layer_type=nt.SpyLIFLayer,\n",
    "            )\n",
    "        ],\n",
    "        layers=[\n",
    "            nt.SpyLIFLayer(\n",
    "                space_to_continuous_shape(env.single_observation_space)[0], n_hidden_units, use_recurrent_connection=False\n",
    "            ),\n",
    "            nt.SpyLILayer(n_hidden_units, space_to_continuous_shape(env.single_action_space)[0]),\n",
    "        ],\n",
    "        output_transform=[nt.transforms.ReduceMax(dim=1)],\n",
    "    ).build()\n",
    "else:\n",
    "    policy = nt.Sequential(\n",
    "        layers=[\n",
    "            torch.nn.Linear(space_to_continuous_shape(env.single_observation_space)[0], n_hidden_units),\n",
    "            torch.nn.Dropout(0.1),\n",
    "            torch.nn.PReLU(),\n",
    "            torch.nn.Linear(n_hidden_units, n_hidden_units),\n",
    "            torch.nn.Dropout(0.1),\n",
    "            torch.nn.PReLU(),\n",
    "            torch.nn.Linear(n_hidden_units, space_to_continuous_shape(env.single_action_space)[0]),\n",
    "        ]\n",
    "    ).build()"
   ]
  },
  {
   "cell_type": "markdown",
   "metadata": {},
   "source": [
    "And we're defining the agent using the policy and the critic."
   ]
  },
  {
   "cell_type": "code",
   "execution_count": null,
   "metadata": {
    "pycharm": {
     "is_executing": true
    }
   },
   "outputs": [],
   "source": [
    "agent = Agent(\n",
    "    env=env,\n",
    "    behavior_name=env_id,\n",
    "    policy=policy,\n",
    "    critic=nt.Sequential(\n",
    "        layers=[\n",
    "            torch.nn.Linear(space_to_continuous_shape(env.single_observation_space)[0], n_critic_hidden_units),\n",
    "            torch.nn.Dropout(0.1),\n",
    "            torch.nn.PReLU(),\n",
    "            torch.nn.Linear(n_critic_hidden_units, n_critic_hidden_units),\n",
    "            torch.nn.Dropout(0.1),\n",
    "            torch.nn.PReLU(),\n",
    "            torch.nn.Linear(n_critic_hidden_units, 1),\n",
    "        ]\n",
    "    ).build(),\n",
    "    checkpoint_folder=checkpoint_manager.checkpoint_folder,\n",
    ")"
   ]
  },
  {
   "cell_type": "markdown",
   "metadata": {},
   "source": [
    "Here is the RLAcademy. This is a special type of Trainer used to train the agent in a reinforcement learning pipeline."
   ]
  },
  {
   "cell_type": "code",
   "execution_count": null,
   "metadata": {
    "pycharm": {
     "is_executing": true
    }
   },
   "outputs": [],
   "source": [
    "academy = RLAcademy(\n",
    "    agent=agent,\n",
    "    callbacks=[checkpoint_manager, ppo_la],\n",
    "    normalize_rewards=False,\n",
    "    init_epsilon=0.00,\n",
    "    use_priority_buffer=True,\n",
    ")"
   ]
  },
  {
   "cell_type": "markdown",
   "metadata": {},
   "source": [
    "## Training time!"
   ]
  },
  {
   "cell_type": "markdown",
   "metadata": {},
   "source": [
    "In the next cell, we will start the actual training with the following parameter:\n",
    "\n",
    "    - `n_iterations`: The number of time the trainer will generate trajectories and will do an optimisation pass.\n",
    "    - `n_epochs`: The number of time the trainer will pass through the buffer of episodes for an optimisation pass.\n",
    "    - `n_batches`: The number of batch to do at each epoch.\n",
    "    - `n_new_trajectories`: The number of new trajectories to generate at each iteration.\n",
    "    - `batch_size`: The number of episodes for a single batch.\n",
    "    - `buffer_size`: The size of the buffer.\n",
    "    - `clear_buffer`: Wheater to clear or the the buffer before each iteration.\n",
    "    - `last_k_rewards`: The number of k previous rewards to show in the metrics."
   ]
  },
  {
   "cell_type": "code",
   "execution_count": null,
   "metadata": {
    "pycharm": {
     "is_executing": true
    }
   },
   "outputs": [],
   "source": [
    "history = academy.train(\n",
    "    env,\n",
    "    n_iterations=n_iterations,\n",
    "    n_epochs=n_epochs,\n",
    "    n_batches=-1,\n",
    "    n_new_trajectories=n_new_trajectories,\n",
    "    batch_size=4096,\n",
    "    buffer_size=np.inf,\n",
    "    clear_buffer=True,\n",
    "    randomize_buffer=True,\n",
    "    load_checkpoint_mode=nt.LoadCheckpointMode.LAST_ITR,\n",
    "    force_overwrite=False,\n",
    "    verbose=True,\n",
    "    render=False,\n",
    "    last_k_rewards=10,\n",
    ")\n",
    "if not env.closed:\n",
    "    env.close()"
   ]
  },
  {
   "cell_type": "code",
   "execution_count": null,
   "metadata": {
    "pycharm": {
     "is_executing": true
    }
   },
   "outputs": [],
   "source": [
    "history.plot(show=True)"
   ]
  },
  {
   "cell_type": "markdown",
   "metadata": {},
   "source": [
    "## Test Phase"
   ]
  },
  {
   "cell_type": "markdown",
   "metadata": {},
   "source": [
    "In the next cell, we will generate new trajectories of the agent just to see how it will perform."
   ]
  },
  {
   "cell_type": "code",
   "execution_count": null,
   "metadata": {
    "pycharm": {
     "is_executing": true
    }
   },
   "outputs": [],
   "source": [
    "agent.load_checkpoint(\n",
    "    checkpoints_meta_path=checkpoint_manager.checkpoints_meta_path,\n",
    "    load_checkpoint_mode=nt.LoadCheckpointMode.BEST_ITR\n",
    ")\n",
    "env = gym.make(env_id, render_mode=\"rgb_array\")\n",
    "agent.eval()\n",
    "gen_trajectories_out = academy.generate_trajectories(\n",
    "    n_trajectories=10, epsilon=0.0, verbose=True, env=env, render=True, re_trajectories=True,\n",
    ")\n",
    "best_trajectory_idx = np.argmax([t.cumulative_reward for t in gen_trajectories_out.trajectories])\n",
    "trajectory_renderer = TrajectoryRenderer(trajectory=gen_trajectories_out.trajectories[best_trajectory_idx], env=env)\n",
    "\n",
    "cumulative_rewards = gen_trajectories_out.cumulative_rewards\n",
    "print(f\"Buffer: {gen_trajectories_out.buffer}\")\n",
    "print(f\"Cumulative rewards: {np.nanmean(cumulative_rewards):.3f} +/- {np.nanstd(cumulative_rewards):.3f}\")\n",
    "print(f\"Best trajectory: {best_trajectory_idx}, cumulative reward: {cumulative_rewards[best_trajectory_idx]:.3f}\")\n",
    "trajectory_renderer.render()"
   ]
  },
  {
   "cell_type": "code",
   "execution_count": null,
   "metadata": {},
   "outputs": [],
   "source": [
    "trajectory_renderer.to_mp4(f\"figures/trajectory_{best_trajectory_idx}.mp4\")"
   ]
  }
 ],
 "metadata": {
  "kernelspec": {
   "display_name": "Python 3 (ipykernel)",
   "language": "python",
   "name": "python3"
  },
  "language_info": {
   "codemirror_mode": {
    "name": "ipython",
    "version": 3
   },
   "file_extension": ".py",
   "mimetype": "text/x-python",
   "name": "python",
   "nbconvert_exporter": "python",
   "pygments_lexer": "ipython3",
   "version": "3.9.12"
  }
 },
 "nbformat": 4,
 "nbformat_minor": 1
}
